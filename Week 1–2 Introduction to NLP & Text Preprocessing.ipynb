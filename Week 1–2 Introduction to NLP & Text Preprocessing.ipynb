{
 "cells": [
  {
   "cell_type": "markdown",
   "id": "4221247e-e251-46d8-bba6-9f7f8ab246c5",
   "metadata": {},
   "source": [
    "# DAY1 (19.5.25)"
   ]
  },
  {
   "cell_type": "markdown",
   "id": "3dc98c5d-4d8a-4d6e-8833-ca2e641b4694",
   "metadata": {},
   "source": [
    "# What is Natural Language Processing (NLP)?"
   ]
  },
  {
   "cell_type": "markdown",
   "id": "33bfc211-1d8a-4bf9-940b-2a03b509550c",
   "metadata": {},
   "source": [
    "Natural Language Processing (NLP) is a subfield of Artificial Intelligence (AI) and Computational Linguistics that enables machines to process, analyze, and generate human (natural) language. It involves a combination of linguistics, machine learning, and statistical methods to interpret text or speech data in a meaningful way.\n",
    "\n",
    "NLP tasks typically involve transforming raw, unstructured language data into structured representations suitable for downstream machine learning tasks. This often includes converting text into numeric feature vectors, identifying linguistic structures (syntax, semantics), and applying probabilistic models."
   ]
  },
  {
   "cell_type": "markdown",
   "id": "4065ad85-c7a6-4d00-821e-e79cc97c96ee",
   "metadata": {},
   "source": [
    "##  Core Applications and Use Cases"
   ]
  },
  {
   "cell_type": "markdown",
   "id": "95735e98-d195-4b95-b3e0-1a71daca9d12",
   "metadata": {},
   "source": [
    "1. Text Classification\n",
    "Assigning predefined categories to text documents (e.g., spam detection, sentiment analysis, topic classification) using supervised models like Naive Bayes, SVMs, or deep learning models.\n",
    "\n",
    "2. Tokenization & POS Tagging\n",
    "Breaking text into meaningful units (tokens) and tagging each word with its part of speech using models like Hidden Markov Models (HMMs) or neural   networks.\n",
    "\n",
    "3. Named Entity Recognition (NER)\n",
    "Identifying and classifying named entities (like persons, organizations, locations) using sequence models such as CRFs, BiLSTM-CRF, or Transformers (e.g., BERT-based NER).\n",
    "\n",
    "4. Language Modeling & Text Generation\n",
    "Modeling the probability distribution of word sequences for applications like autocomplete, speech synthesis, and machine translation. Common approaches include n-grams, RNNs, LSTMs, and Transformers.\n",
    "\n",
    "5. Machine Translation\n",
    "Translating text from one language to another using seq2seq models with attention mechanisms or Transformer-based architectures (e.g., Google’s T5, OpenNMT).\n",
    "\n",
    "6. Information Retrieval & Question Answering\n",
    "Retrieving relevant information or direct answers from large corpora using techniques like TF-IDF, BM25, or dense retrieval models like DPR and BERT-based QA systems."
   ]
  },
  {
   "cell_type": "code",
   "execution_count": 1,
   "id": "d35fc3a4-13c1-4c3d-a0a4-791b5ea7eb07",
   "metadata": {},
   "outputs": [
    {
     "name": "stdout",
     "output_type": "stream",
     "text": [
      "NLTK and spaCy imported successfully!\n"
     ]
    }
   ],
   "source": [
    "import nltk\n",
    "import spacy\n",
    "\n",
    "print(\"NLTK and spaCy imported successfully!\")\n"
   ]
  },
  {
   "cell_type": "markdown",
   "id": "89873f7e-8d1b-4b3c-af7e-39453e1320a5",
   "metadata": {},
   "source": [
    "# Some NLP Concepts\n",
    "\n",
    "## WordNet\n",
    "WordNet is a large lexical database of English.\n",
    "Words are grouped into synsets (sets of cognitive synonyms).\n",
    "It helps capture semantic relationships such as:\n",
    "Synonyms (words with similar meanings)\n",
    "Hypernyms (general terms)\n",
    "Hyponyms (specific terms)\n",
    "Antonyms\n",
    "Used in lemmatization and meaning-based NLP tasks.\n",
    "\n",
    "## One-Hot Encoding\n",
    "Represents each word in the vocabulary as a binary vector.\n",
    "All values are 0 except for a single 1 at the index corresponding to that word.\n",
    "Example (vocab = [“apple”, “banana”, “car”]):\n",
    "\"banana\" → [0, 1, 0]\n",
    "Limitations:\n",
    "High-dimensional (for large vocabularies)\n",
    "No information about similarity or meaning (all vectors are orthogonal)\n",
    "\n",
    "## Word Vectors\n",
    "Word vectors (a.k.a. word embeddings) represent words as dense, continuous-valued vectors.\n",
    "Unlike one-hot vectors, word vectors capture semantic similarity.\n",
    "Words with similar meaning lie closer in the vector space.\n",
    "Example:\n",
    "vector(\"king\") - vector(\"man\") + vector(\"woman\") ≈ vector(\"queen\")\n",
    "\n",
    "## Word2Vec\n",
    "A popular algorithm to learn word embeddings using shallow neural networks.\n",
    "Two main architectures:\n",
    "CBOW (Continuous Bag of Words) – Predicts the target word from surrounding context.\n",
    "Skip-Gram – Predicts context words given the target word.\n",
    "Learns from co-occurrence patterns in large corpora.\n",
    "Produces meaningful vector relationships (semantic arithmetic)."
   ]
  },
  {
   "cell_type": "code",
   "execution_count": 2,
   "id": "b761b4d1-734b-4b29-9ec8-c02d83c6fdab",
   "metadata": {},
   "outputs": [
    {
     "name": "stderr",
     "output_type": "stream",
     "text": [
      "[nltk_data] Downloading package punkt to C:\\Users\\Asus/nltk_data...\n",
      "[nltk_data]   Package punkt is already up-to-date!\n",
      "[nltk_data] Downloading package wordnet to C:\\Users\\Asus/nltk_data...\n",
      "[nltk_data]   Package wordnet is already up-to-date!\n",
      "[nltk_data] Downloading package omw-1.4 to C:\\Users\\Asus/nltk_data...\n",
      "[nltk_data]   Package omw-1.4 is already up-to-date!\n"
     ]
    },
    {
     "data": {
      "text/plain": [
       "True"
      ]
     },
     "execution_count": 2,
     "metadata": {},
     "output_type": "execute_result"
    }
   ],
   "source": [
    "import nltk\n",
    "nltk.download('punkt')\n",
    "nltk.download('wordnet')\n",
    "nltk.download('omw-1.4')\n"
   ]
  },
  {
   "cell_type": "code",
   "execution_count": 3,
   "id": "7ec88e45-9008-4485-90e2-64046ab1b434",
   "metadata": {},
   "outputs": [
    {
     "name": "stdout",
     "output_type": "stream",
     "text": [
      "Synsets of 'good': [Synset('good.n.01'), Synset('good.n.02'), Synset('good.n.03'), Synset('commodity.n.01'), Synset('good.a.01'), Synset('full.s.06'), Synset('good.a.03'), Synset('estimable.s.02'), Synset('beneficial.s.01'), Synset('good.s.06'), Synset('good.s.07'), Synset('adept.s.01'), Synset('good.s.09'), Synset('dear.s.02'), Synset('dependable.s.04'), Synset('good.s.12'), Synset('good.s.13'), Synset('effective.s.04'), Synset('good.s.15'), Synset('good.s.16'), Synset('good.s.17'), Synset('good.s.18'), Synset('good.s.19'), Synset('good.s.20'), Synset('good.s.21'), Synset('well.r.01'), Synset('thoroughly.r.02')]\n",
      "Definition: benefit\n",
      "Examples: ['for your own good', \"what's the good of worrying?\"]\n",
      "Definition: moral excellence or admirableness\n",
      "Examples: ['there is much good to be found in people']\n",
      "Definition: that which is pleasing or valuable or useful\n",
      "Examples: ['weigh the good against the bad', 'among the highest goods of all are happiness and self-realization']\n"
     ]
    }
   ],
   "source": [
    "from nltk.corpus import wordnet as wn\n",
    "\n",
    "# Get synsets for a word\n",
    "synsets = wn.synsets(\"good\")\n",
    "print(\"Synsets of 'good':\", synsets)\n",
    "\n",
    "# Explore definitions and examples\n",
    "for syn in synsets[:3]:\n",
    "    print(f\"Definition: {syn.definition()}\")\n",
    "    print(f\"Examples: {syn.examples()}\")\n"
   ]
  },
  {
   "cell_type": "markdown",
   "id": "08bd0e62-7129-4654-b04c-b9305b0bbbea",
   "metadata": {},
   "source": [
    "# DAY 2"
   ]
  },
  {
   "cell_type": "markdown",
   "id": "dd744581-c1e0-424a-ac4f-ff2cc2f817b5",
   "metadata": {},
   "source": [
    "##  Lecture 2 Summary – CS224N: NLP with Deep Learning\n",
    "\n",
    "###  1. Optimization Basics\n",
    "- Introduction to gradient descent for minimizing loss functions in NLP.\n",
    "- Importance of objective functions in training embeddings like word2vec.\n",
    "\n",
    "###  2. Word2Vec Review\n",
    "- Two architectures: **CBOW (Continuous Bag of Words)** and **Skip-gram**.\n",
    "- Trains word embeddings based on local context in a window.\n",
    "- Optimization through **negative sampling** or **hierarchical softmax**.\n",
    "\n",
    "###  3. Word Vectors\n",
    "- Dense vector representations of words capturing semantic similarity.\n",
    "- Words like `[\"king\", \"queen\", \"man\", \"woman\"]` form analogies using vector arithmetic.\n",
    "\n",
    "###  4. Capturing Word Meaning via Counting\n",
    "- Co-occurrence matrix from large corpora (e.g., how often words appear together).\n",
    "- **PMI (Pointwise Mutual Information)** and **SVD (Singular Value Decomposition)** used for dimensionality reduction.\n",
    "- Count-based models vs prediction-based models (like word2vec).\n",
    "\n",
    "###  5. Evaluating Word Embeddings\n",
    "- Intrinsic tasks: similarity (e.g., cosine similarity), analogy tasks.\n",
    "- Extrinsic tasks: downstream NLP tasks like NER or POS tagging.\n",
    "\n",
    "###  6. Word Senses\n",
    "- Polysemy issue: words have multiple meanings.\n",
    "- Embeddings trained on full corpora struggle with disambiguation.\n",
    "\n",
    "###  7. Neural Network Classifiers\n",
    "- Neural networks for NLP: feedforward and shallow architectures.\n",
    "- Layers: input → hidden → output (softmax).\n",
    "\n",
    "---\n",
    "\n",
    " **Key Goal:** Understand how word embeddings are generated and evaluated, and how neural networks begin to classify based on learned features.\n"
   ]
  },
  {
   "cell_type": "markdown",
   "id": "10b9ac53-9bf4-411e-a7e1-b8e361998fe6",
   "metadata": {},
   "source": [
    "#  NLP Pipeline: From Text to Features\n",
    "\n",
    "The **Natural Language Processing (NLP) pipeline** is a sequence of steps that transforms raw text into features that can be fed into machine learning or deep learning models.\n",
    "\n",
    "###  Common NLP Pipeline Steps:\n",
    "1. **Raw Text**: Input text from articles, social media, etc.\n",
    "2. **Tokenization**: Split the text into words, punctuation, or subwords.\n",
    "3. **Text Cleaning**: Lowercasing, removing stopwords, stemming, lemmatization.\n",
    "4. **Feature Extraction**: Convert text to numbers using:\n",
    "   - Bag-of-Words\n",
    "   - TF-IDF\n",
    "   - Word Embeddings (Word2Vec, GloVe, etc.)\n",
    "5. **Modeling**: Use features as input for classification, translation, etc.\n",
    "\n",
    " Example:\n"
   ]
  },
  {
   "cell_type": "code",
   "execution_count": 4,
   "id": "1f1ac50e-3926-44cf-a7c0-77d12213c67c",
   "metadata": {},
   "outputs": [
    {
     "name": "stdout",
     "output_type": "stream",
     "text": [
      "Original Text:\n",
      "Natural Language Processing (NLP) enables machines to understand human language.\n",
      "\n",
      "Tokens:\n",
      "['Natural', 'Language', 'Processing', '(NLP)', 'enables', 'machines', 'to', 'understand', 'human', 'language.']\n"
     ]
    }
   ],
   "source": [
    "# Load sample text\n",
    "text = \"Natural Language Processing (NLP) enables machines to understand human language.\"\n",
    "\n",
    "# Print the original text\n",
    "print(\"Original Text:\")\n",
    "print(text)\n",
    "\n",
    "# Split into words\n",
    "tokens = text.split()\n",
    "print(\"\\nTokens:\")\n",
    "print(tokens)\n"
   ]
  },
  {
   "cell_type": "code",
   "execution_count": 5,
   "id": "9eb93a85-1264-4a75-b9d8-ec83e9308617",
   "metadata": {},
   "outputs": [
    {
     "name": "stderr",
     "output_type": "stream",
     "text": [
      "[nltk_data] Downloading package wordnet to C:\\Users\\Asus/nltk_data...\n",
      "[nltk_data]   Package wordnet is already up-to-date!\n",
      "[nltk_data] Downloading package averaged_perceptron_tagger to\n",
      "[nltk_data]     C:\\Users\\Asus/nltk_data...\n",
      "[nltk_data]   Package averaged_perceptron_tagger is already up-to-\n",
      "[nltk_data]       date!\n",
      "[nltk_data] Downloading package brown to C:\\Users\\Asus/nltk_data...\n",
      "[nltk_data]   Package brown is already up-to-date!\n"
     ]
    },
    {
     "data": {
      "text/plain": [
       "True"
      ]
     },
     "execution_count": 5,
     "metadata": {},
     "output_type": "execute_result"
    }
   ],
   "source": [
    "import nltk\n",
    "nltk.download('wordnet')      # Lemmatizer\n",
    "nltk.download('averaged_perceptron_tagger')  # POS tagging\n",
    "nltk.download('brown')        # Sample corpus\n"
   ]
  },
  {
   "cell_type": "code",
   "execution_count": 6,
   "id": "3aab6528-2960-4628-aadb-020ec6d26797",
   "metadata": {},
   "outputs": [
    {
     "name": "stdout",
     "output_type": "stream",
     "text": [
      "Sentence 1: ['The', 'Fulton', 'County', 'Grand', 'Jury', 'said', 'Friday', 'an', 'investigation', 'of', \"Atlanta's\", 'recent', 'primary', 'election', 'produced', '``', 'no', 'evidence', \"''\", 'that', 'any', 'irregularities', 'took', 'place', '.']\n",
      "Sentence 2: ['The', 'jury', 'further', 'said', 'in', 'term-end', 'presentments', 'that', 'the', 'City', 'Executive', 'Committee', ',', 'which', 'had', 'over-all', 'charge', 'of', 'the', 'election', ',', '``', 'deserves', 'the', 'praise', 'and', 'thanks', 'of', 'the', 'City', 'of', 'Atlanta', \"''\", 'for', 'the', 'manner', 'in', 'which', 'the', 'election', 'was', 'conducted', '.']\n",
      "Sentence 3: ['The', 'September-October', 'term', 'jury', 'had', 'been', 'charged', 'by', 'Fulton', 'Superior', 'Court', 'Judge', 'Durwood', 'Pye', 'to', 'investigate', 'reports', 'of', 'possible', '``', 'irregularities', \"''\", 'in', 'the', 'hard-fought', 'primary', 'which', 'was', 'won', 'by', 'Mayor-nominate', 'Ivan', 'Allen', 'Jr.', '.']\n",
      "Sentence 4: ['``', 'Only', 'a', 'relative', 'handful', 'of', 'such', 'reports', 'was', 'received', \"''\", ',', 'the', 'jury', 'said', ',', '``', 'considering', 'the', 'widespread', 'interest', 'in', 'the', 'election', ',', 'the', 'number', 'of', 'voters', 'and', 'the', 'size', 'of', 'this', 'city', \"''\", '.']\n",
      "Sentence 5: ['The', 'jury', 'said', 'it', 'did', 'find', 'that', 'many', 'of', \"Georgia's\", 'registration', 'and', 'election', 'laws', '``', 'are', 'outmoded', 'or', 'inadequate', 'and', 'often', 'ambiguous', \"''\", '.']\n"
     ]
    }
   ],
   "source": [
    "from nltk.corpus import brown\n",
    "\n",
    "# Get first few sentences from the Brown corpus\n",
    "sentences = brown.sents()[:5]\n",
    "for i, sentence in enumerate(sentences):\n",
    "    print(f\"Sentence {i+1}: {sentence}\")\n"
   ]
  },
  {
   "cell_type": "markdown",
   "id": "f1089a45-360c-4d19-8733-d037a825df70",
   "metadata": {},
   "source": [
    "# DAY 3"
   ]
  },
  {
   "cell_type": "markdown",
   "id": "ac9437ad-ce39-495c-993f-3df3c3ef7b15",
   "metadata": {},
   "source": [
    "#  CS224N Lecture Summary: Neural Network Foundations in NLP\n",
    "\n",
    "##  Objective\n",
    "To understand the **mathematical foundations** of how neural networks learn in the context of NLP tasks, with a focus on:\n",
    "- Gradient computation\n",
    "- Backpropagation\n",
    "- Named Entity Recognition (NER)\n",
    "- Matrix calculus\n",
    "- Automatic differentiation in modern frameworks like PyTorch\n",
    "\n",
    "##  Key Concepts Covered\n",
    "\n",
    "###  1. **Gradient Computation**\n",
    "- Gradients are crucial for training neural networks.\n",
    "- They indicate the direction and rate at which model parameters should change to minimize the loss function.\n",
    "- The process of computing these gradients relies on calculus and linear algebra.\n",
    "\n",
    "###  2. **Backpropagation Algorithm**\n",
    "- A core algorithm that efficiently computes gradients using the chain rule of calculus.\n",
    "- It involves:\n",
    "  - **Forward pass:** computing predictions using current model weights.\n",
    "  - **Backward pass:** calculating the gradient of the loss with respect to each parameter.\n",
    "\n",
    ">  Backpropagation allows each layer to reuse gradients, making training scalable even in deep networks.\n",
    "\n",
    "###  3. **Named Entity Recognition (NER)**\n",
    "- Used as a real-world example to apply neural network principles.\n",
    "- Highlights the importance of **context** in classifying entities like:\n",
    "  - People’s names\n",
    "  - Locations\n",
    "  - Organizations\n",
    "- A simple model: concatenate word vectors from a window of words → pass through a neural network → classify.\n",
    "\n",
    "###  4. **Matrix Calculus & Vectorization**\n",
    "- Working with **vectors and matrices** is more efficient than scalar-by-scalar computations.\n",
    "- Neural networks rely heavily on **vectorized gradient computation** using matrix calculus.\n",
    "\n",
    ">  Enables faster computation and easier optimization in frameworks like PyTorch and TensorFlow.\n",
    "\n",
    "###  5. **Automatic Differentiation**\n",
    "- A powerful tool offered by modern libraries (e.g., PyTorch, TensorFlow).\n",
    "- Automatically constructs the **computation graph** and calculates derivatives.\n",
    "- Saves time and reduces the likelihood of errors in gradient implementation.\n",
    "\n"
   ]
  },
  {
   "cell_type": "code",
   "execution_count": 7,
   "id": "ee9266c4-7059-432d-bbac-95c389f822e5",
   "metadata": {},
   "outputs": [
    {
     "name": "stdout",
     "output_type": "stream",
     "text": [
      "Collecting en-core-web-sm==3.8.0\n",
      "  Downloading https://github.com/explosion/spacy-models/releases/download/en_core_web_sm-3.8.0/en_core_web_sm-3.8.0-py3-none-any.whl (12.8 MB)\n",
      "     ---------------------------------------- 0.0/12.8 MB ? eta -:--:--\n",
      "     --- ------------------------------------ 1.0/12.8 MB 12.7 MB/s eta 0:00:01\n",
      "     --- ------------------------------------ 1.0/12.8 MB 12.7 MB/s eta 0:00:01\n",
      "     --- ------------------------------------ 1.0/12.8 MB 12.7 MB/s eta 0:00:01\n",
      "     ---- ----------------------------------- 1.6/12.8 MB 1.8 MB/s eta 0:00:07\n",
      "     ---- ----------------------------------- 1.6/12.8 MB 1.8 MB/s eta 0:00:07\n",
      "     ----- ---------------------------------- 1.8/12.8 MB 1.5 MB/s eta 0:00:08\n",
      "     ------- -------------------------------- 2.4/12.8 MB 1.7 MB/s eta 0:00:07\n",
      "     -------- ------------------------------- 2.6/12.8 MB 1.6 MB/s eta 0:00:07\n",
      "     --------- ------------------------------ 2.9/12.8 MB 1.6 MB/s eta 0:00:07\n",
      "     --------- ------------------------------ 2.9/12.8 MB 1.6 MB/s eta 0:00:07\n",
      "     --------- ------------------------------ 3.1/12.8 MB 1.3 MB/s eta 0:00:08\n",
      "     ---------- ----------------------------- 3.4/12.8 MB 1.4 MB/s eta 0:00:07\n",
      "     ------------- -------------------------- 4.2/12.8 MB 1.5 MB/s eta 0:00:06\n",
      "     -------------- ------------------------- 4.7/12.8 MB 1.6 MB/s eta 0:00:06\n",
      "     ---------------- ----------------------- 5.2/12.8 MB 1.7 MB/s eta 0:00:05\n",
      "     ------------------ --------------------- 6.0/12.8 MB 1.8 MB/s eta 0:00:04\n",
      "     -------------------- ------------------- 6.6/12.8 MB 1.8 MB/s eta 0:00:04\n",
      "     ---------------------- ----------------- 7.3/12.8 MB 1.9 MB/s eta 0:00:03\n",
      "     ------------------------- -------------- 8.1/12.8 MB 2.0 MB/s eta 0:00:03\n",
      "     --------------------------- ------------ 8.9/12.8 MB 2.1 MB/s eta 0:00:02\n",
      "     ----------------------------- ---------- 9.4/12.8 MB 2.1 MB/s eta 0:00:02\n",
      "     ------------------------------ --------- 9.7/12.8 MB 2.1 MB/s eta 0:00:02\n",
      "     ------------------------------- -------- 10.2/12.8 MB 2.1 MB/s eta 0:00:02\n",
      "     -------------------------------- ------- 10.5/12.8 MB 2.1 MB/s eta 0:00:02\n",
      "     ---------------------------------- ----- 11.0/12.8 MB 2.1 MB/s eta 0:00:01\n",
      "     ----------------------------------- ---- 11.3/12.8 MB 2.1 MB/s eta 0:00:01\n",
      "     ------------------------------------ --- 11.5/12.8 MB 2.1 MB/s eta 0:00:01\n",
      "     ------------------------------------ --- 11.8/12.8 MB 2.0 MB/s eta 0:00:01\n",
      "     ------------------------------------- -- 12.1/12.8 MB 2.0 MB/s eta 0:00:01\n",
      "     ------------------------------------- -- 12.1/12.8 MB 2.0 MB/s eta 0:00:01\n",
      "     -------------------------------------- - 12.3/12.8 MB 1.9 MB/s eta 0:00:01\n",
      "     ---------------------------------------  12.6/12.8 MB 1.9 MB/s eta 0:00:01\n",
      "     ---------------------------------------- 12.8/12.8 MB 1.9 MB/s eta 0:00:00\n",
      "\u001b[38;5;2m[+] Download and installation successful\u001b[0m\n",
      "You can now load the package via spacy.load('en_core_web_sm')\n"
     ]
    },
    {
     "name": "stderr",
     "output_type": "stream",
     "text": [
      "\n",
      "[notice] A new release of pip is available: 24.3.1 -> 25.1.1\n",
      "[notice] To update, run: python.exe -m pip install --upgrade pip\n"
     ]
    }
   ],
   "source": [
    "!python -m spacy download en_core_web_sm\n"
   ]
  },
  {
   "cell_type": "code",
   "execution_count": 8,
   "id": "69c82ffc-271e-4e93-a2c2-237c3fe24ff9",
   "metadata": {},
   "outputs": [],
   "source": [
    "import nltk\n",
    "import spacy\n",
    "from nltk.tokenize import word_tokenize, sent_tokenize\n",
    "\n",
    "# Load spaCy English model\n",
    "nlp = spacy.load(\"en_core_web_sm\")\n"
   ]
  },
  {
   "cell_type": "code",
   "execution_count": 9,
   "id": "3499947b-2a05-405f-8dd1-14ecc1f50fd8",
   "metadata": {},
   "outputs": [],
   "source": [
    "sample_text = \"Apple is looking at buying U.K. startup for $1 billion. This news was published yesterday.\"\n"
   ]
  },
  {
   "cell_type": "code",
   "execution_count": 10,
   "id": "ccae70e6-a266-49ac-8157-a94166f7d4fc",
   "metadata": {},
   "outputs": [
    {
     "name": "stdout",
     "output_type": "stream",
     "text": [
      "NLTK Sentence Tokenization:\n",
      "['Apple is looking at buying U.K. startup for $1 billion.', 'This news was published yesterday.']\n"
     ]
    }
   ],
   "source": [
    "nltk_sentences = sent_tokenize(sample_text)\n",
    "print(\"NLTK Sentence Tokenization:\")\n",
    "print(nltk_sentences)\n"
   ]
  },
  {
   "cell_type": "code",
   "execution_count": 11,
   "id": "33fcba88-8d95-4594-b431-b1e97c071509",
   "metadata": {},
   "outputs": [
    {
     "name": "stdout",
     "output_type": "stream",
     "text": [
      "NLTK Word Tokenization:\n",
      "['Apple', 'is', 'looking', 'at', 'buying', 'U.K.', 'startup', 'for', '$', '1', 'billion', '.', 'This', 'news', 'was', 'published', 'yesterday', '.']\n"
     ]
    }
   ],
   "source": [
    "nltk_words = word_tokenize(sample_text)\n",
    "print(\"NLTK Word Tokenization:\")\n",
    "print(nltk_words)\n"
   ]
  },
  {
   "cell_type": "code",
   "execution_count": 12,
   "id": "9d486969-dd90-465f-bea3-497e81158d61",
   "metadata": {},
   "outputs": [
    {
     "name": "stdout",
     "output_type": "stream",
     "text": [
      "spaCy Sentence Tokenization:\n",
      "Apple is looking at buying U.K. startup for $1 billion.\n",
      "This news was published yesterday.\n",
      "\n",
      "spaCy Word Tokenization:\n",
      "Apple\n",
      "is\n",
      "looking\n",
      "at\n",
      "buying\n",
      "U.K.\n",
      "startup\n",
      "for\n",
      "$\n",
      "1\n",
      "billion\n",
      ".\n",
      "This\n",
      "news\n",
      "was\n",
      "published\n",
      "yesterday\n",
      ".\n"
     ]
    }
   ],
   "source": [
    "doc = nlp(sample_text)\n",
    "\n",
    "# Sentence tokenization\n",
    "print(\"spaCy Sentence Tokenization:\")\n",
    "for sent in doc.sents:\n",
    "    print(sent)\n",
    "\n",
    "# Word tokenization\n",
    "print(\"\\nspaCy Word Tokenization:\")\n",
    "for token in doc:\n",
    "    print(token.text)\n"
   ]
  },
  {
   "cell_type": "code",
   "execution_count": 13,
   "id": "f142a902-a6fe-4ca4-b4de-d47254c8a156",
   "metadata": {},
   "outputs": [
    {
     "name": "stdout",
     "output_type": "stream",
     "text": [
      "NLTK Tokens: ['Elon', 'Musk', 'founded', 'SpaceX', 'in', '2002', '.']\n",
      "spaCy Tokens: ['Elon', 'Musk', 'founded', 'SpaceX', 'in', '2002', '.']\n"
     ]
    }
   ],
   "source": [
    "def nltk_tokenizer(text):\n",
    "    return word_tokenize(text)\n",
    "\n",
    "def spacy_tokenizer(text):\n",
    "    doc = nlp(text)\n",
    "    return [token.text for token in doc]\n",
    "\n",
    "# Test on a custom input\n",
    "test_text = \"Elon Musk founded SpaceX in 2002.\"\n",
    "print(\"NLTK Tokens:\", nltk_tokenizer(test_text))\n",
    "print(\"spaCy Tokens:\", spacy_tokenizer(test_text))\n"
   ]
  },
  {
   "cell_type": "markdown",
   "id": "81d9a933-fa16-4760-8fa8-eea12cb6414e",
   "metadata": {},
   "source": [
    "###  Comparison: NLTK vs spaCy Tokenization\n",
    "\n",
    "| Feature                  | NLTK                         | spaCy                        |\n",
    "|--------------------------|------------------------------|------------------------------|\n",
    "| Sentence Tokenizer       | Uses pre-trained Punkt model | Built-in, context-aware      |\n",
    "| Word Tokenizer           | Rule-based                   | Rule-based + linguistic info |\n",
    "| Named Entity Detection   | Not built-in                 | Built-in                   |\n",
    "| Speed                    | Fast                         | Faster + efficient           |\n",
    "\n",
    ">  **spaCy** offers richer linguistic features and better integration with NLP pipelines, while **NLTK** is great for learning and experimentation.\n"
   ]
  },
  {
   "cell_type": "markdown",
   "id": "afb6ef2c-300a-430d-ba5a-362d50e84828",
   "metadata": {},
   "source": [
    "#  Day 4 – May 22: Dependency Parsing\n",
    "\n",
    "##  Topic Overview\n",
    "\n",
    "Today’s lecture focused on **Dependency Parsing**, a core technique in natural language processing (NLP) that helps analyze the grammatical structure of a sentence. It identifies relationships between words (called **dependencies**) and forms a syntactic structure that machines can understand. Unlike constituency parsing which focuses on phrases, dependency parsing is **word-to-word relational**.\n",
    "\n",
    "##  Key Learnings\n",
    "\n",
    "###  What is Dependency Parsing?\n",
    "\n",
    "- In **dependency grammar**, a sentence is structured around binary relationships between words.\n",
    "- Each relationship is a directed link from a **head** to a **dependent**.\n",
    "\n",
    "####  Example:\n",
    "Sentence: `\"The quick brown fox jumps over the lazy dog.\"`\n",
    "\n",
    "Dependency Relations:\n",
    "- \"jumps\" → head of the sentence (root verb)\n",
    "- \"fox\" → subject of \"jumps\"\n",
    "- \"quick\", \"brown\" → modifiers of \"fox\"\n",
    "- \"over\" → preposition linked to \"jumps\"\n",
    "- \"dog\" → object of \"over\"\n",
    "- \"lazy\" → modifier of \"dog\"\n",
    "\n",
    "###  Syntax and Sentence Structure\n",
    "\n",
    "- Words have **parts of speech (POS)** (e.g., noun, verb, adjective), and their arrangement determines sentence meaning.\n",
    "- Syntactic structure helps in tasks like translation, question answering, and sentiment analysis.\n",
    "\n",
    "####  Example:\n",
    "- `\"Alice gave Bob a book.\"`\n",
    "  - Subject: Alice\n",
    "  - Verb: gave\n",
    "  - Indirect Object: Bob\n",
    "  - Direct Object: book\n",
    "\n",
    "The relationships here form a tree with \"gave\" as the root.\n",
    "\n",
    "###  Universal Dependencies (UD)\n",
    "\n",
    "- UD is a cross-lingual framework for syntactic annotation.\n",
    "- It standardizes dependency labels like:\n",
    "  - `nsubj` (nominal subject)\n",
    "  - `obj` (object)\n",
    "  - `amod` (adjectival modifier)\n",
    "  - `root` (main predicate)\n",
    "\n",
    "####  Example:\n",
    "For `\"She reads a book.\"`, the UD structure would look like:\n",
    "- reads → root\n",
    "- She → nsubj\n",
    "- book → obj\n",
    "- a → det\n",
    "\n",
    "###  Ambiguity in Parsing\n",
    "\n",
    "Language is inherently ambiguous. The same sentence can be parsed in multiple ways based on context.\n",
    "\n",
    "####  Example:\n",
    "Headline: `\"Kids make nutritious snacks\"`\n",
    "- Parse 1: Kids are preparing healthy snacks.\n",
    "- Parse 2: Kids are the snacks.\n",
    "\n",
    "This kind of ambiguity makes dependency parsing both challenging and critical.\n",
    "\n",
    "###  Transition-Based Parsing\n",
    "\n",
    "- A **transition-based parser** builds a dependency tree incrementally using operations:\n",
    "  - `SHIFT`: Move word from buffer to stack.\n",
    "  - `LEFT-ARC`/`RIGHT-ARC`: Create a dependency relation.\n",
    "  - `REDUCE`: Remove a word from the stack.\n",
    "\n",
    "This is modeled as a state machine with actions predicted by a trained classifier.\n",
    "\n",
    "###  Evaluating Parsers\n",
    "\n",
    "- **Treebanks** are annotated datasets used to train and evaluate dependency parsers.\n",
    "- Common metrics:\n",
    "  - **UAS** (Unlabeled Attachment Score): % of correct head assignments.\n",
    "  - **LAS** (Labeled Attachment Score): % of correct head + label assignments.\n",
    "\n",
    "\n",
    "##  Summary\n",
    "\n",
    "- Dependency parsing extracts **\"who modifies whom\"** in a sentence.\n",
    "- Transition-based methods offer an efficient way to perform parsing.\n",
    "- The structural outputs are essential for downstream NLP applications.\n",
    "- Modern models use machine learning to automate parsing decisions based on large treebank datasets.\n",
    "\n"
   ]
  },
  {
   "cell_type": "code",
   "execution_count": 14,
   "id": "1844be3a-f8dd-4b38-938b-5a14921ab4c4",
   "metadata": {},
   "outputs": [],
   "source": [
    "import re\n",
    "import string\n",
    "from nltk.tokenize import word_tokenize\n",
    "import nltk\n",
    "\n"
   ]
  },
  {
   "cell_type": "code",
   "execution_count": 15,
   "id": "d5777159-ac12-43b0-9b40-f97c676dfa7e",
   "metadata": {},
   "outputs": [],
   "source": [
    "sample_text = \"Hello there! This is Day 4 of NLP. We're learning preprocessing – lowercasing, punctuation removal, and tokenization.\"\n"
   ]
  },
  {
   "cell_type": "code",
   "execution_count": 16,
   "id": "b172dd10-de83-4e10-af2d-2b427544fc61",
   "metadata": {},
   "outputs": [
    {
     "name": "stdout",
     "output_type": "stream",
     "text": [
      "Lowercased Text:\n",
      " hello there! this is day 4 of nlp. we're learning preprocessing – lowercasing, punctuation removal, and tokenization.\n"
     ]
    }
   ],
   "source": [
    "lower_text = sample_text.lower()\n",
    "print(\"Lowercased Text:\\n\", lower_text)\n"
   ]
  },
  {
   "cell_type": "code",
   "execution_count": 17,
   "id": "71db27cd-b702-4594-aef5-c4e5a64d87d7",
   "metadata": {},
   "outputs": [
    {
     "name": "stdout",
     "output_type": "stream",
     "text": [
      "Text without Punctuation:\n",
      " hello there this is day 4 of nlp were learning preprocessing – lowercasing punctuation removal and tokenization\n"
     ]
    }
   ],
   "source": [
    "# Create a regex pattern for punctuation\n",
    "pattern = f\"[{re.escape(string.punctuation)}]\"\n",
    "no_punct_text = re.sub(pattern, \"\", lower_text)\n",
    "print(\"Text without Punctuation:\\n\", no_punct_text)\n"
   ]
  },
  {
   "cell_type": "code",
   "execution_count": 18,
   "id": "5403e496-b6de-4bbe-b44f-e05bc6f647c4",
   "metadata": {},
   "outputs": [
    {
     "name": "stdout",
     "output_type": "stream",
     "text": [
      "Tokenized Text:\n",
      " ['hello', 'there', 'this', 'is', 'day', '4', 'of', 'nlp', 'were', 'learning', 'preprocessing', '–', 'lowercasing', 'punctuation', 'removal', 'and', 'tokenization']\n"
     ]
    }
   ],
   "source": [
    "tokens = word_tokenize(no_punct_text)\n",
    "print(\"Tokenized Text:\\n\", tokens)\n"
   ]
  },
  {
   "cell_type": "code",
   "execution_count": 19,
   "id": "8ecd5649-f450-47aa-bd53-1fef1707e759",
   "metadata": {},
   "outputs": [
    {
     "name": "stdout",
     "output_type": "stream",
     "text": [
      "Preprocessed Output:\n",
      " ['hello', 'there', 'this', 'is', 'day', '4', 'of', 'nlp', 'were', 'learning', 'preprocessing', '–', 'lowercasing', 'punctuation', 'removal', 'and', 'tokenization']\n"
     ]
    }
   ],
   "source": [
    "def preprocess_text(text):\n",
    "    text = text.lower()\n",
    "    text = re.sub(f\"[{re.escape(string.punctuation)}]\", \"\", text)\n",
    "    tokens = word_tokenize(text)\n",
    "    return tokens\n",
    "\n",
    "# Try it on the sample\n",
    "processed = preprocess_text(sample_text)\n",
    "print(\"Preprocessed Output:\\n\", processed)\n"
   ]
  },
  {
   "cell_type": "markdown",
   "id": "2b9ef215-b5d0-4a6c-ab1d-70f49e90f862",
   "metadata": {},
   "source": [
    "#  Day 4 – Text Preprocessing\n",
    "\n",
    "This notebook demonstrates basic preprocessing steps commonly used in NLP:\n",
    "\n",
    "###  Steps Covered:\n",
    "- **Lowercasing** – Standardizes all words to lowercase.\n",
    "- **Punctuation Removal** – Removes all punctuation using `string.punctuation` and regex.\n",
    "- **Tokenization** – Splits the cleaned text into tokens (words).\n",
    "- **Preprocessing Function** – A clean function to perform all steps on any input text.\n",
    "\n",
    "These steps help reduce noise and standardize input data before feeding it into NLP models.\n"
   ]
  },
  {
   "cell_type": "markdown",
   "id": "0665d24b-8881-453a-b949-e45b67256e4c",
   "metadata": {},
   "source": [
    "# DAY 5"
   ]
  },
  {
   "cell_type": "markdown",
   "id": "b6337836-7aa3-4210-be46-48f673bfd080",
   "metadata": {},
   "source": [
    "# Neural Dependency Parsing and RNNs \n",
    "\n",
    "## Summary\n",
    "\n",
    "This lecture covers the transition from traditional symbolic parsing methods to neural dependency parsing, discussing how dense, learned representations enhance both performance and speed. It also introduces the basics of neural networks, language modeling, and Recurrent Neural Networks (RNNs), laying the foundation for handling sequential data in NLP.\n",
    "\n"
   ]
  },
  {
   "cell_type": "markdown",
   "id": "97bad1e6-a75b-4047-89ac-c64a482f9d61",
   "metadata": {},
   "source": [
    "## 1. Neural Dependency Parsing\n",
    "\n",
    "Traditional parsers rely on hand-crafted, sparse features and symbolic rules, which can be inefficient and limited in generalization.\n",
    "\n",
    "### Example:\n",
    "In symbolic parsing, the model might follow a rule like:\n",
    "- *If the top of the stack is a noun and the first buffer word is a verb, make a dependency link.*\n",
    "\n",
    "However, symbolic models:\n",
    "- Miss nuanced relationships\n",
    "- Require manual feature engineering\n",
    "- Struggle with unseen inputs\n",
    "\n",
    "**Neural Approach:**\n",
    "Neural dependency parsers learn **dense embeddings** for:\n",
    "- Words\n",
    "- POS tags\n",
    "- Dependency labels\n",
    "\n",
    "These are concatenated and fed into a **feedforward neural network**, which predicts the next parsing action (e.g., shift, left-arc, right-arc).\n",
    "\n",
    "This leads to:\n",
    "- Better generalization\n",
    "- Vectorized (faster) computation\n",
    "- No need for manual features\n"
   ]
  },
  {
   "cell_type": "markdown",
   "id": "d3c7905e-7544-4be8-9720-18b29019263b",
   "metadata": {},
   "source": [
    "## 2. Advantages of Neural Approaches\n",
    "\n",
    "- Dense embeddings represent semantic similarity (e.g., \"run\" and \"sprint\" are nearby in vector space).\n",
    "- Neural classifiers allow **non-linear** decision boundaries using activations like ReLU or tanh.\n",
    "- Neural models are faster and more accurate due to automatic feature learning.\n"
   ]
  },
  {
   "cell_type": "markdown",
   "id": "57a646f3-2e39-4801-bdd3-23d236cd7347",
   "metadata": {},
   "source": [
    "## 3. Regularization and Optimization in Neural Networks\n",
    "\n",
    "To prevent overfitting, neural networks use:\n",
    "\n",
    "### - L2 Regularization:\n",
    "Adds a penalty to large weights during training.\n",
    "\n",
    "### - Dropout:\n",
    "Randomly disables neurons during training to reduce co-adaptation.\n",
    "\n",
    "### Example:\n"
   ]
  },
  {
   "cell_type": "code",
   "execution_count": 20,
   "id": "0a8e9499-be2f-4e4c-93ca-04f977883109",
   "metadata": {},
   "outputs": [],
   "source": [
    "import torch.nn as nn\n",
    "\n",
    "model = nn.Sequential(\n",
    "    nn.Linear(100, 50),\n",
    "    nn.ReLU(),\n",
    "    nn.Dropout(0.5),  # Dropout layer\n",
    "    nn.Linear(50, 10)\n",
    ")\n"
   ]
  },
  {
   "cell_type": "markdown",
   "id": "5ff383d9-782d-4fd8-bcf7-6a33d971211e",
   "metadata": {},
   "source": [
    "## 4. Language Modeling\n",
    "\n",
    "Language modeling is the task of predicting the **next word** in a sequence.\n",
    "\n",
    "### Example:\n",
    "Given input: `\"I want to eat a ___\"`  \n",
    "The goal is to predict: `\"pizza\"`\n",
    "\n",
    "Applications:\n",
    "- Predictive text\n",
    "- Speech recognition\n",
    "- Machine translation\n"
   ]
  },
  {
   "cell_type": "markdown",
   "id": "ec5886d7-a07f-41cf-aeba-b74aa2c9183b",
   "metadata": {},
   "source": [
    "## 5. N-Gram Language Models\n",
    "\n",
    "These models estimate probabilities using frequency counts of word sequences.\n",
    "\n",
    "### Example:\n",
    "Bigram probability:  \n",
    "P(eat | to) = count(\"to eat\") / count(\"to\")\n",
    "\n",
    "**Limitations:**\n",
    "- Context is fixed to n-1 words\n",
    "- Suffers from data sparsity\n"
   ]
  },
  {
   "cell_type": "markdown",
   "id": "da489b2b-e897-4645-a21c-4dfa6fedefce",
   "metadata": {},
   "source": [
    "## 6. Neural Language Models (Window-based)\n",
    "\n",
    "These models embed words and pass them through a neural network to predict the next word.\n",
    "\n",
    "### Example:\n",
    "Input context: `\"I want to eat\"`  \n",
    "→ Convert to embeddings  \n",
    "→ Concatenate  \n",
    "→ Pass through MLP  \n",
    "→ Output probabilities for next word\n",
    "\n",
    "**Advantages:**\n",
    "- Embeddings generalize across similar words\n",
    "- Avoids sparsity problems in n-gram models\n"
   ]
  },
  {
   "cell_type": "markdown",
   "id": "3b5f3a1e-af41-4520-8b80-caf8040978c2",
   "metadata": {},
   "source": [
    "## 7. Recurrent Neural Networks (RNNs)\n",
    "\n",
    "RNNs allow processing of **sequential data** by maintaining a **hidden state** over time.\n",
    "\n",
    "### Formula:\n",
    "At each time step *t*:\n"
   ]
  },
  {
   "cell_type": "code",
   "execution_count": 21,
   "id": "ff55db44-7343-41dc-adcb-0ac40488e952",
   "metadata": {},
   "outputs": [
    {
     "name": "stdout",
     "output_type": "stream",
     "text": [
      "torch.Size([5, 3, 20])\n"
     ]
    }
   ],
   "source": [
    "import torch\n",
    "import torch.nn as nn\n",
    "\n",
    "# A simple RNN layer\n",
    "rnn = nn.RNN(input_size=10, hidden_size=20, batch_first=True)\n",
    "\n",
    "# Input: batch_size x seq_len x input_size\n",
    "x = torch.randn(5, 3, 10)\n",
    "h0 = torch.zeros(1, 5, 20)  # Initial hidden state\n",
    "\n",
    "out, hn = rnn(x, h0)\n",
    "print(out.shape)  # (batch_size, seq_len, hidden_size)\n"
   ]
  },
  {
   "cell_type": "markdown",
   "id": "c26e0d05-34fe-463e-9063-dc58b74adac4",
   "metadata": {},
   "source": [
    "### Advantages:\n",
    "- Learns from arbitrary-length sequences\n",
    "- Shared weights across time steps\n",
    "- Captures long-term dependencies (up to a point)\n",
    "\n",
    "### Limitations:\n",
    "- Sequential computation (slow training)\n",
    "- Struggles with long-range dependencies (solved by LSTMs/GRUs)\n"
   ]
  },
  {
   "cell_type": "markdown",
   "id": "f16daa5e-aa36-485b-9896-ea171f209985",
   "metadata": {},
   "source": [
    "#  Day 5 – Stopword Removal with NLTK (task2)\n",
    "\n",
    "**Date:** May 23  \n",
    "**Topic:** Stopword Removal  \n",
    "**Goal:** Remove common words (“stopwords”) using NLTK’s built-in list, customize the list, and compare before/after.\n"
   ]
  },
  {
   "cell_type": "code",
   "execution_count": 22,
   "id": "4edd2a84-0198-4091-953f-2fccdef5f6ec",
   "metadata": {},
   "outputs": [],
   "source": [
    "import nltk\n",
    "from nltk.corpus import stopwords\n",
    "from nltk.tokenize import word_tokenize\n",
    "import string\n",
    "\n"
   ]
  },
  {
   "cell_type": "markdown",
   "id": "fdc33a22-7cce-4ff3-a545-3ae5c5cbd81a",
   "metadata": {},
   "source": [
    "##  Example Text & Tokenization\n",
    "\n",
    "We’ll start with a sample sentence and tokenize it into words.\n"
   ]
  },
  {
   "cell_type": "code",
   "execution_count": 23,
   "id": "e95446ec-bf57-4752-bc18-abba7ecb5c86",
   "metadata": {},
   "outputs": [
    {
     "name": "stdout",
     "output_type": "stream",
     "text": [
      "Original Tokens:\n",
      "['This', 'is', 'an', 'example', 'sentence', ',', 'demonstrating', 'stopword', 'removal', 'using', 'NLTK', \"'s\", 'default', 'list', '.']\n"
     ]
    }
   ],
   "source": [
    "sample_text = \"This is an example sentence, demonstrating stopword removal using NLTK's default list.\"\n",
    "tokens = word_tokenize(sample_text)\n",
    "print(\"Original Tokens:\")\n",
    "print(tokens)\n"
   ]
  },
  {
   "cell_type": "markdown",
   "id": "53d032c8-aa65-46ba-b6fc-581ebe296b02",
   "metadata": {},
   "source": [
    "##  Default Stopword Removal\n",
    "\n",
    "Use NLTK’s English stopword list to filter out common words, and also remove punctuation.\n"
   ]
  },
  {
   "cell_type": "code",
   "execution_count": 24,
   "id": "5dfe8241-7826-4af7-9fec-7b0a51b3573c",
   "metadata": {},
   "outputs": [
    {
     "name": "stdout",
     "output_type": "stream",
     "text": [
      "\n",
      "After Default Stopword Removal:\n",
      "['example', 'sentence', 'demonstrating', 'stopword', 'removal', 'using', 'NLTK', \"'s\", 'default', 'list']\n"
     ]
    }
   ],
   "source": [
    "# Load default English stopwords\n",
    "stop_words = set(stopwords.words('english'))\n",
    "\n",
    "# Filter tokens\n",
    "filtered_default = [\n",
    "    tok for tok in tokens\n",
    "    if tok.lower() not in stop_words and tok not in string.punctuation\n",
    "]\n",
    "\n",
    "print(\"\\nAfter Default Stopword Removal:\")\n",
    "print(filtered_default)\n"
   ]
  },
  {
   "cell_type": "markdown",
   "id": "a8bebdb2-76ac-4450-bd7d-85b0cef9d77f",
   "metadata": {},
   "source": [
    "##  Customizing the Stopword List\n",
    "\n",
    "You can **add** domain-specific words or **remove** words you want to keep.  \n",
    "Below, we remove \"this\" from the list and add \"example\" as a stopword.\n"
   ]
  },
  {
   "cell_type": "code",
   "execution_count": 25,
   "id": "a3787337-8794-423f-adf2-9b76ee1ac941",
   "metadata": {},
   "outputs": [
    {
     "name": "stdout",
     "output_type": "stream",
     "text": [
      "\n",
      "After Custom Stopword Removal:\n",
      "['This', 'sentence', 'demonstrating', 'stopword', 'removal', 'using', 'NLTK', \"'s\", 'default', 'list']\n"
     ]
    }
   ],
   "source": [
    "# Copy and customize\n",
    "custom_sw = stop_words.copy()\n",
    "custom_sw.discard('this')      # Keep “this”\n",
    "custom_sw.add('example')       # Remove “example”\n",
    "\n",
    "# Apply custom list\n",
    "filtered_custom = [\n",
    "    tok for tok in tokens\n",
    "    if tok.lower() not in custom_sw and tok not in string.punctuation\n",
    "]\n",
    "\n",
    "print(\"\\nAfter Custom Stopword Removal:\")\n",
    "print(filtered_custom)\n"
   ]
  },
  {
   "cell_type": "markdown",
   "id": "b96cb5f2-4dad-4bf3-a548-a27c791aff01",
   "metadata": {},
   "source": [
    "# Day 6: Recurrent Neural Networks (RNNs) and LSTM Networks in NLP (task1)"
   ]
  },
  {
   "cell_type": "markdown",
   "id": "156c011b-04fa-4f60-b64e-8993e4caec24",
   "metadata": {},
   "source": [
    "## Introduction to RNNs and Language Models\n",
    "\n",
    "In natural language processing (NLP), one of the fundamental tasks is language modeling — predicting the next word in a sequence.\n",
    "\n",
    "Traditional models like n-grams are limited by context size. Recurrent Neural Networks (RNNs) are designed to address this by maintaining a *hidden state* that captures information from previous words in a sequence.\n",
    "\n",
    "### Example:\n",
    "Given the sequence:\n",
    "\n",
    "`I am going to the`\n",
    "\n",
    "An RNN tries to predict the next word (like \"store\", \"park\", etc.) using both the current input and hidden state from prior words.\n",
    "\n",
    "## Structure of a Simple RNN\n",
    "\n",
    "An RNN processes sequences one step at a time. At each time step `t`, it receives input `x_t` and previous hidden state `h_{t-1}`, then updates the hidden state and produces an output.\n",
    "\n",
    "### Example Formula:\n",
    "\n",
    "h_t = tanh(W_h * h_{t-1} + W_x * x_t + b)\n",
    "y_t = softmax(W_y * h_t + c)\n",
    "\n",
    "Here, `W_h`, `W_x`, and `W_y` are weight matrices, and `tanh` introduces non-linearity.\n"
   ]
  },
  {
   "cell_type": "markdown",
   "id": "45612bc7-c840-423c-8035-029fc17f2366",
   "metadata": {},
   "source": [
    "## Training RNNs\n",
    "\n",
    "RNNs are trained using a corpus of text. The idea is to show the model a sequence of words and ask it to predict the next word at each step. The difference between the prediction and the actual word is measured using **cross-entropy loss**.\n",
    "\n",
    "Training is typically done using **stochastic gradient descent (SGD)** and **backpropagation through time (BPTT)**.\n",
    "\n",
    "### Example:\n",
    "\n",
    "For the sentence \"The cat sat on the mat\":\n",
    "\n",
    "- Input: \"The\" → Target: \"cat\"\n",
    "- Input: \"The cat\" → Target: \"sat\"\n",
    "- ...\n",
    "\n",
    "## Challenges in RNNs: Vanishing Gradients\n",
    "\n",
    "A major issue in simple RNNs is **vanishing gradients** — gradients become extremely small when propagated back through many time steps. This makes it difficult for RNNs to learn long-term dependencies.\n",
    "\n",
    "### Illustration:\n",
    "In a long sentence, the information at the beginning becomes \"washed out\" as the RNN progresses.\n",
    "\n",
    "Example: \"The movie was **not** good\" — the model may forget \"not\" by the time it processes \"good\".\n",
    "\n",
    "## LSTMs: Solving the Vanishing Gradient Problem\n",
    "\n",
    "**Long Short-Term Memory (LSTM)** networks are a special kind of RNN designed to combat vanishing gradients.\n",
    "\n",
    "LSTMs introduce **gates**:\n",
    "- **Forget Gate**: Decides what information to discard.\n",
    "- **Input Gate**: Determines what new information to store.\n",
    "- **Output Gate**: Controls the output and what passes to the next hidden state.\n",
    "\n",
    "### Example:\n",
    "\n",
    "In the sentence:  \n",
    "\"I lived in France for two years so I speak French fluently.\"\n",
    "\n",
    "To predict \"fluently\", the model needs to remember \"France\" — which occurred much earlier. LSTMs are capable of capturing such long-term dependencies.\n",
    "\n",
    "## Applications of LSTMs in NLP\n",
    "\n",
    "LSTMs have been successfully applied to:\n",
    "- **Text Generation**\n",
    "- **Sentiment Analysis**\n",
    "- **Machine Translation**\n",
    "- **Speech Recognition**\n",
    "\n",
    "### Example in Text Generation:\n",
    "\n",
    "Feed in: \"Once upon a\"\n",
    "\n",
    "→ Model completes: \"Once upon a time there was a king.\"\n",
    "\n",
    "The model learns patterns in language and generates coherent text.\n",
    "\n",
    "## LSTMs vs Simple RNNs\n",
    "\n",
    "LSTMs outperform simple RNNs on most NLP tasks because of their ability to:\n",
    "- Maintain relevant information over long distances.\n",
    "- Handle long-term dependencies without forgetting.\n",
    "- Converge faster during training due to better gradient flow.\n",
    "\n",
    "## Evolution: From LSTM to Transformers\n",
    "\n",
    "While LSTMs were dominant in the 2010s, newer models like **Transformers** (e.g., BERT, GPT) have now surpassed them in both performance and popularity.\n",
    "\n",
    "Transformers:\n",
    "- Don’t rely on recurrence.\n",
    "- Can be trained in parallel.\n",
    "- Are more scalable and efficient.\n",
    "\n",
    "Still, understanding RNNs and LSTMs is crucial as they form the foundation of modern NLP architectures.\n",
    "\n",
    "---\n",
    "\n",
    " **Remember:**  \n",
    "- Use RNNs for sequential data.  \n",
    "- Use LSTMs if you need to remember information over long time periods.  \n",
    "- For cutting-edge results, explore Transformers — the future of NLP.\n",
    "\n",
    "---\n"
   ]
  },
  {
   "cell_type": "markdown",
   "id": "d68826f6-454a-4213-b7bf-58adf54a528a",
   "metadata": {},
   "source": [
    "# DAY 6 (task2)"
   ]
  },
  {
   "cell_type": "markdown",
   "id": "7efb48e4-e8a0-41d1-83f1-3f64539634d5",
   "metadata": {},
   "source": [
    "##  Stemming in NLP\n",
    "\n",
    "**Stemming** is a text normalization technique used to reduce words to their root or base form (called a \"stem\"). It's a rule-based process that chops off word suffixes. \n",
    "\n",
    "For example:\n",
    "- \"running\", \"runner\", and \"ran\" → \"run\"\n",
    "\n",
    "### Why Use Stemming?\n",
    "Stemming helps reduce vocabulary size in NLP tasks like text classification, sentiment analysis, and information retrieval, making models faster and less memory-intensive.\n",
    "\n",
    "### Popular Stemmers in NLTK:\n",
    "- **PorterStemmer**: Conservative and commonly used, developed by Martin Porter.\n",
    "- **LancasterStemmer**: More aggressive, might reduce words too much (over-stemming).\n",
    "\n",
    "In practice, stemming may result in non-words (e.g., \"happiness\" → \"happi\") but still retains the core meaning.\n"
   ]
  },
  {
   "cell_type": "code",
   "execution_count": 26,
   "id": "3e7edcb0-fb25-4500-a06b-c8ad1cdcb3ab",
   "metadata": {},
   "outputs": [],
   "source": [
    "import nltk\n",
    "from nltk.stem import PorterStemmer, LancasterStemmer\n",
    "\n",
    "# Initialize stemmers\n",
    "porter = PorterStemmer()\n",
    "lancaster = LancasterStemmer()\n"
   ]
  },
  {
   "cell_type": "code",
   "execution_count": 27,
   "id": "d44236ae-c4ff-4b80-9a58-bec3a843252f",
   "metadata": {},
   "outputs": [],
   "source": [
    "# Define a list of words to stem\n",
    "words = [\"running\", \"runner\", \"easily\", \"fairly\", \"happiness\", \"crying\", \"flies\", \"flying\", \"denied\", \"studies\", \"studying\"]\n"
   ]
  },
  {
   "cell_type": "code",
   "execution_count": 28,
   "id": "12e030fc-4ba3-4fea-b549-c24eafe50b69",
   "metadata": {},
   "outputs": [
    {
     "name": "stdout",
     "output_type": "stream",
     "text": [
      "Original     PorterStemmer   LancasterStemmer\n",
      "---------------------------------------------\n",
      "running      run             run\n",
      "runner       runner          run\n",
      "easily       easili          easy\n",
      "fairly       fairli          fair\n",
      "happiness    happi           happy\n",
      "crying       cri             cry\n",
      "flies        fli             fli\n",
      "flying       fli             fly\n",
      "denied       deni            deny\n",
      "studies      studi           study\n",
      "studying     studi           study\n"
     ]
    }
   ],
   "source": [
    "# Create a table showing how each word changes after stemming\n",
    "print(f\"{'Original':<12} {'PorterStemmer':<15} {'LancasterStemmer'}\")\n",
    "print(\"-\" * 45)\n",
    "\n",
    "for word in words:\n",
    "    porter_stemmed = porter.stem(word)\n",
    "    lancaster_stemmed = lancaster.stem(word)\n",
    "    print(f\"{word:<12} {porter_stemmed:<15} {lancaster_stemmed}\")\n"
   ]
  },
  {
   "cell_type": "code",
   "execution_count": 29,
   "id": "d068dccd-2262-45cd-b88f-18007f4300ff",
   "metadata": {},
   "outputs": [
    {
     "data": {
      "text/html": [
       "<div>\n",
       "<style scoped>\n",
       "    .dataframe tbody tr th:only-of-type {\n",
       "        vertical-align: middle;\n",
       "    }\n",
       "\n",
       "    .dataframe tbody tr th {\n",
       "        vertical-align: top;\n",
       "    }\n",
       "\n",
       "    .dataframe thead th {\n",
       "        text-align: right;\n",
       "    }\n",
       "</style>\n",
       "<table border=\"1\" class=\"dataframe\">\n",
       "  <thead>\n",
       "    <tr style=\"text-align: right;\">\n",
       "      <th></th>\n",
       "      <th>Original</th>\n",
       "      <th>PorterStemmer</th>\n",
       "      <th>LancasterStemmer</th>\n",
       "    </tr>\n",
       "  </thead>\n",
       "  <tbody>\n",
       "    <tr>\n",
       "      <th>0</th>\n",
       "      <td>running</td>\n",
       "      <td>run</td>\n",
       "      <td>run</td>\n",
       "    </tr>\n",
       "    <tr>\n",
       "      <th>1</th>\n",
       "      <td>runner</td>\n",
       "      <td>runner</td>\n",
       "      <td>run</td>\n",
       "    </tr>\n",
       "    <tr>\n",
       "      <th>2</th>\n",
       "      <td>easily</td>\n",
       "      <td>easili</td>\n",
       "      <td>easy</td>\n",
       "    </tr>\n",
       "    <tr>\n",
       "      <th>3</th>\n",
       "      <td>fairly</td>\n",
       "      <td>fairli</td>\n",
       "      <td>fair</td>\n",
       "    </tr>\n",
       "    <tr>\n",
       "      <th>4</th>\n",
       "      <td>happiness</td>\n",
       "      <td>happi</td>\n",
       "      <td>happy</td>\n",
       "    </tr>\n",
       "    <tr>\n",
       "      <th>5</th>\n",
       "      <td>crying</td>\n",
       "      <td>cri</td>\n",
       "      <td>cry</td>\n",
       "    </tr>\n",
       "    <tr>\n",
       "      <th>6</th>\n",
       "      <td>flies</td>\n",
       "      <td>fli</td>\n",
       "      <td>fli</td>\n",
       "    </tr>\n",
       "    <tr>\n",
       "      <th>7</th>\n",
       "      <td>flying</td>\n",
       "      <td>fli</td>\n",
       "      <td>fly</td>\n",
       "    </tr>\n",
       "    <tr>\n",
       "      <th>8</th>\n",
       "      <td>denied</td>\n",
       "      <td>deni</td>\n",
       "      <td>deny</td>\n",
       "    </tr>\n",
       "    <tr>\n",
       "      <th>9</th>\n",
       "      <td>studies</td>\n",
       "      <td>studi</td>\n",
       "      <td>study</td>\n",
       "    </tr>\n",
       "    <tr>\n",
       "      <th>10</th>\n",
       "      <td>studying</td>\n",
       "      <td>studi</td>\n",
       "      <td>study</td>\n",
       "    </tr>\n",
       "  </tbody>\n",
       "</table>\n",
       "</div>"
      ],
      "text/plain": [
       "     Original PorterStemmer LancasterStemmer\n",
       "0     running           run              run\n",
       "1      runner        runner              run\n",
       "2      easily        easili             easy\n",
       "3      fairly        fairli             fair\n",
       "4   happiness         happi            happy\n",
       "5      crying           cri              cry\n",
       "6       flies           fli              fli\n",
       "7      flying           fli              fly\n",
       "8      denied          deni             deny\n",
       "9     studies         studi            study\n",
       "10   studying         studi            study"
      ]
     },
     "execution_count": 29,
     "metadata": {},
     "output_type": "execute_result"
    }
   ],
   "source": [
    "import pandas as pd\n",
    "\n",
    "# Create a DataFrame for visualization\n",
    "df = pd.DataFrame({\n",
    "    \"Original\": words,\n",
    "    \"PorterStemmer\": [porter.stem(word) for word in words],\n",
    "    \"LancasterStemmer\": [lancaster.stem(word) for word in words]\n",
    "})\n",
    "\n",
    "df\n"
   ]
  },
  {
   "cell_type": "markdown",
   "id": "c5d5bea7-ef0f-4013-bfac-1e1cf7ecbdf9",
   "metadata": {},
   "source": [
    "##  Lemmatization in NLP\n",
    "\n",
    "**Lemmatization** is a process of reducing words to their base or dictionary form (called a *lemma*), using context and vocabulary. Unlike stemming, it always returns valid words.\n",
    "\n",
    "For example:\n",
    "- \"running\" → \"run\"\n",
    "- \"better\" → \"good\"\n",
    "- \"was\" → \"be\"\n",
    "\n",
    "### Why Use Lemmatization?\n",
    "- More accurate than stemming (uses grammar rules and vocabulary)\n",
    "- Helps in tasks where understanding actual word forms is important, like language modeling, question answering, or chatbot systems.\n",
    "\n",
    "### How It Works:\n",
    "Lemmatization considers:\n",
    "- The word's **Part of Speech (POS)** (e.g., noun, verb, adjective)\n",
    "- Context from surrounding words\n",
    "\n",
    "### NLTK's Lemmatizer:\n",
    "- `WordNetLemmatizer` (requires POS tag for better accuracy)\n"
   ]
  },
  {
   "cell_type": "code",
   "execution_count": 30,
   "id": "63bbc73f-4959-4362-b049-b6b1bc698f54",
   "metadata": {},
   "outputs": [],
   "source": [
    "import nltk\n",
    "from nltk.stem import WordNetLemmatizer\n",
    "from nltk.corpus import wordnet\n",
    "from nltk import pos_tag, word_tokenize\n"
   ]
  },
  {
   "cell_type": "code",
   "execution_count": 31,
   "id": "0a0ded9c-670f-4da5-87a8-d0899f8cd812",
   "metadata": {},
   "outputs": [],
   "source": [
    "# Function to map NLTK POS tags to WordNet POS tags\n",
    "def get_wordnet_pos(nltk_tag):\n",
    "    if nltk_tag.startswith('J'):\n",
    "        return wordnet.ADJ\n",
    "    elif nltk_tag.startswith('V'):\n",
    "        return wordnet.VERB\n",
    "    elif nltk_tag.startswith('N'):\n",
    "        return wordnet.NOUN\n",
    "    elif nltk_tag.startswith('R'):\n",
    "        return wordnet.ADV\n",
    "    else:\n",
    "        return wordnet.NOUN  # Default to noun\n"
   ]
  },
  {
   "cell_type": "code",
   "execution_count": 32,
   "id": "019c5c22-ac23-4d90-9ef0-207b3462c055",
   "metadata": {},
   "outputs": [],
   "source": [
    "lemmatizer = WordNetLemmatizer()\n",
    "\n",
    "def lemmatize_sentence(sentence):\n",
    "    tokens = word_tokenize(sentence)\n",
    "    tagged = pos_tag(tokens)\n",
    "    lemmatized = [lemmatizer.lemmatize(word, get_wordnet_pos(tag)) for word, tag in tagged]\n",
    "    return ' '.join(lemmatized)\n"
   ]
  },
  {
   "cell_type": "code",
   "execution_count": 33,
   "id": "0d42cf4a-e39e-4272-a26d-70d8071febde",
   "metadata": {},
   "outputs": [
    {
     "name": "stdout",
     "output_type": "stream",
     "text": [
      "Original : The striped bats are hanging on their feet for best.\n",
      "Lemmatized: The striped bat be hang on their foot for best .\n",
      "\n",
      "Original : He was running and eating at same time. He has bad habit of swimming after playing long hours in the Sun.\n",
      "Lemmatized: He be run and eat at same time . He have bad habit of swimming after play long hour in the Sun .\n",
      "\n",
      "Original : Cats chasing mice is a classic example in NLP.\n",
      "Lemmatized: Cats chase mouse be a classic example in NLP .\n",
      "\n"
     ]
    }
   ],
   "source": [
    "sentences = [\n",
    "    \"The striped bats are hanging on their feet for best.\",\n",
    "    \"He was running and eating at same time. He has bad habit of swimming after playing long hours in the Sun.\",\n",
    "    \"Cats chasing mice is a classic example in NLP.\"\n",
    "]\n",
    "\n",
    "for s in sentences:\n",
    "    print(f\"Original : {s}\")\n",
    "    print(f\"Lemmatized: {lemmatize_sentence(s)}\\n\")\n"
   ]
  },
  {
   "cell_type": "markdown",
   "id": "1efdd6a9-f7ac-461e-ba88-1fe1da637772",
   "metadata": {},
   "source": [
    "# Day 7: Machine Translation – From Rule-Based to Neural Networks (task1)"
   ]
  },
  {
   "cell_type": "markdown",
   "id": "8ed513fe-7723-48fb-ac79-74ec2766ca0d",
   "metadata": {},
   "source": [
    "## Overview of Machine Translation (MT)\n",
    "Machine Translation (MT) refers to the use of algorithms to automatically translate text between human languages. The field has evolved through several phases:\n",
    "\n",
    "Rule-Based MT (RBMT) – Manually crafted rules and dictionaries.\n",
    "\n",
    "Statistical MT (SMT) – Data-driven models using phrase alignments.\n",
    "\n",
    "Neural MT (NMT) – End-to-end deep learning systems using neural networks."
   ]
  },
  {
   "cell_type": "markdown",
   "id": "cdec55eb-0e6c-44ca-b2fa-187d84a0aebe",
   "metadata": {},
   "source": [
    "## Rule-Based Machine Translation\n",
    "Utilized linguistic rules: syntax trees, morphology, and bilingual dictionaries.\n",
    "\n",
    "Failed in real-world applications due to the complexity and ambiguity of natural languages.\n",
    "\n",
    " Limitation: Poor handling of polysemy and context (e.g., \"bass\" = fish or musical tone).\n",
    "\n",
    "## Statistical Machine Translation (SMT)\n",
    "Based on probabilistic models: 𝑃(𝐸∣𝐹)∝𝑃(𝐹∣𝐸)𝑃(𝐸) \n",
    "P(E∣F)∝P(F∣E)P(E)\n",
    "\n",
    "Translation model 𝑃(𝐹∣𝐸)\n",
    "P(F∣E): likelihood of source sentence F given target sentence E.\n",
    "\n",
    "Language model 𝑃(𝐸)\n",
    "P(E): fluency of target sentence.\n",
    "\n",
    "Learned from parallel corpora using word/phrase alignment algorithms (e.g., IBM Models, GIZA++).\n",
    "\n",
    " Example:\n",
    "Alignment of \"I eat apples\" → \"Je mange des pommes\" learned via word co-occurrence statistics.\n",
    "\n",
    "## Neural Machine Translation (NMT)\n",
    "Introduced around 2014, NMT uses sequence-to-sequence (seq2seq) models:\n",
    "\n",
    "Encoder: Converts input sequence into a dense vector.\n",
    "\n",
    "Decoder: Generates the output sequence from this vector.\n",
    "\n",
    "These models are trained end-to-end using cross-entropy loss on large parallel corpora.\n",
    "\n",
    "NMT better handles sentences like:\n",
    "Input: \"He didn’t turn up\"\n",
    "NMT: \"Il ne s’est pas présenté\" (correct idiomatic translation in French)\n",
    "\n",
    "\n",
    "## Sequence-to-Sequence (Seq2Seq) with RNNs\n",
    "Encoder and decoder are often implemented using LSTMs or GRUs.\n",
    "\n",
    "The encoder outputs a context vector, which summarizes the input.\n",
    "\n",
    "The decoder generates tokens one by one, optionally using teacher forcing during training (i.e., feeding the ground truth token at each time step).\n",
    "\n",
    " Limitation: Bottleneck caused by compressing long sequences into a single context vector.\n",
    "\n",
    "## Attention Mechanism\n",
    "To overcome the context bottleneck, attention allows the decoder to access the encoder’s hidden states at every time step:\n",
    "\n",
    "This dynamically weights the encoder outputs and improves long-sequence translation and alignment quality.\n",
    "\n",
    "## BLEU Score (Bilingual Evaluation Understudy)\n",
    "Evaluates translation quality based on n-gram precision against human references.\n",
    "\n",
    "Incorporates a brevity penalty to penalize short translations.\n",
    "\n",
    "Limitations: Doesn't measure semantic adequacy or fluency directly."
   ]
  },
  {
   "cell_type": "markdown",
   "id": "a1db964b-be8f-4b3d-a73f-35796fa786bd",
   "metadata": {},
   "source": [
    "# DAY 7 (task 2)"
   ]
  },
  {
   "cell_type": "markdown",
   "id": "559e1e8a-088a-490b-aadf-6a53480582b9",
   "metadata": {},
   "source": [
    "## Lemmatization: spaCy vs NLTK\n",
    "\n",
    "Lemmatization reduces a word to its base or dictionary form (called a lemma). Unlike stemming, it produces actual words and considers the part of speech, making it more accurate.\n",
    "\n",
    "We'll use:\n",
    "- **spaCy**: `.lemma_` property on tokens\n",
    "- **NLTK**: `WordNetLemmatizer`\n"
   ]
  },
  {
   "cell_type": "code",
   "execution_count": 34,
   "id": "ac8eb825-99b0-4ee0-9c25-e057457f8cbf",
   "metadata": {},
   "outputs": [],
   "source": [
    "# Imports\n",
    "import spacy\n",
    "import nltk\n",
    "from nltk.stem import WordNetLemmatizer\n",
    "from nltk.corpus import wordnet\n",
    "\n",
    "# Initialize\n",
    "lemmatizer = WordNetLemmatizer()\n",
    "nlp = spacy.load(\"en_core_web_sm\")\n"
   ]
  },
  {
   "cell_type": "code",
   "execution_count": 35,
   "id": "f01de569-fce8-46f9-b913-e7dcd271d2b9",
   "metadata": {},
   "outputs": [
    {
     "name": "stdout",
     "output_type": "stream",
     "text": [
      "spaCy Lemmatization:\n",
      "The --> the\n",
      "striped --> striped\n",
      "bats --> bat\n",
      "were --> be\n",
      "hanging --> hang\n",
      "on --> on\n",
      "their --> their\n",
      "feet --> foot\n",
      "for --> for\n",
      "best --> good\n"
     ]
    }
   ],
   "source": [
    "# Example sentence\n",
    "sentence = \"The striped bats were hanging on their feet for best\"\n",
    "\n",
    "# spaCy lemmatization\n",
    "doc = nlp(sentence)\n",
    "print(\"spaCy Lemmatization:\")\n",
    "for token in doc:\n",
    "    print(f\"{token.text} --> {token.lemma_}\")\n"
   ]
  },
  {
   "cell_type": "code",
   "execution_count": 36,
   "id": "b880a656-d90f-45dd-8d74-945308320da3",
   "metadata": {},
   "outputs": [
    {
     "name": "stdout",
     "output_type": "stream",
     "text": [
      "\n",
      "NLTK Lemmatization:\n",
      "The --> The\n",
      "striped --> striped\n",
      "bats --> bat\n",
      "were --> were\n",
      "hanging --> hanging\n",
      "on --> on\n",
      "their --> their\n",
      "feet --> foot\n",
      "for --> for\n",
      "best --> best\n"
     ]
    }
   ],
   "source": [
    "# NLTK Lemmatization (default POS = noun)\n",
    "print(\"\\nNLTK Lemmatization:\")\n",
    "for word in sentence.split():\n",
    "    print(f\"{word} --> {lemmatizer.lemmatize(word)}\")\n"
   ]
  },
  {
   "cell_type": "markdown",
   "id": "808a74a4-48eb-463a-8a0b-9b9a640cd463",
   "metadata": {},
   "source": [
    "## Stemming vs Lemmatization\n",
    "\n",
    "- **Stemming** is a rule-based approach that chops off word endings. It can result in non-words.\n",
    "- **Lemmatization** uses vocabulary and POS to return dictionary forms.\n",
    "\n",
    "Let's compare them using NLTK's PorterStemmer and WordNetLemmatizer.\n"
   ]
  },
  {
   "cell_type": "code",
   "execution_count": 37,
   "id": "a3383cd3-2b9c-4f24-8341-291b7bc55efd",
   "metadata": {},
   "outputs": [
    {
     "name": "stdout",
     "output_type": "stream",
     "text": [
      "Word            Stem            Lemma          \n",
      "=============================================\n",
      "running         run             running        \n",
      "flies           fli             fly            \n",
      "better          better          better         \n",
      "caring          care            caring         \n",
      "flying          fli             flying         \n",
      "denied          deni            denied         \n"
     ]
    }
   ],
   "source": [
    "from nltk.stem import PorterStemmer\n",
    "\n",
    "stemmer = PorterStemmer()\n",
    "words = [\"running\", \"flies\", \"better\", \"caring\", \"flying\", \"denied\"]\n",
    "\n",
    "print(\"{:<15} {:<15} {:<15}\".format(\"Word\", \"Stem\", \"Lemma\"))\n",
    "print(\"=\"*45)\n",
    "for word in words:\n",
    "    print(\"{:<15} {:<15} {:<15}\".format(word, stemmer.stem(word), lemmatizer.lemmatize(word)))\n"
   ]
  },
  {
   "cell_type": "markdown",
   "id": "e213c411-f7b1-41b6-8086-180829f5f538",
   "metadata": {},
   "source": [
    "## Why Lemmatization is Better\n",
    "\n",
    "- Stemming may convert \"caring\" → \"car\", which is misleading.\n",
    "- Lemmatization preserves meaning and returns valid dictionary words.\n",
    "- For tasks like text classification or search, lemmatization ensures semantic integrity.\n",
    "\n",
    "Example:\n",
    "- \"better\" → Lemma: \"good\"\n",
    "- \"flies\" → Lemma: \"fly\"\n",
    "- \"running\" → Lemma: \"run\"\n",
    "\n",
    "This allows better generalization of language patterns.\n"
   ]
  },
  {
   "cell_type": "markdown",
   "id": "6e19ce01-ae3d-4c9a-b793-9eabbb43aa3d",
   "metadata": {},
   "source": [
    "## Lemmatization in Preprocessing\n",
    "\n",
    "Let's add lemmatization as a step in a text preprocessing pipeline.\n"
   ]
  },
  {
   "cell_type": "code",
   "execution_count": 38,
   "id": "e750efce-f9b2-4e6a-8ff8-8c161a78c1e6",
   "metadata": {},
   "outputs": [
    {
     "name": "stdout",
     "output_type": "stream",
     "text": [
      "Original: The striped bats were hanging on their feet for best results.\n",
      "Processed: ['striped', 'bat', 'hang', 'foot', 'good', 'result']\n"
     ]
    }
   ],
   "source": [
    "import string\n",
    "\n",
    "def preprocess(text):\n",
    "    doc = nlp(text.lower())  # lowercase + tokenize\n",
    "    tokens = [token.lemma_ for token in doc if token.text not in string.punctuation and not token.is_stop]\n",
    "    return tokens\n",
    "\n",
    "text = \"The striped bats were hanging on their feet for best results.\"\n",
    "print(\"Original:\", text)\n",
    "print(\"Processed:\", preprocess(text))\n"
   ]
  },
  {
   "cell_type": "markdown",
   "id": "24343d48-e260-4ef4-aa33-5ae7aaac198a",
   "metadata": {},
   "source": [
    "# DAY 8 (task 1) : TextPreprocessor Class"
   ]
  },
  {
   "cell_type": "code",
   "execution_count": 39,
   "id": "3b953b41-2b34-4011-b1d5-edae59e7d6b2",
   "metadata": {},
   "outputs": [],
   "source": [
    "import re\n",
    "import string\n",
    "import nltk\n",
    "from nltk.tokenize import word_tokenize\n",
    "from nltk.corpus import stopwords, wordnet\n",
    "from nltk.stem import WordNetLemmatizer\n",
    "from nltk import pos_tag\n",
    "\n",
    "\n",
    "class TextPreprocessor:\n",
    "    def __init__(self):\n",
    "        self.stop_words = set(stopwords.words('english'))\n",
    "        self.lemmatizer = WordNetLemmatizer()\n",
    "\n",
    "    def get_wordnet_pos(self, tag):\n",
    "        \"\"\"Convert POS tag to a format compatible with WordNetLemmatizer\"\"\"\n",
    "        if tag.startswith('J'):\n",
    "            return wordnet.ADJ\n",
    "        elif tag.startswith('V'):\n",
    "            return wordnet.VERB\n",
    "        elif tag.startswith('N'):\n",
    "            return wordnet.NOUN\n",
    "        elif tag.startswith('R'):\n",
    "            return wordnet.ADV\n",
    "        else:\n",
    "            return wordnet.NOUN\n",
    "\n",
    "    def preprocess(self, text):\n",
    "        # Lowercase\n",
    "        text = text.lower()\n",
    "        # Remove punctuation\n",
    "        text = re.sub(f\"[{re.escape(string.punctuation)}]\", \"\", text)\n",
    "        # Tokenize\n",
    "        tokens = word_tokenize(text)\n",
    "        # Remove stopwords\n",
    "        tokens = [token for token in tokens if token not in self.stop_words]\n",
    "        # POS tagging\n",
    "        tagged = pos_tag(tokens)\n",
    "        # Lemmatize\n",
    "        lemmatized = [self.lemmatizer.lemmatize(word, self.get_wordnet_pos(tag)) for word, tag in tagged]\n",
    "        return lemmatized\n"
   ]
  },
  {
   "cell_type": "code",
   "execution_count": 40,
   "id": "13af3e9f-2485-439d-b54f-297f031f8121",
   "metadata": {},
   "outputs": [
    {
     "name": "stdout",
     "output_type": "stream",
     "text": [
      "\n",
      "Original 1: Cats are running faster than dogs in the park.\n",
      "Cleaned 1: ['cat', 'run', 'faster', 'dog', 'park']\n",
      "\n",
      "Original 2: He was driving the car very recklessly.\n",
      "Cleaned 2: ['drive', 'car', 'recklessly']\n",
      "\n",
      "Original 3: They had been eating at the new restaurant every weekend.\n",
      "Cleaned 3: ['eat', 'new', 'restaurant', 'every', 'weekend']\n"
     ]
    }
   ],
   "source": [
    "preprocessor = TextPreprocessor()\n",
    "\n",
    "texts = [\n",
    "    \"Cats are running faster than dogs in the park.\",\n",
    "    \"He was driving the car very recklessly.\",\n",
    "    \"They had been eating at the new restaurant every weekend.\"\n",
    "]\n",
    "\n",
    "for i, text in enumerate(texts, 1):\n",
    "    print(f\"\\nOriginal {i}: {text}\")\n",
    "    print(f\"Cleaned {i}: {preprocessor.preprocess(text)}\")\n"
   ]
  },
  {
   "cell_type": "markdown",
   "id": "8952afd3-5f46-4efa-aad7-0a7d95dcc49f",
   "metadata": {},
   "source": [
    "## spaCy Preprocessing Pipeline\n",
    "\n",
    "We’ll write a preprocessing function using spaCy to do:\n",
    "\n",
    "Lowercasing\n",
    "\n",
    "Tokenization\n",
    "\n",
    "Punctuation removal\n",
    "\n",
    "Stopword removal\n",
    "\n",
    "Lemmatization"
   ]
  },
  {
   "cell_type": "code",
   "execution_count": 41,
   "id": "1f0c39bb-1579-455a-a772-40fdf15d6922",
   "metadata": {},
   "outputs": [],
   "source": [
    "import spacy\n",
    "\n",
    "# Load English model\n",
    "nlp = spacy.load(\"en_core_web_sm\")\n",
    "\n",
    "def spacy_preprocess(text):\n",
    "    doc = nlp(text)\n",
    "    clean_tokens = []\n",
    "    for token in doc:\n",
    "        if not token.is_punct and not token.is_space and not token.is_stop:\n",
    "            clean_tokens.append(token.lemma_.lower())\n",
    "    return clean_tokens\n"
   ]
  },
  {
   "cell_type": "code",
   "execution_count": 42,
   "id": "a8a7446e-bb60-4f46-a962-4ec6c527af08",
   "metadata": {},
   "outputs": [
    {
     "name": "stdout",
     "output_type": "stream",
     "text": [
      "spaCy Output 1: ['quick', 'brown', 'fox', 'jump', 'lazy', 'dog', 'park']\n",
      "spaCy Output 2: ['natural', 'language', 'processing', 'spacy', 'efficient', 'accurate']\n",
      "NLTK Output 1: ['quick', 'brown', 'fox', 'jumping', 'lazy', 'dog', 'park']\n",
      "NLTK Output 2: ['natural', 'language', 'processing', 'spacy', 'quite', 'efficient', 'accurate']\n"
     ]
    }
   ],
   "source": [
    "sample_text1 = \"The quick brown foxes were jumping over the lazy dogs in the park.\"\n",
    "sample_text2 = \"Natural Language Processing with spaCy is quite efficient and accurate!\"\n",
    "\n",
    "# Test spaCy\n",
    "print(\"spaCy Output 1:\", spacy_preprocess(sample_text1))\n",
    "print(\"spaCy Output 2:\", spacy_preprocess(sample_text2))\n",
    "\n",
    "# Test NLTK\n",
    "from nltk.corpus import stopwords, wordnet\n",
    "from nltk.tokenize import word_tokenize\n",
    "from nltk.stem import WordNetLemmatizer\n",
    "import string\n",
    "import re\n",
    "\n",
    "lemmatizer = WordNetLemmatizer()\n",
    "stop_words = set(stopwords.words('english'))\n",
    "\n",
    "def nltk_preprocess(text):\n",
    "    # Lowercase\n",
    "    text = text.lower()\n",
    "    # Remove punctuation\n",
    "    text = re.sub(f\"[{re.escape(string.punctuation)}]\", \"\", text)\n",
    "    # Tokenize\n",
    "    tokens = word_tokenize(text)\n",
    "    # Remove stopwords + lemmatize\n",
    "    clean_tokens = [lemmatizer.lemmatize(word) for word in tokens if word not in stop_words]\n",
    "    return clean_tokens\n",
    "\n",
    "print(\"NLTK Output 1:\", nltk_preprocess(sample_text1))\n",
    "print(\"NLTK Output 2:\", nltk_preprocess(sample_text2))\n"
   ]
  },
  {
   "cell_type": "markdown",
   "id": "7b1536ab-68b9-473a-86a0-baf6072e5284",
   "metadata": {},
   "source": [
    "### Pros & Cons\n",
    "\n",
    "### spaCy\n",
    "\n",
    "Pros:\n",
    "\n",
    "More accurate lemmatization (context-aware)\n",
    "\n",
    "Built-in support for tokenization, POS tagging, NER\n",
    "\n",
    "Handles multi-word expressions, contractions better\n",
    "\n",
    "Cons:\n",
    "\n",
    "Heavier to load (~30–50MB)\n",
    "\n",
    "Requires installing large models for deep tasks\n",
    "\n",
    "### NLTK\n",
    "Pros:\n",
    "\n",
    "Lightweight and customizable\n",
    "\n",
    "Easy to integrate with other Python tools\n",
    "\n",
    "Good for educational purposes\n",
    "\n",
    "Cons:\n",
    "\n",
    "Lemmatizer is dictionary-based (WordNet), not context-aware\n",
    "\n",
    "Tokenization and POS tagging are simpler (less accurate)\n",
    "\n"
   ]
  },
  {
   "cell_type": "markdown",
   "id": "1a45440d-1ec9-49c8-b282-df3c526e6cfe",
   "metadata": {},
   "source": [
    "# DAY 8 (task 2) :  LEC8-Self-Attention and Transformers"
   ]
  },
  {
   "cell_type": "markdown",
   "id": "0aacbbb9-ec86-42b6-ad71-c1e52b512e8b",
   "metadata": {},
   "source": [
    "## 1. Why Do We Need Transformers?\n",
    "Traditional RNNs and LSTMs process text sequentially, which causes problems:\n",
    "\n",
    "Can't parallelize easily\n",
    "\n",
    "Hard to learn long-range dependencies\n",
    "\n",
    "Slow inference/training\n",
    "\n",
    "Transformers solve this by using self-attention, allowing the model to \"look at all words at once\" instead of step-by-step.\n",
    "\n"
   ]
  },
  {
   "cell_type": "markdown",
   "id": "1e7335a9-121a-4023-a2ac-52427361ece4",
   "metadata": {},
   "source": [
    "##  2. Self-Attention Intuition\n",
    "Each word tries to understand:\n",
    "\n",
    "\"Which other words in the sentence are important for me?\"\n",
    "\n",
    "So every word computes a weighted average of all words in the sequence.\n",
    "\n",
    "Let’s break this down with a simple sentence:"
   ]
  },
  {
   "cell_type": "code",
   "execution_count": 43,
   "id": "09b1f116-d781-4edb-a5d6-cf706da4734b",
   "metadata": {},
   "outputs": [],
   "source": [
    "sentence = [\"The\", \"cat\", \"sat\", \"on\", \"the\", \"mat\"]\n"
   ]
  },
  {
   "cell_type": "markdown",
   "id": "29ac1f62-5e15-447c-a65c-3fafbb7053ce",
   "metadata": {},
   "source": [
    "##  3. Self-Attention Math: Queries, Keys, and Values\n",
    "Think of Self-Attention as a Lookup System\n",
    "In any sentence, when you read a word, you look around to understand its meaning based on context. Self-attention mimics this by letting each word look at other words and decide how much attention to pay to them.\n",
    "\n",
    "To do that, we create 3 vectors for each word:\n",
    "\n",
    "Query (Q): What I'm looking for\n",
    "\n",
    "Key (K): What I contain\n",
    "\n",
    "Value (V): What I offer if you pay attention to me\n",
    "\n",
    "Each word asks: “How much should I pay attention to every other word?”\n",
    "The answer depends on how well my Query matches the other word’s Key.\n",
    "\n",
    "Let’s take a toy example sentence:\n",
    "Sentence: \"The cat sat\"\n",
    "Let’s assume each word has an embedding vector of size 3."
   ]
  },
  {
   "cell_type": "code",
   "execution_count": 44,
   "id": "0feddde5-910a-4cd1-b38f-7fed80b9c4bb",
   "metadata": {},
   "outputs": [
    {
     "name": "stdout",
     "output_type": "stream",
     "text": [
      "Attention Output:\n",
      " [[0.51905558 0.83677799 0.91324065]\n",
      " [0.58315394 0.92929156 1.02900759]\n",
      " [0.50882941 0.82193301 0.89451367]]\n"
     ]
    }
   ],
   "source": [
    "import numpy as np\n",
    "\n",
    "# Let's pretend each word is a 3D embedding\n",
    "words = [\"The\", \"cat\", \"sat\"]\n",
    "word_vectors = np.random.rand(3, 3)  # (3 words, 3 dimensions)\n",
    "\n",
    "# Random weight matrices for query, key, and value\n",
    "W_q = np.random.rand(3, 3)\n",
    "W_k = np.random.rand(3, 3)\n",
    "W_v = np.random.rand(3, 3)\n",
    "\n",
    "Q = word_vectors @ W_q\n",
    "K = word_vectors @ W_k\n",
    "V = word_vectors @ W_v\n",
    "\n",
    "# Now Q, K, V are all shape (3, 3) — one row per word.\n",
    "# Attention scores = Q @ K.T\n",
    "attention_scores = Q @ K.T\n",
    "\n",
    "# This gives a 3x3 matrix:\n",
    "\n",
    "# Row i tells you how much word i (as query) attends to each word j (as key).\n",
    "\n",
    "# attention_scores[i][j] = dot(Q[i], K[j])\n",
    "# Apply softmax row-wise to normalize \n",
    "def softmax(x):\n",
    "    e_x = np.exp(x - np.max(x, axis=-1, keepdims=True))\n",
    "    return e_x / np.sum(e_x, axis=-1, keepdims=True)\n",
    "\n",
    "attention_weights = softmax(attention_scores)\n",
    "\n",
    "# Final self-attention output\n",
    "output = attention_weights @ V\n",
    "\n",
    "print(\"Attention Output:\\n\", output)\n",
    "# So output[i] is the new embedding for word i, created by a weighted sum of all value\n",
    "# vectors (V) — based on how much attention it gives to each.\n",
    "\n"
   ]
  },
  {
   "cell_type": "markdown",
   "id": "e01390e8-894f-4610-ac46-1cf6de1c1028",
   "metadata": {},
   "source": [
    "## 4. Positional Encoding: Adding Order\n",
    "Transformers don't know word order by default (since they look at all words at once). So we add positional information."
   ]
  },
  {
   "cell_type": "code",
   "execution_count": 45,
   "id": "388206af-1407-4caa-8f48-5c07f7358c89",
   "metadata": {},
   "outputs": [
    {
     "data": {
      "image/png": "[encoded data removed]",
      "text/plain": [
       "<Figure size 640x480 with 2 Axes>"
      ]
     },
     "metadata": {},
     "output_type": "display_data"
    }
   ],
   "source": [
    "import matplotlib.pyplot as plt\n",
    "\n",
    "def get_positional_encoding(seq_len, d_model):\n",
    "    PE = np.zeros((seq_len, d_model))\n",
    "    for pos in range(seq_len):\n",
    "        for i in range(0, d_model, 2):\n",
    "            PE[pos, i] = np.sin(pos / (10000 ** ((2 * i)/d_model)))\n",
    "            if i + 1 < d_model:\n",
    "                PE[pos, i+1] = np.cos(pos / (10000 ** ((2 * i)/d_model)))\n",
    "    return PE\n",
    "\n",
    "PE = get_positional_encoding(10, 16)\n",
    "plt.imshow(PE.T, cmap=\"viridis\")\n",
    "plt.title(\"Positional Encoding\")\n",
    "plt.xlabel(\"Position\")\n",
    "plt.ylabel(\"Encoding Dimension\")\n",
    "plt.colorbar()\n",
    "plt.show()\n"
   ]
  },
  {
   "cell_type": "markdown",
   "id": "ba1ee02c-b673-4e9b-a721-c993ff930a30",
   "metadata": {},
   "source": [
    "##  5. Multi-Head Attention\n",
    "Instead of doing self-attention once, we do it in parallel heads and concatenate the results. This allows the model to learn different types of relationships."
   ]
  },
  {
   "cell_type": "raw",
   "id": "41227ffb-4f9d-4dd2-ba7c-9615e7462614",
   "metadata": {},
   "source": [
    "# Pseudocode (not executable here)\n",
    "for each head:\n",
    "    compute Q, K, V → attention → output\n",
    "\n",
    "concat all heads → project to final output space\n"
   ]
  },
  {
   "cell_type": "markdown",
   "id": "028860c2-9349-4631-9954-82d1c6f957c8",
   "metadata": {},
   "source": [
    "## 6. Transformer Block\n",
    "Each block contains:\n",
    "\n",
    "Multi-head self-attention\n",
    "\n",
    "Add & LayerNorm\n",
    "\n",
    "Feed Forward (Dense) Layer\n",
    "\n",
    "Add & LayerNorm\n",
    "\n",
    "These are stacked multiple times in both encoder and decoder."
   ]
  },
  {
   "cell_type": "markdown",
   "id": "313524d5-ec1e-4490-8c2a-5d6cbdf778a6",
   "metadata": {},
   "source": [
    "##  7. Decoder + Masked Attention\n",
    "In generation (like GPT), we mask future words so the model can’t cheat."
   ]
  },
  {
   "cell_type": "code",
   "execution_count": 46,
   "id": "fb18738c-7e0e-4856-bd9d-84a3ef54db4a",
   "metadata": {},
   "outputs": [
    {
     "name": "stdout",
     "output_type": "stream",
     "text": [
      "[[0. 1. 1. 1. 1.]\n",
      " [0. 0. 1. 1. 1.]\n",
      " [0. 0. 0. 1. 1.]\n",
      " [0. 0. 0. 0. 1.]\n",
      " [0. 0. 0. 0. 0.]]\n"
     ]
    }
   ],
   "source": [
    "# Mask = upper triangle matrix\n",
    "def get_mask(seq_len):\n",
    "    return np.triu(np.ones((seq_len, seq_len)), k=1)\n",
    "\n",
    "mask = get_mask(5)\n",
    "print(mask)\n"
   ]
  },
  {
   "cell_type": "markdown",
   "id": "6bbcb9b4-1716-4bfc-ac03-d3d1b1bd1892",
   "metadata": {},
   "source": [
    "##  8. Why Transformers Work So Well\n",
    "Parallelizable training\n",
    "\n",
    "Global context for every word\n",
    "\n",
    "Effective long-range dependency capture\n",
    "\n",
    "Scales well with data\n",
    "\n"
   ]
  },
  {
   "cell_type": "markdown",
   "id": "767401d1-dba7-4f6e-a9bf-bcf9c48d362f",
   "metadata": {},
   "source": [
    "## 9. Limitations\n",
    "Expensive for very long inputs\n",
    "\n",
    "Quadratic time & memory complexity\n",
    "\n",
    "Still an active research area (e.g., Longformer, FlashAttention)"
   ]
  },
  {
   "cell_type": "markdown",
   "id": "824ceab1-a7d4-49b3-9ee8-3d474b663c80",
   "metadata": {},
   "source": [
    "# DAY 9 (task1) (30.5.25)"
   ]
  },
  {
   "cell_type": "markdown",
   "id": "b4d761c1-69ee-453a-bc72-94ab79bb5b7d",
   "metadata": {},
   "source": [
    "## Run preprocessing pipeline on sample corpus"
   ]
  },
  {
   "cell_type": "code",
   "execution_count": 47,
   "id": "d34ec584-921a-4b63-a0f5-81caa598b41d",
   "metadata": {},
   "outputs": [
    {
     "name": "stderr",
     "output_type": "stream",
     "text": [
      "[nltk_data] Downloading package movie_reviews to\n",
      "[nltk_data]     C:\\Users\\Asus/nltk_data...\n",
      "[nltk_data]   Package movie_reviews is already up-to-date!\n"
     ]
    }
   ],
   "source": [
    "import nltk\n",
    "from nltk.corpus import movie_reviews\n",
    "nltk.download('movie_reviews')\n",
    "\n",
    "\n",
    "import string\n",
    "import re\n",
    "from nltk.corpus import stopwords\n",
    "from nltk.tokenize import word_tokenize\n",
    "from nltk.stem import WordNetLemmatizer\n"
   ]
  },
  {
   "cell_type": "code",
   "execution_count": 48,
   "id": "7e45d4ac-dd86-412a-b9f3-366d875411e4",
   "metadata": {},
   "outputs": [],
   "source": [
    "#  Define sample corpus\n",
    "# Use 2 sample movie reviews for now\n",
    "sample_docs = []\n",
    "for fileid in movie_reviews.fileids()[:2]:\n",
    "    sample_docs.append(movie_reviews.raw(fileid))\n"
   ]
  },
  {
   "cell_type": "code",
   "execution_count": 49,
   "id": "6659575c-9b7e-4472-869a-14690aed1489",
   "metadata": {},
   "outputs": [],
   "source": [
    "# Preprocessing pipeline\n",
    "lemmatizer = WordNetLemmatizer()\n",
    "stop_words = set(stopwords.words('english'))\n",
    "\n",
    "def preprocess(text):\n",
    "    # Lowercasing\n",
    "    text = text.lower()\n",
    "    # Remove punctuation\n",
    "    text = text.translate(str.maketrans('', '', string.punctuation))\n",
    "    # Tokenization\n",
    "    tokens = word_tokenize(text)\n",
    "    # Remove stopwords\n",
    "    tokens = [word for word in tokens if word not in stop_words]\n",
    "    # Lemmatization\n",
    "    tokens = [lemmatizer.lemmatize(word) for word in tokens]\n",
    "    return tokens\n"
   ]
  },
  {
   "cell_type": "code",
   "execution_count": 50,
   "id": "eb8f3b42-48c0-456e-bf7b-8e68e51dea5a",
   "metadata": {},
   "outputs": [],
   "source": [
    "preprocessed_docs = []\n",
    "for doc in sample_docs:\n",
    "    tokens = preprocess(doc)\n",
    "    preprocessed_docs.append(tokens)\n"
   ]
  },
  {
   "cell_type": "code",
   "execution_count": 51,
   "id": "853f0429-e8e6-4d30-b9d3-f78d58b9c380",
   "metadata": {},
   "outputs": [],
   "source": [
    "class TextPreprocessor:\n",
    "    def __init__(self):\n",
    "        self.stop_words = set(stopwords.words('english'))\n",
    "        self.lemmatizer = WordNetLemmatizer()\n",
    "\n",
    "    def clean(self, text):\n",
    "        text = text.lower()\n",
    "        text = text.translate(str.maketrans('', '', string.punctuation))\n",
    "        tokens = word_tokenize(text)\n",
    "        tokens = [word for word in tokens if word not in self.stop_words]\n",
    "        tokens = [self.lemmatizer.lemmatize(word) for word in tokens]\n",
    "        return tokens\n"
   ]
  },
  {
   "cell_type": "markdown",
   "id": "211f6e0e-532e-4b04-bcf0-0955f6f8e74b",
   "metadata": {},
   "source": [
    "## Visualize before vs. after"
   ]
  },
  {
   "cell_type": "code",
   "execution_count": 52,
   "id": "586c05ac-28f8-493e-a5e9-2a120f3774bd",
   "metadata": {},
   "outputs": [
    {
     "name": "stdout",
     "output_type": "stream",
     "text": [
      "Original:\n",
      " plot : two teen couples go to a church party , drink and then drive . \n",
      "they get into an accident . \n",
      "one of the guys dies , but his girlfriend continues to see him in her life , and has nightmares . \n",
      "what's the deal ? \n",
      "watch the movie and \" sorta \" find out . . . \n",
      "critique : a mind-fuck movie for the teen generation that touches on a very cool idea , but presents it in a very bad package . \n",
      "which is what makes this review an even harder one to write , since i generally applaud films which attempt\n",
      "\n",
      "Cleaned Tokens:\n",
      " ['plot', 'two', 'teen', 'couple', 'go', 'church', 'party', 'drink', 'drive', 'get', 'accident', 'one', 'guy', 'dy', 'girlfriend', 'continues', 'see', 'life', 'nightmare', 'whats', 'deal', 'watch', 'movie', 'sorta', 'find', 'critique', 'mindfuck', 'movie', 'teen', 'generation', 'touch', 'cool', 'idea', 'present', 'bad', 'package', 'make', 'review', 'even', 'harder', 'one', 'write', 'since', 'generally', 'applaud', 'film', 'attempt', 'break', 'mold', 'mess']\n"
     ]
    }
   ],
   "source": [
    "print(\"Original:\\n\", sample_docs[0][:500])\n",
    "print(\"\\nCleaned Tokens:\\n\", preprocessed_docs[0][:50])\n"
   ]
  },
  {
   "cell_type": "code",
   "execution_count": 53,
   "id": "80018aa7-acce-477a-9d2a-7fd2a09161dc",
   "metadata": {},
   "outputs": [
    {
     "data": {
      "image/png": "[encoded data removed]",
      "text/plain": [
       "<Figure size 1000x600 with 1 Axes>"
      ]
     },
     "metadata": {},
     "output_type": "display_data"
    }
   ],
   "source": [
    "import matplotlib.pyplot as plt\n",
    "from collections import Counter\n",
    "\n",
    "word_freq = Counter(preprocessed_docs[0])\n",
    "most_common = word_freq.most_common(15)\n",
    "words, freqs = zip(*most_common)\n",
    "\n",
    "plt.figure(figsize=(10, 6))\n",
    "plt.bar(words, freqs)\n",
    "plt.title(\"Top 15 Words After Preprocessing\")\n",
    "plt.xticks(rotation=45)\n",
    "plt.show()\n"
   ]
  },
  {
   "cell_type": "markdown",
   "id": "a63b60c9-719c-467b-8c5e-1bee5493d6a4",
   "metadata": {},
   "source": [
    "# DAY 9 (task2): \n",
    "\n",
    "# CS224N Lecture: Pretraining in NLP\n",
    "\n",
    "---\n",
    "\n",
    "##  Introduction to Pretraining\n",
    "\n",
    "Pretraining refers to training a language model on a large, unlabeled corpus to learn general linguistic patterns before fine-tuning it for a specific task (e.g., sentiment analysis, translation).\n",
    "\n",
    "It enables models to:\n",
    "- Learn rich, contextual representations of words.\n",
    "- Generalize better across various NLP tasks.\n",
    "\n",
    "---\n",
    "\n",
    "##  The Problem with Fixed Vocabularies\n",
    "\n",
    "Earlier models like Word2Vec had a fixed vocabulary. Words not in the vocabulary were replaced with an **UNK** (unknown) token, losing valuable semantic information.\n",
    "\n",
    "### Example\n",
    "\n"
   ]
  },
  {
   "cell_type": "code",
   "execution_count": 54,
   "id": "1003d92a-27b0-4843-8e78-d4a538ed0bfb",
   "metadata": {},
   "outputs": [
    {
     "name": "stdout",
     "output_type": "stream",
     "text": [
      "UNK\n"
     ]
    }
   ],
   "source": [
    "sentence = \"unhappiness\"\n",
    "vocab = {\"happy\", \"sad\", \"joy\"}\n",
    "\n",
    "if sentence not in vocab:\n",
    "    print(\"UNK\")\n"
   ]
  },
  {
   "cell_type": "markdown",
   "id": "27f9963e-b480-4117-ba1c-e5156b9de6fd",
   "metadata": {},
   "source": [
    "This is problematic because unhappiness clearly carries sentiment and meaning, but gets dropped entirely."
   ]
  },
  {
   "cell_type": "markdown",
   "id": "ecd86a96-7a25-4546-a823-bc08ee041c1e",
   "metadata": {},
   "source": [
    "## Subword Modeling\n",
    "Instead of treating unhappiness as a single word, we break it into subwords like:\n",
    "\n",
    "un + happy + ness\n",
    "\n",
    "Subword tokenization (e.g., using BPE or WordPiece) helps model rare or unseen words more effectively.\n",
    "\n",
    "Example using Hugging Face Tokenizer"
   ]
  },
  {
   "cell_type": "code",
   "execution_count": 55,
   "id": "a7d0b38f-65af-427e-980c-c577f74f054c",
   "metadata": {},
   "outputs": [
    {
     "name": "stdout",
     "output_type": "stream",
     "text": [
      "['un', '##ha', '##pp', '##iness']\n"
     ]
    }
   ],
   "source": [
    "from transformers import AutoTokenizer\n",
    "\n",
    "tokenizer = AutoTokenizer.from_pretrained(\"bert-base-uncased\")\n",
    "tokens = tokenizer.tokenize(\"unhappiness\")\n",
    "print(tokens)\n"
   ]
  },
  {
   "cell_type": "markdown",
   "id": "50ecbb4d-b854-4f37-96f9-a1a802c23207",
   "metadata": {},
   "source": [
    "## Contextual Representations\n",
    "Unlike Word2Vec (static embeddings), contextual models generate different vectors for the same word based on surrounding context.\n",
    "\n",
    "### Example"
   ]
  },
  {
   "cell_type": "code",
   "execution_count": 56,
   "id": "ebf2ea7e-69eb-475f-80ac-a93340782f2b",
   "metadata": {},
   "outputs": [
    {
     "name": "stderr",
     "output_type": "stream",
     "text": [
      "Xet Storage is enabled for this repo, but the 'hf_xet' package is not installed. Falling back to regular HTTP download. For better performance, install the package with: `pip install huggingface_hub[hf_xet]` or `pip install hf_xet`\n"
     ]
    },
    {
     "data": {
      "application/vnd.jupyter.widget-view+json": {
       "model_id": "f68225a7f0404a93ad9fba1ef8bed31f",
       "version_major": 2,
       "version_minor": 0
      },
      "text/plain": [
       "model.safetensors:   0%|          | 0.00/440M [00:00<?, ?B/s]"
      ]
     },
     "metadata": {},
     "output_type": "display_data"
    },
    {
     "name": "stderr",
     "output_type": "stream",
     "text": [
      "C:\\Users\\Asus\\AppData\\Local\\Programs\\Python\\Python311\\Lib\\site-packages\\huggingface_hub\\file_download.py:143: UserWarning: `huggingface_hub` cache-system uses symlinks by default to efficiently store duplicated files but your machine does not support them in C:\\Users\\Asus\\.cache\\huggingface\\hub\\models--bert-base-uncased. Caching files will still work but in a degraded version that might require more space on your disk. This warning can be disabled by setting the `HF_HUB_DISABLE_SYMLINKS_WARNING` environment variable. For more details, see https://huggingface.co/docs/huggingface_hub/how-to-cache#limitations.\n",
      "To support symlinks on Windows, you either need to activate Developer Mode or to run Python as an administrator. In order to activate developer mode, see this article: https://docs.microsoft.com/en-us/windows/apps/get-started/enable-your-device-for-development\n",
      "  warnings.warn(message)\n"
     ]
    },
    {
     "name": "stdout",
     "output_type": "stream",
     "text": [
      "Different embeddings for 'bank' depending on context\n"
     ]
    }
   ],
   "source": [
    "from transformers import AutoModel, AutoTokenizer\n",
    "import torch\n",
    "\n",
    "tokenizer = AutoTokenizer.from_pretrained(\"bert-base-uncased\")\n",
    "model = AutoModel.from_pretrained(\"bert-base-uncased\")\n",
    "\n",
    "sentence1 = \"He went to the bank to deposit money\"\n",
    "sentence2 = \"She sat by the river bank\"\n",
    "\n",
    "inputs1 = tokenizer(sentence1, return_tensors=\"pt\")\n",
    "inputs2 = tokenizer(sentence2, return_tensors=\"pt\")\n",
    "\n",
    "with torch.no_grad():\n",
    "    outputs1 = model(**inputs1).last_hidden_state\n",
    "    outputs2 = model(**inputs2).last_hidden_state\n",
    "\n",
    "print(\"Different embeddings for 'bank' depending on context\")\n"
   ]
  },
  {
   "cell_type": "markdown",
   "id": "62978fb1-9587-4d67-9eee-338a28c48ebd",
   "metadata": {},
   "source": [
    "## Pretraining Objectives\n",
    "1. Masked Language Modeling (MLM)\n",
    "Used in BERT. Randomly masks ~15% of tokens, and the model tries to predict them.\n",
    "\n",
    "### Example"
   ]
  },
  {
   "cell_type": "code",
   "execution_count": 57,
   "id": "e1b18526-95ec-4407-90c0-7059ce61cccd",
   "metadata": {},
   "outputs": [
    {
     "name": "stderr",
     "output_type": "stream",
     "text": [
      "Some weights of the model checkpoint at bert-base-uncased were not used when initializing BertForMaskedLM: ['bert.pooler.dense.bias', 'bert.pooler.dense.weight', 'cls.seq_relationship.bias', 'cls.seq_relationship.weight']\n",
      "- This IS expected if you are initializing BertForMaskedLM from the checkpoint of a model trained on another task or with another architecture (e.g. initializing a BertForSequenceClassification model from a BertForPreTraining model).\n",
      "- This IS NOT expected if you are initializing BertForMaskedLM from the checkpoint of a model that you expect to be exactly identical (initializing a BertForSequenceClassification model from a BertForSequenceClassification model).\n",
      "Device set to use cpu\n"
     ]
    },
    {
     "data": {
      "text/plain": [
       "[{'score': 0.16506372392177582,\n",
       "  'token': 2204,\n",
       "  'token_str': 'good',\n",
       "  'sequence': 'the weather is good today.'},\n",
       " {'score': 0.11934636533260345,\n",
       "  'token': 4010,\n",
       "  'token_str': 'warm',\n",
       "  'sequence': 'the weather is warm today.'},\n",
       " {'score': 0.060145191848278046,\n",
       "  'token': 10256,\n",
       "  'token_str': 'mild',\n",
       "  'sequence': 'the weather is mild today.'},\n",
       " {'score': 0.043130915611982346,\n",
       "  'token': 2986,\n",
       "  'token_str': 'fine',\n",
       "  'sequence': 'the weather is fine today.'},\n",
       " {'score': 0.03318683058023453,\n",
       "  'token': 4658,\n",
       "  'token_str': 'cool',\n",
       "  'sequence': 'the weather is cool today.'}]"
      ]
     },
     "execution_count": 57,
     "metadata": {},
     "output_type": "execute_result"
    }
   ],
   "source": [
    "from transformers import pipeline\n",
    "\n",
    "fill_mask = pipeline(\"fill-mask\", model=\"bert-base-uncased\")\n",
    "fill_mask(\"The weather is [MASK] today.\")\n",
    "\n",
    "#Output: [sunny, nice, good, rainy, warm] — based on context."
   ]
  },
  {
   "cell_type": "markdown",
   "id": "938c95f3-f537-4781-8c30-5a6cb07338be",
   "metadata": {},
   "source": [
    "## Model Architectures\n",
    "Encoder-Decoder\n",
    "Used in sequence-to-sequence tasks like translation.\n",
    "\n",
    "E.g., T5, BART.\n",
    "\n",
    "Decoder-Only\n",
    "Used in autoregressive language generation.\n",
    "\n",
    "E.g., GPT family (GPT-2, GPT-3, GPT-4)."
   ]
  },
  {
   "cell_type": "markdown",
   "id": "97675739-2a38-423b-946b-eb99a95b7f04",
   "metadata": {},
   "source": [
    "## GPT and Autoregressive Pretraining\n",
    "GPT uses a decoder-only architecture and trains with causal language modeling:\n",
    "\n",
    "Predict the next word based on previous words.\n",
    "\n",
    "No masking; instead, future tokens are hidden during training.\n",
    "\n",
    "### Example: Text Generation"
   ]
  },
  {
   "cell_type": "code",
   "execution_count": 58,
   "id": "4edc1f70-f195-493a-b435-dfe16a4b86c2",
   "metadata": {},
   "outputs": [
    {
     "data": {
      "application/vnd.jupyter.widget-view+json": {
       "model_id": "603d17e9ae26462da5701168fc3cc6f1",
       "version_major": 2,
       "version_minor": 0
      },
      "text/plain": [
       "config.json:   0%|          | 0.00/665 [00:00<?, ?B/s]"
      ]
     },
     "metadata": {},
     "output_type": "display_data"
    },
    {
     "name": "stderr",
     "output_type": "stream",
     "text": [
      "C:\\Users\\Asus\\AppData\\Local\\Programs\\Python\\Python311\\Lib\\site-packages\\huggingface_hub\\file_download.py:143: UserWarning: `huggingface_hub` cache-system uses symlinks by default to efficiently store duplicated files but your machine does not support them in C:\\Users\\Asus\\.cache\\huggingface\\hub\\models--gpt2. Caching files will still work but in a degraded version that might require more space on your disk. This warning can be disabled by setting the `HF_HUB_DISABLE_SYMLINKS_WARNING` environment variable. For more details, see https://huggingface.co/docs/huggingface_hub/how-to-cache#limitations.\n",
      "To support symlinks on Windows, you either need to activate Developer Mode or to run Python as an administrator. In order to activate developer mode, see this article: https://docs.microsoft.com/en-us/windows/apps/get-started/enable-your-device-for-development\n",
      "  warnings.warn(message)\n",
      "Xet Storage is enabled for this repo, but the 'hf_xet' package is not installed. Falling back to regular HTTP download. For better performance, install the package with: `pip install huggingface_hub[hf_xet]` or `pip install hf_xet`\n"
     ]
    },
    {
     "data": {
      "application/vnd.jupyter.widget-view+json": {
       "model_id": "7a78ccb51d454330945e54da93f7286a",
       "version_major": 2,
       "version_minor": 0
      },
      "text/plain": [
       "model.safetensors:   0%|          | 0.00/548M [00:00<?, ?B/s]"
      ]
     },
     "metadata": {},
     "output_type": "display_data"
    },
    {
     "data": {
      "application/vnd.jupyter.widget-view+json": {
       "model_id": "6582a18412034e85ae3f59149e78884c",
       "version_major": 2,
       "version_minor": 0
      },
      "text/plain": [
       "generation_config.json:   0%|          | 0.00/124 [00:00<?, ?B/s]"
      ]
     },
     "metadata": {},
     "output_type": "display_data"
    },
    {
     "data": {
      "application/vnd.jupyter.widget-view+json": {
       "model_id": "b32fad861ffd437bb16ff3403bf35394",
       "version_major": 2,
       "version_minor": 0
      },
      "text/plain": [
       "tokenizer_config.json:   0%|          | 0.00/26.0 [00:00<?, ?B/s]"
      ]
     },
     "metadata": {},
     "output_type": "display_data"
    },
    {
     "data": {
      "application/vnd.jupyter.widget-view+json": {
       "model_id": "47126caff26a430991f051fb9dce314c",
       "version_major": 2,
       "version_minor": 0
      },
      "text/plain": [
       "vocab.json:   0%|          | 0.00/1.04M [00:00<?, ?B/s]"
      ]
     },
     "metadata": {},
     "output_type": "display_data"
    },
    {
     "data": {
      "application/vnd.jupyter.widget-view+json": {
       "model_id": "e4af3fd8a9814df4b446bc77e4e003fb",
       "version_major": 2,
       "version_minor": 0
      },
      "text/plain": [
       "merges.txt:   0%|          | 0.00/456k [00:00<?, ?B/s]"
      ]
     },
     "metadata": {},
     "output_type": "display_data"
    },
    {
     "data": {
      "application/vnd.jupyter.widget-view+json": {
       "model_id": "fd62f71b3e9d4092beeb2341a23a962e",
       "version_major": 2,
       "version_minor": 0
      },
      "text/plain": [
       "tokenizer.json:   0%|          | 0.00/1.36M [00:00<?, ?B/s]"
      ]
     },
     "metadata": {},
     "output_type": "display_data"
    },
    {
     "name": "stderr",
     "output_type": "stream",
     "text": [
      "Device set to use cpu\n",
      "Truncation was not explicitly activated but `max_length` is provided a specific value, please use `truncation=True` to explicitly truncate examples to max length. Defaulting to 'longest_first' truncation strategy. If you encode pairs of sequences (GLUE-style) with the tokenizer you can select this strategy more precisely by providing a specific strategy to `truncation`.\n",
      "Setting `pad_token_id` to `eos_token_id`:50256 for open-end generation.\n",
      "Both `max_new_tokens` (=256) and `max_length`(=20) seem to have been set. `max_new_tokens` will take precedence. Please refer to the documentation for more information. (https://huggingface.co/docs/transformers/main/en/main_classes/text_generation)\n"
     ]
    },
    {
     "data": {
      "text/plain": [
       "[{'generated_text': \"The future of AI is uncertain, as AI remains a very nascent field. But it has been shown to be able to learn a lot, and to be able to solve a lot of problems, in a very short amount of time. It's an open question of whether or not human-machine interactions will ever solve the problems of AI.\\n\\nSo, with the technology that we've been able to create, I'm not sure that the future of AI will be that far-fetched. I'm not sure that it will be quite the opposite. There will be lots of problems that AI can solve, and lots of people will be able to solve them. But I'm not sure that AI will be a lot more difficult to solve than computer programs or artificial intelligence. That's the question that I'm not sure is so far-fetched at this point.\\n\\nThe question is how long will that be, and what can we expect to achieve with the technology that we're working with, and the possibilities for AI that we're working with.\\n\\nThe current technology has an enormous potential to solve most of the problems that we face. What we're seeing with the AI is that it's a very fast-growing field. It's getting bigger and bigger, and so far it has developed\"}]"
      ]
     },
     "execution_count": 58,
     "metadata": {},
     "output_type": "execute_result"
    }
   ],
   "source": [
    "from transformers import pipeline\n",
    "\n",
    "generator = pipeline(\"text-generation\", model=\"gpt2\")\n",
    "generator(\"The future of AI is\", max_length=20, num_return_sequences=1)\n"
   ]
  },
  {
   "cell_type": "markdown",
   "id": "d434b741-7f4e-4d84-9315-e25e3ce79ef1",
   "metadata": {},
   "source": [
    "## Improvements in Pretraining\n",
    "RoBERTa improved on BERT by removing the Next Sentence Prediction task and training longer on more data.\n",
    "\n",
    "Lightweight fine-tuning methods (e.g., adapters, LoRA) reduce training costs and memory use."
   ]
  },
  {
   "cell_type": "code",
   "execution_count": null,
   "id": "24d9b5fa-e930-4ea7-99fd-d6cb34d8c990",
   "metadata": {},
   "outputs": [],
   "source": []
  }
 ],
 "metadata": {
  "kernelspec": {
   "display_name": "Python 3 (ipykernel)",
   "language": "python",
   "name": "python3"
  },
  "language_info": {
   "codemirror_mode": {
    "name": "ipython",
    "version": 3
   },
   "file_extension": ".py",
   "mimetype": "text/x-python",
   "name": "python",
   "nbconvert_exporter": "python",
   "pygments_lexer": "ipython3",
   "version": "3.11.3"
  }
 },
 "nbformat": 4,
 "nbformat_minor": 5
}
