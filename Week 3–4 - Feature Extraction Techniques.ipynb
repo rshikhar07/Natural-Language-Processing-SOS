{
 "cells": [
  {
   "cell_type": "markdown",
   "id": "c0ff4c85-2a8a-416d-9002-59b95fc2d76c",
   "metadata": {},
   "source": [
    "#  June 2 (task 1) — Intro to Text Representations in NLP\n",
    "\n",
    "In this notebook, we'll explore foundational methods for representing text data in numerical form so that it can be fed into machine learning models.\n",
    "\n",
    "## 🔍 Topics:\n",
    "- One-Hot Encoding\n",
    "- Bag of Words (BoW) using `CountVectorizer`\n",
    "- Tokenization and feature matrix generation\n"
   ]
  },
  {
   "cell_type": "markdown",
   "id": "1d4f7bf9-c040-4ab4-84f0-3552459ebe8d",
   "metadata": {},
   "source": [
    "## 🔡 One-Hot Encoding\n",
    "\n",
    "One-hot encoding represents each word in the vocabulary as a binary vector. Each vector has a `1` at the position of that word and `0` elsewhere.\n",
    "\n",
    "It is:\n",
    "- Simple and intuitive\n",
    "- But doesn't capture relationships between words\n",
    "- Memory inefficient for large vocabularies\n",
    "\n",
    "### Example:\n",
    "Vocabulary: [\"apple\", \"banana\", \"cat\"]\n",
    "\n",
    "- \"apple\" → [1, 0, 0]  \n",
    "- \"banana\" → [0, 1, 0]  \n",
    "- \"cat\" → [0, 0, 1]\n"
   ]
  },
  {
   "cell_type": "code",
   "execution_count": 1,
   "id": "40b0262b-ccb7-4399-97ff-76c0ad543e64",
   "metadata": {},
   "outputs": [
    {
     "name": "stdout",
     "output_type": "stream",
     "text": [
      "One-hot for 'banana': [0. 1. 0.]\n"
     ]
    }
   ],
   "source": [
    "import numpy as np\n",
    "\n",
    "# Define a small vocabulary\n",
    "vocab = [\"apple\", \"banana\", \"cat\"]\n",
    "word_to_index = {word: idx for idx, word in enumerate(vocab)}\n",
    "\n",
    "# Function to one-hot encode a word\n",
    "def one_hot_encode(word, vocab_size=len(vocab)):\n",
    "    vec = np.zeros(vocab_size)\n",
    "    if word in word_to_index:\n",
    "        vec[word_to_index[word]] = 1\n",
    "    return vec\n",
    "\n",
    "# Encode\n",
    "print(\"One-hot for 'banana':\", one_hot_encode(\"banana\"))\n"
   ]
  },
  {
   "cell_type": "markdown",
   "id": "58c30dcf-1ce4-480b-87b5-8c7f23a10c99",
   "metadata": {},
   "source": [
    "## 🧺 Bag of Words (BoW)\n",
    "\n",
    "BoW represents a text as a **frequency vector**: how many times each word from the vocabulary appears in a document.\n",
    "\n",
    "Unlike one-hot, BoW:\n",
    "- Handles multi-word inputs (e.g., whole sentences)\n",
    "- Still doesn't capture word order or meaning\n",
    "- Used commonly in text classification tasks\n",
    "\n",
    "BoW is implemented using tools like `CountVectorizer` in `scikit-learn`.\n"
   ]
  },
  {
   "cell_type": "code",
   "execution_count": 2,
   "id": "91c7b647-f9ce-4ae1-80da-12a93472aa15",
   "metadata": {},
   "outputs": [
    {
     "name": "stdout",
     "output_type": "stream",
     "text": [
      "Vocabulary: {'the': 8, 'cat': 0, 'sat': 7, 'on': 6, 'mat': 4, 'dog': 2, 'log': 3, 'chased': 1, 'mouse': 5}\n",
      "\n",
      "Document-Term Matrix:\n",
      " [[1 0 0 0 1 0 1 1 2]\n",
      " [0 0 1 1 0 0 1 1 2]\n",
      " [1 1 0 0 0 1 0 0 2]]\n"
     ]
    }
   ],
   "source": [
    "from sklearn.feature_extraction.text import CountVectorizer\n",
    "\n",
    "# Sample documents\n",
    "docs = [\n",
    "    \"the cat sat on the mat\",\n",
    "    \"the dog sat on the log\",\n",
    "    \"the cat chased the mouse\"\n",
    "]\n",
    "\n",
    "# Create CountVectorizer instance\n",
    "vectorizer = CountVectorizer()\n",
    "\n",
    "# Fit and transform\n",
    "X = vectorizer.fit_transform(docs)\n",
    "\n",
    "# View vocabulary\n",
    "print(\"Vocabulary:\", vectorizer.vocabulary_)\n",
    "\n",
    "# Convert to dense array\n",
    "print(\"\\nDocument-Term Matrix:\\n\", X.toarray())\n"
   ]
  },
  {
   "cell_type": "markdown",
   "id": "4b204533-403b-4072-b587-393f83036a1a",
   "metadata": {},
   "source": [
    "## 📊 Feature Matrix\n",
    "\n",
    "Each row in the matrix corresponds to a document.\n",
    "Each column corresponds to a word in the vocabulary.\n",
    "The value at `(i, j)` is the **count of word `j` in document `i`**.\n",
    "\n",
    "> For example: If \"cat\" appears twice in doc 1, then matrix[0][cat_index] = 2\n",
    "\n",
    "This is a **sparse**, **high-dimensional** representation of text.\n"
   ]
  },
  {
   "cell_type": "code",
   "execution_count": 3,
   "id": "a920a8ea-8709-404b-b432-c6c4b28d37bd",
   "metadata": {},
   "outputs": [
    {
     "data": {
      "text/html": [
       "<div>\n",
       "<style scoped>\n",
       "    .dataframe tbody tr th:only-of-type {\n",
       "        vertical-align: middle;\n",
       "    }\n",
       "\n",
       "    .dataframe tbody tr th {\n",
       "        vertical-align: top;\n",
       "    }\n",
       "\n",
       "    .dataframe thead th {\n",
       "        text-align: right;\n",
       "    }\n",
       "</style>\n",
       "<table border=\"1\" class=\"dataframe\">\n",
       "  <thead>\n",
       "    <tr style=\"text-align: right;\">\n",
       "      <th></th>\n",
       "      <th>cat</th>\n",
       "      <th>chased</th>\n",
       "      <th>dog</th>\n",
       "      <th>log</th>\n",
       "      <th>mat</th>\n",
       "      <th>mouse</th>\n",
       "      <th>on</th>\n",
       "      <th>sat</th>\n",
       "      <th>the</th>\n",
       "    </tr>\n",
       "  </thead>\n",
       "  <tbody>\n",
       "    <tr>\n",
       "      <th>Doc1</th>\n",
       "      <td>1</td>\n",
       "      <td>0</td>\n",
       "      <td>0</td>\n",
       "      <td>0</td>\n",
       "      <td>1</td>\n",
       "      <td>0</td>\n",
       "      <td>1</td>\n",
       "      <td>1</td>\n",
       "      <td>2</td>\n",
       "    </tr>\n",
       "    <tr>\n",
       "      <th>Doc2</th>\n",
       "      <td>0</td>\n",
       "      <td>0</td>\n",
       "      <td>1</td>\n",
       "      <td>1</td>\n",
       "      <td>0</td>\n",
       "      <td>0</td>\n",
       "      <td>1</td>\n",
       "      <td>1</td>\n",
       "      <td>2</td>\n",
       "    </tr>\n",
       "    <tr>\n",
       "      <th>Doc3</th>\n",
       "      <td>1</td>\n",
       "      <td>1</td>\n",
       "      <td>0</td>\n",
       "      <td>0</td>\n",
       "      <td>0</td>\n",
       "      <td>1</td>\n",
       "      <td>0</td>\n",
       "      <td>0</td>\n",
       "      <td>2</td>\n",
       "    </tr>\n",
       "  </tbody>\n",
       "</table>\n",
       "</div>"
      ],
      "text/plain": [
       "      cat  chased  dog  log  mat  mouse  on  sat  the\n",
       "Doc1    1       0    0    0    1      0   1    1    2\n",
       "Doc2    0       0    1    1    0      0   1    1    2\n",
       "Doc3    1       1    0    0    0      1   0    0    2"
      ]
     },
     "execution_count": 3,
     "metadata": {},
     "output_type": "execute_result"
    }
   ],
   "source": [
    "import pandas as pd\n",
    "\n",
    "# Show as DataFrame for clarity\n",
    "df = pd.DataFrame(X.toarray(), columns=vectorizer.get_feature_names_out())\n",
    "df.index = [\"Doc1\", \"Doc2\", \"Doc3\"]\n",
    "df\n"
   ]
  },
  {
   "cell_type": "markdown",
   "id": "adfd6f79-20e5-4a50-abf2-01b35e9c7470",
   "metadata": {},
   "source": [
    "## ✅ Summary\n",
    "\n",
    "- One-hot encoding is simple but not practical for larger corpora.\n",
    "- Bag of Words creates a document-term matrix using word counts.\n",
    "- Both are **sparse**, **non-contextual** encodings.\n",
    "\n"
   ]
  },
  {
   "cell_type": "markdown",
   "id": "9f3755bc-3bcd-4098-8601-dd91cda8defb",
   "metadata": {},
   "source": [
    "# 🎓 (task 2) Training Large Language Models: Prompting, Fine-Tuning, and RLHF\n",
    "\n",
    "This notebook summarizes Jesse Mu’s lecture on how modern language models are trained and aligned for real-world interactions, such as in ChatGPT, Bing, and other LLMs.\n",
    "\n",
    "We'll explore:\n",
    "- Prompting (zero-shot, few-shot)\n",
    "- Instruction fine-tuning\n",
    "- RLHF (Reinforcement Learning from Human Feedback)\n"
   ]
  },
  {
   "cell_type": "markdown",
   "id": "fbebcdce-31df-4aac-bc7d-4a6d2a23a40a",
   "metadata": {},
   "source": [
    "## 🧠 1. What Are Language Models?\n",
    "\n",
    "Large Language Models (LLMs) are trained on vast datasets to predict the **next word** in a sequence. Over time, this simple task leads to learning complex language structures and world knowledge.\n",
    "\n",
    "- They behave as **implicit world models**, absorbing facts, reasoning patterns, and user intent from raw text.\n",
    "- This makes them capable of **text generation**, **translation**, **summarization**, and more.\n"
   ]
  },
  {
   "cell_type": "markdown",
   "id": "c3aec05f-693c-4bb4-aa55-ffd74e8fc94e",
   "metadata": {},
   "source": [
    "## 🪄 2. Prompting: Zero-shot and Few-shot Learning\n",
    "\n",
    "### 🔹 Zero-shot:\n",
    "You ask the model a question directly, with no examples.\n",
    "> E.g., *\"Translate this to French: 'I am happy'\"*\n",
    "\n",
    "### 🔹 Few-shot:\n",
    "You give the model a few labeled examples in the prompt.\n",
    "> E.g.,\n",
    "Translate English to French:\n",
    "\n",
    "I am happy → Je suis content\n",
    "\n",
    "How are you → Comment ça va\n",
    "\n",
    "I love cats → J'aime les chats"
   ]
  },
  {
   "cell_type": "markdown",
   "id": "0d645f66-51e7-4316-9f03-766ee83eab07",
   "metadata": {},
   "source": [
    "\n",
    "Then you add your query.\n",
    "\n",
    "This approach emerged with GPT-2 and GPT-3, showing that **training on many tasks enables multitask inference**, even without explicit supervision.\n"
   ]
  },
  {
   "cell_type": "code",
   "execution_count": 4,
   "id": "7660618b-03f0-48c8-94ec-7698ab34437d",
   "metadata": {},
   "outputs": [
    {
     "name": "stdout",
     "output_type": "stream",
     "text": [
      "Translate English to French:\n",
      "- I am happy → Je suis content\n",
      "- How are you → Comment ça va\n",
      "- I love cats → J'aime les chats\n",
      "- I am tired →\n"
     ]
    }
   ],
   "source": [
    "# Simulating few-shot prompting logic\n",
    "prompt = \"\"\"Translate English to French:\n",
    "- I am happy → Je suis content\n",
    "- How are you → Comment ça va\n",
    "- I love cats → J'aime les chats\n",
    "- I am tired →\"\"\"\n",
    "\n",
    "print(prompt)\n"
   ]
  },
  {
   "cell_type": "markdown",
   "id": "da9f645f-6110-42d9-9723-34bd13594dc7",
   "metadata": {},
   "source": [
    "## 📋 3. Instruction Fine-Tuning\n",
    "\n",
    "Prompting alone isn’t always reliable. So we fine-tune models on datasets like:\n",
    "- **Super-NaturalInstructions** – millions of (instruction, input, output) triplets\n",
    "\n",
    "Fine-tuning the model to follow instructions helps align it with **human intent**.\n",
    "This forms the basis of models like:\n",
    "- `text-davinci-003` (InstructGPT)\n",
    "- ChatGPT\n",
    "\n",
    "**Before fine-tuning:**\n",
    "> *\"Translate the following\"* might yield arbitrary completions.\n",
    "\n",
    "**After fine-tuning:**\n",
    "> The model understands it's expected to produce structured, helpful, task-specific outputs.\n"
   ]
  },
  {
   "cell_type": "markdown",
   "id": "c360bad1-c35b-45a4-bf5c-c3e2131d3416",
   "metadata": {},
   "source": [
    "## 🏆 4. RLHF: Reinforcement Learning from Human Feedback\n",
    "\n",
    "Even fine-tuned models might give unhelpful or verbose answers. RLHF improves this further by:\n",
    "\n",
    "1. Collecting human preference data (Which of 2 outputs is better?)\n",
    "2. Training a **reward model** to predict human preferences\n",
    "3. Using **reinforcement learning (e.g., PPO)** to update the language model\n",
    "\n",
    "This trains the model not just to be correct, but to be **helpful, safe, and aligned**.\n",
    "\n",
    "### Key idea:\n",
    "- Instead of just \"next word prediction\", the model is rewarded for **satisfying the user**.\n"
   ]
  },
  {
   "cell_type": "markdown",
   "id": "d28d7326-431c-4b26-9a7d-153f808c33d8",
   "metadata": {},
   "source": [
    "## 🚧 5. Challenges Ahead\n",
    "\n",
    "Despite instruction tuning and RLHF, major issues remain:\n",
    "- **Hallucination**: The model confidently generates false information.\n",
    "- **Over-optimization**: Trained too hard to please the reward model → less creativity or truthfulness.\n",
    "- **Human Feedback is Costly**: Needs scalable and reliable alternatives.\n",
    "\n",
    "### 🔮 Future Focus:\n",
    "- AI-assisted feedback systems\n",
    "- Better evaluation benchmarks\n",
    "- Controlling bias, toxicity, and truthfulness\n"
   ]
  },
  {
   "cell_type": "markdown",
   "id": "b5835f91-715f-49fd-84db-ffffc60b3e41",
   "metadata": {},
   "source": [
    "## ✅ Summary\n",
    "\n",
    "| Technique                | Goal                                      |\n",
    "|--------------------------|-------------------------------------------|\n",
    "| **Prompting**            | Task inference without further training   |\n",
    "| **Instruction Tuning**   | Teach the model to follow natural commands |\n",
    "| **RLHF**                 | Optimize model to align with human intent |\n",
    "\n",
    "Together, these stages evolve LLMs from basic predictors into **safe, helpful assistants** like ChatGPT.\n",
    "\n",
    "> This layered training strategy is critical for making models usable in real-world applications.\n"
   ]
  },
  {
   "cell_type": "markdown",
   "id": "9fd0113e-fa38-4e17-b01c-8cf8a8af9081",
   "metadata": {},
   "source": [
    "# JUNE 3 (task 1): Video Lecture Summary"
   ]
  },
  {
   "cell_type": "markdown",
   "id": "f8d77333-2cf5-4a68-92b9-35562bdfeae6",
   "metadata": {},
   "source": [
    "# 📝 Natural Language Generation (NLG) – Lecture Summary\n",
    "\n",
    "- What is NLG?\n",
    "- Applications in real-world tasks\n",
    "- Decoding methods (e.g., greedy, beam search)\n",
    "- Training strategies (MLE, reinforcement learning)\n",
    "- Evaluation metrics (BLEU, ROUGE, MAUVE)\n",
    "- Ethical concerns and future directions\n"
   ]
  },
  {
   "cell_type": "markdown",
   "id": "769680b7-bddd-4d96-a9fd-936957c493d3",
   "metadata": {},
   "source": [
    "## 🧠 What is NLG?\n",
    "\n",
    "**Natural Language Generation (NLG)** is the process of producing fluent, coherent, human-like text from input data.\n",
    "\n",
    "This contrasts with **Natural Language Understanding (NLU)**, which interprets or extracts meaning from text.\n",
    "\n",
    "### 🔍 Examples of NLG:\n",
    "- Machine translation (e.g., English → French)\n",
    "- Chatbots (e.g., Siri, ChatGPT)\n",
    "- Text summarization\n",
    "- Creative writing / story generation\n",
    "- Visual descriptions from images (captioning)\n",
    "- Structured data → text (e.g., weather reports)\n"
   ]
  },
  {
   "cell_type": "markdown",
   "id": "21214745-25cf-471b-a577-a4914b4bb9d6",
   "metadata": {},
   "source": [
    "## 🔁 Autoregressive Models\n",
    "\n",
    "Most NLG systems use **autoregressive models**:\n",
    "- Text is generated **token by token**\n",
    "- Each token depends on all previous ones\n",
    "\n",
    "### Examples:\n",
    "- GPT, GPT-2/3/4\n",
    "- Transformer decoder-only models\n"
   ]
  },
  {
   "cell_type": "code",
   "execution_count": 5,
   "id": "faa14e62-5967-44e4-ae3b-6f5bb938cd47",
   "metadata": {},
   "outputs": [
    {
     "name": "stderr",
     "output_type": "stream",
     "text": [
      "Device set to use cpu\n",
      "Truncation was not explicitly activated but `max_length` is provided a specific value, please use `truncation=True` to explicitly truncate examples to max length. Defaulting to 'longest_first' truncation strategy. If you encode pairs of sequences (GLUE-style) with the tokenizer you can select this strategy more precisely by providing a specific strategy to `truncation`.\n",
      "Setting `pad_token_id` to `eos_token_id`:50256 for open-end generation.\n",
      "Both `max_new_tokens` (=256) and `max_length`(=30) seem to have been set. `max_new_tokens` will take precedence. Please refer to the documentation for more information. (https://huggingface.co/docs/transformers/main/en/main_classes/text_generation)\n"
     ]
    },
    {
     "name": "stdout",
     "output_type": "stream",
     "text": [
      "Once upon a time in Paris, I would have a conversation with Charles de Gaulle about what he thought of my new book, and it would be like a conversation with someone who is an American, and who has just made me a new book. I was really glad that his book was being written after all those years. I think it was a huge mistake to put a book out before I was able to understand what he was thinking.\n",
      "\n",
      "We have a lot of great American writers, but we have a lot of French writers who are writing about the French. Most of them are American writers, but there are probably a few who are writing about the French, too.\n",
      "\n",
      "Did you ever want to be a novelist?\n",
      "\n",
      "Yes, I had a very good time writing novels in the States. My family was in the country and I was a very good writer. I loved reading books and then writing. I wrote a lot of novels in the States, I think, though I was always in the dark about the books my parents were writing. My father was a big fan of mine, and I had a very good opinion of him. I was very much inspired by his works, but he also wrote a lot of novels.\n",
      "\n",
      "He wrote about his mother being a prostitute, and it\n"
     ]
    }
   ],
   "source": [
    "#Basic Autoregressive Generation with GPT2\n",
    "\n",
    "from transformers import pipeline, set_seed\n",
    "\n",
    "generator = pipeline(\"text-generation\", model=\"gpt2\")\n",
    "set_seed(42)\n",
    "\n",
    "output = generator(\"Once upon a time in Paris,\", max_length=30, num_return_sequences=1)\n",
    "print(output[0][\"generated_text\"])\n"
   ]
  },
  {
   "cell_type": "markdown",
   "id": "d4f5e151-bc85-4d8d-9022-120f0dab6e29",
   "metadata": {},
   "source": [
    "## 📤 Decoding Techniques\n",
    "\n",
    "How the next word is picked during generation greatly affects quality:\n",
    "\n",
    "### 🔹 1. Greedy Decoding\n",
    "- Always picks the highest-probability word\n",
    "- Fast but repetitive or bland\n",
    "\n",
    "### 🔹 2. Beam Search\n",
    "- Keeps top *k* best sequences at each step\n",
    "- More balanced but can still be repetitive\n",
    "\n",
    "### 🔹 3. Sampling\n",
    "- Picks next word based on probability distribution (e.g., top-k, top-p)\n",
    "- Enables diversity and creativity\n",
    "\n",
    "### 🔹 4. Repetition Issues\n",
    "Even advanced models (GPT, LSTMs) can repeat phrases without additional constraints.\n"
   ]
  },
  {
   "cell_type": "code",
   "execution_count": 6,
   "id": "2e4a6d22-abb9-4efb-b7a0-977e763fceab",
   "metadata": {},
   "outputs": [
    {
     "name": "stderr",
     "output_type": "stream",
     "text": [
      "Setting `pad_token_id` to `eos_token_id`:50256 for open-end generation.\n",
      "Both `max_new_tokens` (=256) and `max_length`(=50) seem to have been set. `max_new_tokens` will take precedence. Please refer to the documentation for more information. (https://huggingface.co/docs/transformers/main/en/main_classes/text_generation)\n"
     ]
    },
    {
     "name": "stdout",
     "output_type": "stream",
     "text": [
      "The future of AI in healthcare is uncertain, but we're seeing it thrive in emerging markets. As we continue to see more and more startups seeking to start out in healthcare, healthcare is becoming more accessible to them. Companies like Google, Google+ and Facebook are bringing healthcare technologies in a new direction, and it will be interesting to see how this is accomplished.\n",
      "\n",
      "This article was originally published on The Conversation. Read the original article.\n"
     ]
    }
   ],
   "source": [
    "#Top-k Sampling\n",
    "\n",
    "output = generator(\n",
    "    \"The future of AI in healthcare is\", \n",
    "    max_length=50, \n",
    "    do_sample=True, \n",
    "    top_k=50\n",
    ")\n",
    "print(output[0][\"generated_text\"])\n"
   ]
  },
  {
   "cell_type": "markdown",
   "id": "0a0b745d-e5a0-477c-94fe-c43791c2f484",
   "metadata": {},
   "source": [
    "## 🏋️ Training Strategies\n",
    "\n",
    "### 🔸 Maximum Likelihood Estimation (MLE)\n",
    "- Trains model to maximize probability of correct next token.\n",
    "- Suffers from **exposure bias** (only sees correct context during training).\n",
    "\n",
    "### 🔸 Scheduled Sampling\n",
    "- Mixes predicted tokens with ground truth during training to improve robustness.\n",
    "\n",
    "### 🔸 DAgger (Dataset Aggregation)\n",
    "- Uses feedback from predictions to improve training dynamically.\n",
    "\n",
    "### 🔸 Reinforcement Learning\n",
    "- Optimizes for long-term rewards like human satisfaction (e.g., using RLHF).\n"
   ]
  },
  {
   "cell_type": "markdown",
   "id": "b206cbfb-5c8a-45ee-b486-7ec51810a9a2",
   "metadata": {},
   "source": [
    "## 📏 Evaluation Methods\n",
    "\n",
    "NLG evaluation is hard! It must consider:\n",
    "- Fluency\n",
    "- Factual correctness\n",
    "- Coherence\n",
    "- Relevance\n",
    "\n",
    "### Common Metrics:\n",
    "| Metric | Purpose |\n",
    "|--------|---------|\n",
    "| **BLEU** | Word/phrase overlap (used in MT) |\n",
    "| **ROUGE** | Recall-oriented overlap (used in summarization) |\n",
    "| **BERTScore** | Uses contextual embeddings |\n",
    "| **MAUVE** | KL-divergence + embedding similarity for open-ended tasks |\n",
    "\n",
    "### Human Evaluation:\n",
    "Still the gold standard. Includes fluency, coherence, factuality.\n"
   ]
  },
  {
   "cell_type": "code",
   "execution_count": 7,
   "id": "88fc1c61-f61a-4621-80cd-f42ebcaf0425",
   "metadata": {},
   "outputs": [
    {
     "name": "stdout",
     "output_type": "stream",
     "text": [
      "BLEU Score: 7.262123179505913e-78\n"
     ]
    },
    {
     "name": "stderr",
     "output_type": "stream",
     "text": [
      "C:\\Users\\Asus\\AppData\\Local\\Programs\\Python\\Python311\\Lib\\site-packages\\nltk\\translate\\bleu_score.py:577: UserWarning: \n",
      "The hypothesis contains 0 counts of 4-gram overlaps.\n",
      "Therefore the BLEU score evaluates to 0, independently of\n",
      "how many N-gram overlaps of lower order it contains.\n",
      "Consider using lower n-gram order or use SmoothingFunction()\n",
      "  warnings.warn(_msg)\n"
     ]
    }
   ],
   "source": [
    "#Example BLEU Score\n",
    "\n",
    "from nltk.translate.bleu_score import sentence_bleu\n",
    "\n",
    "reference = [[\"the\", \"cat\", \"is\", \"on\", \"the\", \"mat\"]]\n",
    "candidate = [\"the\", \"cat\", \"sat\", \"on\", \"the\", \"mat\"]\n",
    "\n",
    "print(\"BLEU Score:\", sentence_bleu(reference, candidate))\n"
   ]
  },
  {
   "cell_type": "markdown",
   "id": "cc450b02-5719-4b26-a84f-7c73bd6abdc2",
   "metadata": {},
   "source": [
    "## ⚠️ Ethical Considerations\n",
    "\n",
    "Large-scale NLG models introduce risks:\n",
    "\n",
    "- **Hallucinations**: Making up facts confidently\n",
    "- **Toxicity/Bias**: Reflecting societal or dataset bias\n",
    "- **Misuse**: Fake news, spam generation\n",
    "- **Adversarial Attacks**: Fooling models into generating harmful content\n",
    "\n",
    "### 🔐 Mitigations:\n",
    "- Filter training data\n",
    "- Use reinforcement learning with human feedback (RLHF)\n",
    "- Add guardrails and detection mechanisms\n"
   ]
  },
  {
   "cell_type": "markdown",
   "id": "46e82d57-5807-4845-a1b1-b4a19e22a4a6",
   "metadata": {},
   "source": [
    "# JUNE 3 (task 2): TF-IDF Vectorization"
   ]
  },
  {
   "cell_type": "markdown",
   "id": "57aedf7f-2913-4671-9387-690b92b520ed",
   "metadata": {},
   "source": [
    "## What is TF-IDF?\n",
    "TF-IDF stands for Term Frequency-Inverse Document Frequency, a numerical statistic used to evaluate how important a word is to a document in a collection.\n",
    "\n",
    "It helps balance word frequency in a document against how common or rare the word is across all documents."
   ]
  },
  {
   "cell_type": "markdown",
   "id": "9ab37247-6e3e-43f8-9493-123fd7fec64f",
   "metadata": {},
   "source": [
    " ## Why use it?\n",
    "Common words like “the”, “is”, and “on” may appear frequently, but they carry low information.\n",
    "\n",
    "TF-IDF down-weights frequent/common words and up-weights words that are rare but significant in a specific document.\n",
    "\n"
   ]
  },
  {
   "cell_type": "code",
   "execution_count": 8,
   "id": "84c5808c-c90b-4dbc-84c9-75e4f96e4277",
   "metadata": {},
   "outputs": [
    {
     "data": {
      "text/html": [
       "<div>\n",
       "<style scoped>\n",
       "    .dataframe tbody tr th:only-of-type {\n",
       "        vertical-align: middle;\n",
       "    }\n",
       "\n",
       "    .dataframe tbody tr th {\n",
       "        vertical-align: top;\n",
       "    }\n",
       "\n",
       "    .dataframe thead th {\n",
       "        text-align: right;\n",
       "    }\n",
       "</style>\n",
       "<table border=\"1\" class=\"dataframe\">\n",
       "  <thead>\n",
       "    <tr style=\"text-align: right;\">\n",
       "      <th></th>\n",
       "      <th>and</th>\n",
       "      <th>are</th>\n",
       "      <th>cat</th>\n",
       "      <th>cats</th>\n",
       "      <th>dog</th>\n",
       "      <th>dogs</th>\n",
       "      <th>great</th>\n",
       "      <th>log</th>\n",
       "      <th>mat</th>\n",
       "      <th>on</th>\n",
       "      <th>pets</th>\n",
       "      <th>sat</th>\n",
       "      <th>the</th>\n",
       "    </tr>\n",
       "  </thead>\n",
       "  <tbody>\n",
       "    <tr>\n",
       "      <th>0</th>\n",
       "      <td>0.000000</td>\n",
       "      <td>0.000000</td>\n",
       "      <td>0.427554</td>\n",
       "      <td>0.000000</td>\n",
       "      <td>0.000000</td>\n",
       "      <td>0.000000</td>\n",
       "      <td>0.000000</td>\n",
       "      <td>0.000000</td>\n",
       "      <td>0.427554</td>\n",
       "      <td>0.325166</td>\n",
       "      <td>0.000000</td>\n",
       "      <td>0.325166</td>\n",
       "      <td>0.650331</td>\n",
       "    </tr>\n",
       "    <tr>\n",
       "      <th>1</th>\n",
       "      <td>0.000000</td>\n",
       "      <td>0.000000</td>\n",
       "      <td>0.000000</td>\n",
       "      <td>0.000000</td>\n",
       "      <td>0.427554</td>\n",
       "      <td>0.000000</td>\n",
       "      <td>0.000000</td>\n",
       "      <td>0.427554</td>\n",
       "      <td>0.000000</td>\n",
       "      <td>0.325166</td>\n",
       "      <td>0.000000</td>\n",
       "      <td>0.325166</td>\n",
       "      <td>0.650331</td>\n",
       "    </tr>\n",
       "    <tr>\n",
       "      <th>2</th>\n",
       "      <td>0.408248</td>\n",
       "      <td>0.408248</td>\n",
       "      <td>0.000000</td>\n",
       "      <td>0.408248</td>\n",
       "      <td>0.000000</td>\n",
       "      <td>0.408248</td>\n",
       "      <td>0.408248</td>\n",
       "      <td>0.000000</td>\n",
       "      <td>0.000000</td>\n",
       "      <td>0.000000</td>\n",
       "      <td>0.408248</td>\n",
       "      <td>0.000000</td>\n",
       "      <td>0.000000</td>\n",
       "    </tr>\n",
       "  </tbody>\n",
       "</table>\n",
       "</div>"
      ],
      "text/plain": [
       "        and       are       cat      cats       dog      dogs     great  \\\n",
       "0  0.000000  0.000000  0.427554  0.000000  0.000000  0.000000  0.000000   \n",
       "1  0.000000  0.000000  0.000000  0.000000  0.427554  0.000000  0.000000   \n",
       "2  0.408248  0.408248  0.000000  0.408248  0.000000  0.408248  0.408248   \n",
       "\n",
       "        log       mat        on      pets       sat       the  \n",
       "0  0.000000  0.427554  0.325166  0.000000  0.325166  0.650331  \n",
       "1  0.427554  0.000000  0.325166  0.000000  0.325166  0.650331  \n",
       "2  0.000000  0.000000  0.000000  0.408248  0.000000  0.000000  "
      ]
     },
     "execution_count": 8,
     "metadata": {},
     "output_type": "execute_result"
    }
   ],
   "source": [
    "from sklearn.feature_extraction.text import TfidfVectorizer\n",
    "import pandas as pd\n",
    "\n",
    "corpus = [\n",
    "    \"the cat sat on the mat\",\n",
    "    \"the dog sat on the log\",\n",
    "    \"dogs and cats are great pets\"\n",
    "]\n",
    "\n",
    "vectorizer = TfidfVectorizer()\n",
    "X = vectorizer.fit_transform(corpus)\n",
    "\n",
    "df = pd.DataFrame(X.toarray(), columns=vectorizer.get_feature_names_out())\n",
    "df\n"
   ]
  },
  {
   "cell_type": "markdown",
   "id": "551894ea-538a-43e6-93fb-fe2b73f29521",
   "metadata": {},
   "source": [
    " ## What does this tell us?\n",
    "Each number in the table is the TF-IDF score of a word in a document.\n",
    "\n",
    "Words that are frequent but appear across all documents (e.g. \"the\") will have low scores."
   ]
  },
  {
   "cell_type": "markdown",
   "id": "08f6aeec-fb0c-4aca-a3a0-d39c315d0796",
   "metadata": {},
   "source": [
    "# JUNE 4: Compare BoW vs TF-IDF"
   ]
  },
  {
   "cell_type": "markdown",
   "id": "25052f50-ad5f-4bde-9aab-7018af17ebed",
   "metadata": {},
   "source": [
    " ## Bag of Words (BoW)\n",
    "BoW simply counts how many times each word appears in the document. It doesn’t care about meaning, order, or context.\n",
    "\n",
    "Pros: Simple, fast\n",
    "\n",
    "Cons: Doesn’t distinguish between important and common words"
   ]
  },
  {
   "cell_type": "markdown",
   "id": "93a47c8f-16b5-4393-ab5c-56963e67766c",
   "metadata": {},
   "source": [
    "## TF-IDF\n",
    "TF-IDF improves BoW by weighing rare words more heavily, assuming rare words are more meaningful in identifying the document.\n",
    "\n"
   ]
  },
  {
   "cell_type": "code",
   "execution_count": 9,
   "id": "c623b9db-3ed1-4310-8e4a-9197182816b1",
   "metadata": {},
   "outputs": [
    {
     "name": "stdout",
     "output_type": "stream",
     "text": [
      "BoW sparsity: 1.44\n",
      "TF-IDF sparsity: 1.44\n"
     ]
    },
    {
     "name": "stderr",
     "output_type": "stream",
     "text": [
      "C:\\Users\\Asus\\AppData\\Local\\Programs\\Python\\Python311\\Lib\\site-packages\\IPython\\core\\interactiveshell.py:3577: SparseEfficiencyWarning: Comparing a sparse matrix with 0 using == is inefficient, try using != instead.\n",
      "  exec(code_obj, self.user_global_ns, self.user_ns)\n"
     ]
    }
   ],
   "source": [
    "from sklearn.feature_extraction.text import CountVectorizer\n",
    "import matplotlib.pyplot as plt\n",
    "\n",
    "bow_vectorizer = CountVectorizer()\n",
    "X_bow = bow_vectorizer.fit_transform(corpus)\n",
    "\n",
    "# Sparsity comparison\n",
    "print(f\"BoW sparsity: {(X_bow == 0).sum() / X_bow.size:.2f}\")\n",
    "print(f\"TF-IDF sparsity: {(X == 0).sum() / X.size:.2f}\")\n"
   ]
  },
  {
   "cell_type": "code",
   "execution_count": 10,
   "id": "aeb7f0b8-5527-477a-88dd-16e20a2b7375",
   "metadata": {},
   "outputs": [
    {
     "data": {
      "image/png": "[encoded data removed]",
      "text/plain": [
       "<Figure size 640x480 with 1 Axes>"
      ]
     },
     "metadata": {},
     "output_type": "display_data"
    }
   ],
   "source": [
    "import numpy as np\n",
    "import seaborn as sns\n",
    "\n",
    "# Sum TF-IDF scores for each word across all docs\n",
    "word_scores = X.sum(axis=0).A1\n",
    "words = vectorizer.get_feature_names_out()\n",
    "\n",
    "# Create DataFrame\n",
    "tfidf_df = pd.DataFrame({'word': words, 'score': word_scores})\n",
    "top_words = tfidf_df.sort_values(by=\"score\", ascending=False).head(10)\n",
    "\n",
    "# Plot\n",
    "sns.barplot(x='score', y='word', data=top_words)\n",
    "plt.title(\"Top 10 Words by TF-IDF Score\")\n",
    "plt.show()\n"
   ]
  },
  {
   "cell_type": "markdown",
   "id": "0c1096a9-5549-466f-9f53-9b1e438861a7",
   "metadata": {},
   "source": [
    "# JUNE 5: Intro to Word Embeddings"
   ]
  },
  {
   "cell_type": "markdown",
   "id": "8dee5d70-ec7e-4f8f-94cb-e94ea4b39af0",
   "metadata": {},
   "source": [
    "## What are Word Embeddings?\n",
    "Word embeddings represent words as dense vectors in continuous space, where similar words are closer together.\n",
    "\n",
    "### Examples:\n",
    "\n",
    "vector(\"king\") - vector(\"man\") + vector(\"woman\") ≈ vector(\"queen\")\n",
    "\n",
    "vector(\"apple\") is close to vector(\"banana\"), far from vector(\"car\")"
   ]
  },
  {
   "cell_type": "markdown",
   "id": "22f4e326-d744-44e3-bf81-a8deb4415fd3",
   "metadata": {},
   "source": [
    "## Why not use TF-IDF?\n",
    "TF-IDF is sparse and treats each word as independent (bag of words).\n",
    "\n",
    "It doesn’t capture meaning or relationships.\n",
    "\n",
    "Word embeddings solve this by learning contextual similarity."
   ]
  },
  {
   "cell_type": "markdown",
   "id": "a89c4643-24a2-4d09-aefc-2ba64ae35a51",
   "metadata": {},
   "source": [
    "##  Word2Vec vs GloVe\n",
    "| Feature    | Word2Vec              | GloVe                            |\n",
    "| ---------- | --------------------- | -------------------------------- |\n",
    "| Trained on | Local context windows | Global word co-occurrence matrix |\n",
    "| Output     | Word vectors          | Word vectors                     |\n",
    "| Library    | gensim                | gensim / Stanford's original C   |\n"
   ]
  },
  {
   "cell_type": "code",
   "execution_count": 11,
   "id": "e4b7d4d5-f92e-43c6-aa8f-1257d1408d0b",
   "metadata": {},
   "outputs": [],
   "source": [
    "#Load GloVe Pretrained Vectors\n",
    "\n",
    "import gensim.downloader as api\n",
    "\n",
    "glove_model = api.load(\"glove-wiki-gigaword-50\")  # 50-dimensional\n"
   ]
  },
  {
   "cell_type": "code",
   "execution_count": 12,
   "id": "57f16aae-5d49-4746-a9fa-a7b7d8c763dc",
   "metadata": {},
   "outputs": [
    {
     "name": "stdout",
     "output_type": "stream",
     "text": [
      "Vector for 'dog': [ 0.11008 -0.38781 -0.57615 -0.27714  0.70521]\n",
      "Similarity (dog vs cat): 0.9218005\n",
      "Similarity (dog vs banana): 0.3334643\n"
     ]
    }
   ],
   "source": [
    "#Explore Word Similarity\n",
    "\n",
    "# Vector\n",
    "print(\"Vector for 'dog':\", glove_model['dog'][:5])\n",
    "\n",
    "# Cosine similarity\n",
    "print(\"Similarity (dog vs cat):\", glove_model.similarity('dog', 'cat'))\n",
    "print(\"Similarity (dog vs banana):\", glove_model.similarity('dog', 'banana'))\n"
   ]
  },
  {
   "cell_type": "code",
   "execution_count": 13,
   "id": "f5998345-c5f3-4f8b-8aee-22cedc4ab66b",
   "metadata": {},
   "outputs": [
    {
     "data": {
      "image/png": "[encoded data removed]",
      "text/plain": [
       "<Figure size 800x600 with 1 Axes>"
      ]
     },
     "metadata": {},
     "output_type": "display_data"
    }
   ],
   "source": [
    "#  Visualize Word Embeddings\n",
    "\n",
    "from sklearn.decomposition import PCA\n",
    "import matplotlib.pyplot as plt\n",
    "\n",
    "words = ['king', 'queen', 'man', 'woman', 'apple', 'banana']\n",
    "vectors = [glove_model[word] for word in words]\n",
    "\n",
    "pca = PCA(n_components=2)\n",
    "components = pca.fit_transform(vectors)\n",
    "\n",
    "plt.figure(figsize=(8,6))\n",
    "for i, word in enumerate(words):\n",
    "    plt.scatter(*components[i])\n",
    "    plt.text(components[i][0]+0.01, components[i][1]+0.01, word)\n",
    "plt.title(\"GloVe Embeddings Visualized (PCA)\")\n",
    "plt.grid(True)\n",
    "plt.show()\n"
   ]
  },
  {
   "cell_type": "markdown",
   "id": "b5686f4d-f66a-49c2-ba38-0acff841821a",
   "metadata": {},
   "source": [
    "#  June 6 – Word Similarity Experiments"
   ]
  },
  {
   "cell_type": "markdown",
   "id": "a249fe21-86c1-4c60-87d9-c0aa34a76ff2",
   "metadata": {},
   "source": [
    "## 🧠 Word Vector Arithmetic and Analogy Tasks\n",
    "\n",
    "One of the most fascinating capabilities of word embeddings (like Word2Vec, GloVe) is their ability to capture **semantic relationships** through vector arithmetic.\n",
    "\n",
    "For example, the classic example:\n",
    "\n"
   ]
  },
  {
   "cell_type": "markdown",
   "id": "9d80ab53-511e-4ff6-bacd-b03428013b9b",
   "metadata": {},
   "source": [
    "man - king + woman ≈ queen\n",
    "\n",
    "This is interpreted as:\n",
    "- Take the concept of **\"king\"**, remove **\"man\"**, and add **\"woman\"**\n",
    "- Result: a concept close to **\"queen\"**\n",
    "\n",
    "This works because in a well-trained embedding space:\n",
    "- king - man ≈ royalty\n",
    "- royalty + woman ≈ queen\n",
    "\n",
    "We'll use GloVe (100d) pre-trained vectors to explore this.\n"
   ]
  },
  {
   "cell_type": "code",
   "execution_count": 14,
   "id": "3a2fe7db-556f-4ec3-b704-9888ab655179",
   "metadata": {},
   "outputs": [
    {
     "name": "stdout",
     "output_type": "stream",
     "text": [
      "Top 5 most similar words to 'king - man + woman':\n",
      "queen: 0.7699\n",
      "monarch: 0.6843\n",
      "throne: 0.6756\n",
      "daughter: 0.6595\n",
      "princess: 0.6521\n"
     ]
    }
   ],
   "source": [
    "# Install Gensim if not already installed\n",
    "# !pip install gensim\n",
    "\n",
    "from gensim.downloader import load\n",
    "\n",
    "# Load GloVe 100d model\n",
    "model = load('glove-wiki-gigaword-100')\n",
    "\n",
    "# Word analogy task: king - man + woman\n",
    "result = model.most_similar(positive=['king', 'woman'], negative=['man'], topn=5)\n",
    "\n",
    "print(\"Top 5 most similar words to 'king - man + woman':\")\n",
    "for word, similarity in result:\n",
    "    print(f\"{word}: {similarity:.4f}\")\n"
   ]
  },
  {
   "cell_type": "markdown",
   "id": "3d2f33c3-c445-458d-8e32-a6eaa3e6823a",
   "metadata": {},
   "source": [
    "## 🎯 Cosine Similarity Explanation\n",
    "\n",
    "Word vector similarity is measured using **cosine similarity**:\n",
    "\n",
    "$$\n",
    "\\text{cosine\\_similarity}(A, B) = \\frac{A \\cdot B}{\\|A\\| \\|B\\|}\n",
    "$$\n",
    "\n",
    "\n",
    "- Returns values between -1 (opposite) and 1 (identical direction).\n",
    "- High cosine similarity implies **semantic closeness**.\n"
   ]
  },
  {
   "cell_type": "code",
   "execution_count": 15,
   "id": "28ebde6a-d0cd-48e0-ba71-f18513520996",
   "metadata": {},
   "outputs": [
    {
     "name": "stdout",
     "output_type": "stream",
     "text": [
      "Cosine similarity between 'king' and 'queen': 0.7508\n"
     ]
    }
   ],
   "source": [
    "from sklearn.metrics.pairwise import cosine_similarity\n",
    "import numpy as np\n",
    "\n",
    "word1, word2 = 'king', 'queen'\n",
    "vec1, vec2 = model[word1], model[word2]\n",
    "\n",
    "similarity = cosine_similarity([vec1], [vec2])[0][0]\n",
    "print(f\"Cosine similarity between '{word1}' and '{word2}': {similarity:.4f}\")\n"
   ]
  },
  {
   "cell_type": "markdown",
   "id": "0732a724-c160-4d82-870f-4aa839b67454",
   "metadata": {},
   "source": [
    "#  June 7–8 – PCA & t-SNE Visualization"
   ]
  },
  {
   "cell_type": "markdown",
   "id": "6d1a06d7-c5d0-49e0-8207-0c732cc8745f",
   "metadata": {},
   "source": [
    "## 📊 Visualizing Word Embeddings with PCA and t-SNE\n",
    "\n",
    "Word vectors exist in high-dimensional space (e.g., 100D or 300D). To understand their structure, we use **dimensionality reduction** techniques to project them to 2D:\n",
    "\n",
    "### PCA (Principal Component Analysis):\n",
    "- A **linear** technique that finds orthogonal axes of maximum variance.\n",
    "\n",
    "### t-SNE (t-distributed Stochastic Neighbor Embedding):\n",
    "- A **non-linear** technique that preserves **local structure** (good for clusters).\n"
   ]
  },
  {
   "cell_type": "code",
   "execution_count": 16,
   "id": "2f822554-1c18-4b74-a11b-122a6272eefd",
   "metadata": {},
   "outputs": [
    {
     "data": {
      "image/png": "[encoded data removed]",
      "text/plain": [
       "<Figure size 1000x600 with 1 Axes>"
      ]
     },
     "metadata": {},
     "output_type": "display_data"
    }
   ],
   "source": [
    "from sklearn.decomposition import PCA\n",
    "from sklearn.manifold import TSNE\n",
    "import matplotlib.pyplot as plt\n",
    "\n",
    "# Choose 50 words\n",
    "words = list(model.key_to_index.keys())[:50]\n",
    "word_vectors = np.array([model[word] for word in words])\n",
    "\n",
    "# --- PCA Visualization ---\n",
    "pca = PCA(n_components=2)\n",
    "pca_result = pca.fit_transform(word_vectors)\n",
    "\n",
    "plt.figure(figsize=(10, 6))\n",
    "plt.scatter(pca_result[:, 0], pca_result[:, 1], c='skyblue')\n",
    "\n",
    "for i, word in enumerate(words):\n",
    "    plt.annotate(word, xy=(pca_result[i, 0], pca_result[i, 1]), fontsize=9)\n",
    "plt.title('PCA Visualization of Word Embeddings')\n",
    "plt.grid(True)\n",
    "plt.savefig(\"pca_plot.png\", dpi=300, bbox_inches='tight')\n",
    "\n"
   ]
  },
  {
   "cell_type": "code",
   "execution_count": 31,
   "id": "5fd4857e-e76b-410c-9009-d9ea25668c53",
   "metadata": {},
   "outputs": [
    {
     "data": {
      "image/png": "[encoded data removed]",
      "text/plain": [
       "<Figure size 1000x600 with 1 Axes>"
      ]
     },
     "metadata": {},
     "output_type": "display_data"
    }
   ],
   "source": [
    "# --- t-SNE Visualization ---\n",
    "tsne = TSNE(n_components=2, random_state=42, perplexity=15, n_iter=1000)\n",
    "tsne_result = tsne.fit_transform(word_vectors)\n",
    "\n",
    "plt.figure(figsize=(10, 6))\n",
    "plt.scatter(tsne_result[:, 0], tsne_result[:, 1], c='lightgreen')\n",
    "\n",
    "for i, word in enumerate(words):\n",
    "    plt.annotate(word, xy=(tsne_result[i, 0], tsne_result[i, 1]), fontsize=9)\n",
    "plt.title('t-SNE Visualization of Word Embeddings')\n",
    "plt.grid(True)\n",
    "plt.savefig(\"tsne_plot.png\", dpi=300, bbox_inches='tight')\n"
   ]
  },
  {
   "cell_type": "markdown",
   "id": "31ace9ba-ca7a-4a3d-bcb7-e8a7f16f587a",
   "metadata": {},
   "source": [
    "# June 9 – Sentence Embeddings"
   ]
  },
  {
   "cell_type": "markdown",
   "id": "db32e34c-3e71-4c6f-b156-3deaaf9a0536",
   "metadata": {},
   "source": [
    "## 🔄 Sentence Embeddings\n",
    "\n",
    "Unlike word embeddings, **sentence embeddings** capture the meaning of an entire sentence.\n",
    "\n",
    "There are two common approaches:\n",
    "\n",
    "---\n",
    "\n",
    "### ✅ 1. Mean Pooling of Word Vectors\n",
    "\n",
    "- Average the embeddings of each word in the sentence.\n",
    "- Simple but effective for many tasks.\n"
   ]
  },
  {
   "cell_type": "code",
   "execution_count": 18,
   "id": "7c8d78bb-1ab4-4136-94f4-17dc354b4f84",
   "metadata": {},
   "outputs": [
    {
     "name": "stdout",
     "output_type": "stream",
     "text": [
      "Cosine similarity between the two sentences: 0.9410\n"
     ]
    }
   ],
   "source": [
    "def get_mean_embedding(sentence, model):\n",
    "    words = sentence.lower().split()\n",
    "    valid_vectors = [model[word] for word in words if word in model]\n",
    "    \n",
    "    if valid_vectors:\n",
    "        return np.mean(valid_vectors, axis=0)\n",
    "    else:\n",
    "        return np.zeros(model.vector_size)\n",
    "\n",
    "sentence1 = \"India is a diverse country\"\n",
    "sentence2 = \"Canada is a multicultural nation\"\n",
    "\n",
    "vec1 = get_mean_embedding(sentence1, model)\n",
    "vec2 = get_mean_embedding(sentence2, model)\n",
    "\n",
    "similarity = cosine_similarity([vec1], [vec2])[0][0]\n",
    "print(f\"Cosine similarity between the two sentences: {similarity:.4f}\")\n"
   ]
  },
  {
   "cell_type": "markdown",
   "id": "64923b11-0af9-4c97-8f1e-a9dfd53d64d6",
   "metadata": {},
   "source": [
    "### ✅ 2. Using BERT [CLS] Token\n",
    "\n",
    "BERT (Bidirectional Encoder Representations from Transformers) outputs contextual embeddings. The `[CLS]` token's embedding represents the **entire sentence**.\n",
    "\n",
    "We'll use `bert-base-uncased` via HuggingFace's Transformers.\n"
   ]
  },
  {
   "cell_type": "code",
   "execution_count": 19,
   "id": "8b7b0520-3e4b-4c0c-a98d-94675628fbc5",
   "metadata": {},
   "outputs": [
    {
     "name": "stdout",
     "output_type": "stream",
     "text": [
      "BERT [CLS] similarity between the two sentences: 0.9502\n"
     ]
    }
   ],
   "source": [
    "# !pip install transformers sentence-transformers\n",
    "\n",
    "from transformers import BertTokenizer, BertModel\n",
    "import torch\n",
    "\n",
    "tokenizer = BertTokenizer.from_pretrained('bert-base-uncased')\n",
    "model_bert = BertModel.from_pretrained('bert-base-uncased')\n",
    "\n",
    "def get_cls_embedding(sentence):\n",
    "    inputs = tokenizer(sentence, return_tensors='pt', truncation=True, padding=True)\n",
    "    with torch.no_grad():\n",
    "        outputs = model_bert(**inputs)\n",
    "    cls_embedding = outputs.last_hidden_state[0, 0, :]  # CLS token\n",
    "    return cls_embedding.numpy()\n",
    "\n",
    "sent1 = \"India is a diverse country\"\n",
    "sent2 = \"Canada is a multicultural nation\"\n",
    "\n",
    "vec1 = get_cls_embedding(sent1)\n",
    "vec2 = get_cls_embedding(sent2)\n",
    "\n",
    "similarity = cosine_similarity([vec1], [vec2])[0][0]\n",
    "print(f\"BERT [CLS] similarity between the two sentences: {similarity:.4f}\")\n"
   ]
  },
  {
   "cell_type": "markdown",
   "id": "85f8a40f-91f0-4c24-950b-3151b36ce8cd",
   "metadata": {},
   "source": [
    "# June 10 – Sparse vs Dense Features"
   ]
  },
  {
   "cell_type": "markdown",
   "id": "35809c6a-15e1-44df-bfe0-237c55f7db21",
   "metadata": {},
   "source": [
    "## 🔍 Sparse vs Dense Representations in NLP\n",
    "\n",
    "Text must be converted into numeric form before feeding into ML models. Two main representations are:\n",
    "\n",
    "---\n",
    "\n",
    "### 1. Sparse Representation (TF-IDF)\n",
    "\n",
    "- Each document is represented as a **high-dimensional sparse vector**.\n",
    "- Size of vector = Vocabulary size.\n",
    "- TF-IDF = Term Frequency × Inverse Document Frequency.\n",
    "\n",
    "Advantage: Easy to compute, interpretable.  \n",
    "Disadvantage: Doesn't capture word semantics or context.\n",
    "\n",
    "---\n",
    "\n",
    "### 2. Dense Representation (Word2Vec Mean)\n",
    "\n",
    "- Each word is mapped to a dense, low-dimensional vector (e.g., 100d).\n",
    "- A sentence is represented as the **mean of its word vectors**.\n",
    "\n",
    "Advantage: Captures meaning better.  \n",
    "Disadvantage: Loses word order, and naive averaging can be weak.\n"
   ]
  },
  {
   "cell_type": "code",
   "execution_count": 20,
   "id": "624af514-7553-4677-916c-f7b445c5c87d",
   "metadata": {},
   "outputs": [
    {
     "name": "stdout",
     "output_type": "stream",
     "text": [
      "Dataset loaded successfully.\n"
     ]
    }
   ],
   "source": [
    "# Load dataset\n",
    "from sklearn.datasets import fetch_20newsgroups\n",
    "data = fetch_20newsgroups(subset='all', download_if_missing=True)\n",
    "from sklearn.model_selection import train_test_split\n",
    "import numpy as np\n",
    "\n",
    "try:\n",
    "    categories = ['rec.autos', 'talk.religion.misc']\n",
    "    data = fetch_20newsgroups(subset='all', categories=categories, remove=('headers', 'footers', 'quotes'))\n",
    "    X, y = data.data, data.target\n",
    "    X_train, X_test, y_train, y_test = train_test_split(X, y, test_size=0.2, random_state=42)\n",
    "    print(\"Dataset loaded successfully.\")\n",
    "except Exception as e:\n",
    "    print(\"Error loading dataset:\", e)"
   ]
  },
  {
   "cell_type": "markdown",
   "id": "55dc652a-32d2-429b-b1fc-c080480e2357",
   "metadata": {},
   "source": [
    "### 🧪 Step 1: TF-IDF Vectorization + Logistic Regression\n"
   ]
  },
  {
   "cell_type": "code",
   "execution_count": 21,
   "id": "6f72d906-ea49-4140-a851-b69f1f1ff720",
   "metadata": {},
   "outputs": [
    {
     "name": "stdout",
     "output_type": "stream",
     "text": [
      "TF-IDF Accuracy: 0.8981, Time: 0.01s\n"
     ]
    }
   ],
   "source": [
    "from sklearn.feature_extraction.text import TfidfVectorizer\n",
    "from sklearn.linear_model import LogisticRegression\n",
    "from sklearn.metrics import accuracy_score\n",
    "import time\n",
    "\n",
    "tfidf = TfidfVectorizer(max_features=5000)\n",
    "X_train_tfidf = tfidf.fit_transform(X_train)\n",
    "X_test_tfidf = tfidf.transform(X_test)\n",
    "\n",
    "start = time.time()\n",
    "clf_tfidf = LogisticRegression(max_iter=1000)\n",
    "clf_tfidf.fit(X_train_tfidf, y_train)\n",
    "acc_tfidf = accuracy_score(y_test, clf_tfidf.predict(X_test_tfidf))\n",
    "print(f\"TF-IDF Accuracy: {acc_tfidf:.4f}, Time: {time.time() - start:.2f}s\")\n"
   ]
  },
  {
   "cell_type": "markdown",
   "id": "87586a1b-64e0-4377-bead-849cd40d5caa",
   "metadata": {},
   "source": [
    "### 🧪 Step 2: Word2Vec Mean Embedding + Logistic Regression\n"
   ]
  },
  {
   "cell_type": "code",
   "execution_count": 22,
   "id": "d7f71e3f-1910-422f-b482-07432017cc98",
   "metadata": {},
   "outputs": [],
   "source": [
    "from gensim.downloader import load\n",
    "glove = load(\"glove-wiki-gigaword-100\")\n",
    "\n",
    "def get_mean_vector(sentence, model):\n",
    "    words = sentence.lower().split()\n",
    "    vecs = [model[word] for word in words if word in model]\n",
    "    return np.mean(vecs, axis=0) if vecs else np.zeros(model.vector_size)\n",
    "\n",
    "X_train_vec = np.array([get_mean_vector(text, glove) for text in X_train])\n",
    "X_test_vec = np.array([get_mean_vector(text, glove) for text in X_test])\n"
   ]
  },
  {
   "cell_type": "code",
   "execution_count": 23,
   "id": "ce833ad7-e2ca-4d29-afa3-289a34d0c186",
   "metadata": {},
   "outputs": [
    {
     "name": "stdout",
     "output_type": "stream",
     "text": [
      "Word2Vec Mean Accuracy: 0.9228, Time: 0.04s\n"
     ]
    }
   ],
   "source": [
    "from sklearn.preprocessing import StandardScaler\n",
    "\n",
    "scaler = StandardScaler()\n",
    "X_train_scaled = scaler.fit_transform(X_train_vec)\n",
    "X_test_scaled = scaler.transform(X_test_vec)\n",
    "\n",
    "start = time.time()\n",
    "clf_w2v = LogisticRegression(max_iter=1000)\n",
    "clf_w2v.fit(X_train_scaled, y_train)\n",
    "acc_w2v = accuracy_score(y_test, clf_w2v.predict(X_test_scaled))\n",
    "print(f\"Word2Vec Mean Accuracy: {acc_w2v:.4f}, Time: {time.time() - start:.2f}s\")\n"
   ]
  },
  {
   "cell_type": "markdown",
   "id": "2a537ab2-64d0-4464-9f77-d94c040dc289",
   "metadata": {},
   "source": [
    "# June 11 – Word2Vec vs GloVe"
   ]
  },
  {
   "cell_type": "markdown",
   "id": "b7b37290-b912-4e8d-8b04-b71175765ade",
   "metadata": {},
   "source": [
    "## 🔁 Word2Vec vs GloVe\n",
    "\n",
    "| Method    | Idea                                        |\n",
    "|-----------|---------------------------------------------|\n",
    "| Word2Vec  | Trained to predict context words (local)    |\n",
    "| GloVe     | Factorizes word co-occurrence matrix (global) |\n",
    "\n",
    "Both generate **dense vectors**, but differ in training philosophy.\n",
    "\n",
    "Let’s train Word2Vec from scratch and compare with GloVe.\n"
   ]
  },
  {
   "cell_type": "code",
   "execution_count": 24,
   "id": "40e8cfde-1660-452b-90b0-33ddb85cdfa6",
   "metadata": {},
   "outputs": [
    {
     "name": "stderr",
     "output_type": "stream",
     "text": [
      "[nltk_data] Downloading package punkt to C:\\Users\\Asus/nltk_data...\n",
      "[nltk_data]   Package punkt is already up-to-date!\n"
     ]
    }
   ],
   "source": [
    "import nltk\n",
    "from nltk.tokenize import word_tokenize\n",
    "nltk.download(\"punkt\")\n",
    "\n",
    "corpus = [word_tokenize(doc.lower()) for doc in X_train]\n"
   ]
  },
  {
   "cell_type": "code",
   "execution_count": 25,
   "id": "9d9a4a41-c903-4de7-b695-102a9c3d875c",
   "metadata": {},
   "outputs": [
    {
     "name": "stdout",
     "output_type": "stream",
     "text": [
      "Training Word2Vec took 0.78 seconds\n"
     ]
    }
   ],
   "source": [
    "from gensim.models import Word2Vec\n",
    "\n",
    "start = time.time()\n",
    "w2v_model = Word2Vec(sentences=corpus, vector_size=100, window=5, min_count=2, workers=2)\n",
    "print(f\"Training Word2Vec took {time.time() - start:.2f} seconds\")\n"
   ]
  },
  {
   "cell_type": "markdown",
   "id": "a5ceaaa6-555e-411f-af1c-37e7abcf3e25",
   "metadata": {},
   "source": [
    "### 🔍 Vocab Size Comparison\n"
   ]
  },
  {
   "cell_type": "code",
   "execution_count": 26,
   "id": "99d7b1c4-b967-4b76-91f2-7405f402c0d6",
   "metadata": {},
   "outputs": [
    {
     "name": "stdout",
     "output_type": "stream",
     "text": [
      "GloVe vocab size: 400000\n",
      "Trained Word2Vec vocab size: 8598\n"
     ]
    }
   ],
   "source": [
    "print(f\"GloVe vocab size: {len(glove)}\")\n",
    "print(f\"Trained Word2Vec vocab size: {len(w2v_model.wv)}\")\n"
   ]
  },
  {
   "cell_type": "markdown",
   "id": "8d2b6710-43e7-423a-9046-e5d240fd8753",
   "metadata": {},
   "source": [
    "### 🧪 Evaluate Word2Vec (Trained) on Classification Task\n"
   ]
  },
  {
   "cell_type": "code",
   "execution_count": 27,
   "id": "74120e6a-b5fc-4150-8e57-b4e93eef8141",
   "metadata": {},
   "outputs": [
    {
     "name": "stdout",
     "output_type": "stream",
     "text": [
      "Word2Vec (trained) Accuracy: 0.8302\n"
     ]
    }
   ],
   "source": [
    "def get_trained_vec(sentence, model):\n",
    "    words = sentence.lower().split()\n",
    "    vecs = [model[word] for word in words if word in model]\n",
    "    return np.mean(vecs, axis=0) if vecs else np.zeros(model.vector_size)\n",
    "\n",
    "X_train_vec2 = np.array([get_trained_vec(text, w2v_model.wv) for text in X_train])\n",
    "X_test_vec2 = np.array([get_trained_vec(text, w2v_model.wv) for text in X_test])\n",
    "\n",
    "X_train_vec2 = scaler.fit_transform(X_train_vec2)\n",
    "X_test_vec2 = scaler.transform(X_test_vec2)\n",
    "\n",
    "clf_w2v2 = LogisticRegression(max_iter=1000)\n",
    "clf_w2v2.fit(X_train_vec2, y_train)\n",
    "acc_w2v2 = accuracy_score(y_test, clf_w2v2.predict(X_test_vec2))\n",
    "print(f\"Word2Vec (trained) Accuracy: {acc_w2v2:.4f}\")\n"
   ]
  },
  {
   "cell_type": "markdown",
   "id": "6447fd5c-8dcc-4879-92d0-b8d0999a97ed",
   "metadata": {},
   "source": [
    "# June 12 (Thu) – 🧠 Sentence Transformers"
   ]
  },
  {
   "cell_type": "markdown",
   "id": "90d194c0-d1c7-433d-9f5f-3a881d79e1b7",
   "metadata": {},
   "source": [
    "## 🧠 Sentence Embeddings using Sentence Transformers\n",
    "\n",
    "Sentence-BERT models are pretrained using **Siamese networks** to generate meaningful sentence vectors.\n",
    "\n",
    "We’ll use:\n",
    "- `all-MiniLM-L6-v2`: Lightweight, fast, and high-performing model.\n",
    "\n",
    "Goal: Generate sentence embeddings and use them in classification.\n"
   ]
  },
  {
   "cell_type": "code",
   "execution_count": 28,
   "id": "7b01c806-d971-4250-bddd-d7fef2ab316d",
   "metadata": {},
   "outputs": [
    {
     "name": "stderr",
     "output_type": "stream",
     "text": [
      "\n",
      "[notice] A new release of pip is available: 24.3.1 -> 25.1.1\n",
      "[notice] To update, run: python.exe -m pip install --upgrade pip\n"
     ]
    },
    {
     "name": "stdout",
     "output_type": "stream",
     "text": [
      "Requirement already satisfied: sentence-transformers in c:\\users\\asus\\appdata\\local\\programs\\python\\python311\\lib\\site-packages (4.1.0)\n",
      "Requirement already satisfied: transformers<5.0.0,>=4.41.0 in c:\\users\\asus\\appdata\\local\\programs\\python\\python311\\lib\\site-packages (from sentence-transformers) (4.52.4)\n",
      "Requirement already satisfied: tqdm in c:\\users\\asus\\appdata\\local\\programs\\python\\python311\\lib\\site-packages (from sentence-transformers) (4.67.1)\n",
      "Requirement already satisfied: torch>=1.11.0 in c:\\users\\asus\\appdata\\local\\programs\\python\\python311\\lib\\site-packages (from sentence-transformers) (2.7.0+cpu)\n",
      "Requirement already satisfied: scikit-learn in c:\\users\\asus\\appdata\\local\\programs\\python\\python311\\lib\\site-packages (from sentence-transformers) (1.4.2)\n",
      "Requirement already satisfied: scipy in c:\\users\\asus\\appdata\\local\\programs\\python\\python311\\lib\\site-packages (from sentence-transformers) (1.11.3)\n",
      "Requirement already satisfied: huggingface-hub>=0.20.0 in c:\\users\\asus\\appdata\\local\\programs\\python\\python311\\lib\\site-packages (from sentence-transformers) (0.32.3)\n",
      "Requirement already satisfied: Pillow in c:\\users\\asus\\appdata\\local\\programs\\python\\python311\\lib\\site-packages (from sentence-transformers) (11.0.0)\n",
      "Requirement already satisfied: typing_extensions>=4.5.0 in c:\\users\\asus\\appdata\\local\\programs\\python\\python311\\lib\\site-packages (from sentence-transformers) (4.12.2)\n",
      "Requirement already satisfied: filelock in c:\\users\\asus\\appdata\\local\\programs\\python\\python311\\lib\\site-packages (from huggingface-hub>=0.20.0->sentence-transformers) (3.18.0)\n",
      "Requirement already satisfied: fsspec>=2023.5.0 in c:\\users\\asus\\appdata\\local\\programs\\python\\python311\\lib\\site-packages (from huggingface-hub>=0.20.0->sentence-transformers) (2025.3.0)\n",
      "Requirement already satisfied: packaging>=20.9 in c:\\users\\asus\\appdata\\local\\programs\\python\\python311\\lib\\site-packages (from huggingface-hub>=0.20.0->sentence-transformers) (24.2)\n",
      "Requirement already satisfied: pyyaml>=5.1 in c:\\users\\asus\\appdata\\local\\programs\\python\\python311\\lib\\site-packages (from huggingface-hub>=0.20.0->sentence-transformers) (6.0.2)\n",
      "Requirement already satisfied: requests in c:\\users\\asus\\appdata\\local\\programs\\python\\python311\\lib\\site-packages (from huggingface-hub>=0.20.0->sentence-transformers) (2.32.3)\n",
      "Requirement already satisfied: sympy>=1.13.3 in c:\\users\\asus\\appdata\\local\\programs\\python\\python311\\lib\\site-packages (from torch>=1.11.0->sentence-transformers) (1.14.0)\n",
      "Requirement already satisfied: networkx in c:\\users\\asus\\appdata\\local\\programs\\python\\python311\\lib\\site-packages (from torch>=1.11.0->sentence-transformers) (3.4.2)\n",
      "Requirement already satisfied: jinja2 in c:\\users\\asus\\appdata\\local\\programs\\python\\python311\\lib\\site-packages (from torch>=1.11.0->sentence-transformers) (3.1.4)\n",
      "Requirement already satisfied: colorama in c:\\users\\asus\\appdata\\local\\programs\\python\\python311\\lib\\site-packages (from tqdm->sentence-transformers) (0.4.6)\n",
      "Requirement already satisfied: numpy>=1.17 in c:\\users\\asus\\appdata\\local\\programs\\python\\python311\\lib\\site-packages (from transformers<5.0.0,>=4.41.0->sentence-transformers) (1.26.4)\n",
      "Requirement already satisfied: regex!=2019.12.17 in c:\\users\\asus\\appdata\\local\\programs\\python\\python311\\lib\\site-packages (from transformers<5.0.0,>=4.41.0->sentence-transformers) (2024.11.6)\n",
      "Requirement already satisfied: tokenizers<0.22,>=0.21 in c:\\users\\asus\\appdata\\local\\programs\\python\\python311\\lib\\site-packages (from transformers<5.0.0,>=4.41.0->sentence-transformers) (0.21.1)\n",
      "Requirement already satisfied: safetensors>=0.4.3 in c:\\users\\asus\\appdata\\local\\programs\\python\\python311\\lib\\site-packages (from transformers<5.0.0,>=4.41.0->sentence-transformers) (0.5.3)\n",
      "Requirement already satisfied: joblib>=1.2.0 in c:\\users\\asus\\appdata\\local\\programs\\python\\python311\\lib\\site-packages (from scikit-learn->sentence-transformers) (1.4.2)\n",
      "Requirement already satisfied: threadpoolctl>=2.0.0 in c:\\users\\asus\\appdata\\local\\programs\\python\\python311\\lib\\site-packages (from scikit-learn->sentence-transformers) (3.5.0)\n",
      "Requirement already satisfied: mpmath<1.4,>=1.1.0 in c:\\users\\asus\\appdata\\local\\programs\\python\\python311\\lib\\site-packages (from sympy>=1.13.3->torch>=1.11.0->sentence-transformers) (1.3.0)\n",
      "Requirement already satisfied: MarkupSafe>=2.0 in c:\\users\\asus\\appdata\\local\\programs\\python\\python311\\lib\\site-packages (from jinja2->torch>=1.11.0->sentence-transformers) (3.0.2)\n",
      "Requirement already satisfied: charset-normalizer<4,>=2 in c:\\users\\asus\\appdata\\local\\programs\\python\\python311\\lib\\site-packages (from requests->huggingface-hub>=0.20.0->sentence-transformers) (3.4.0)\n",
      "Requirement already satisfied: idna<4,>=2.5 in c:\\users\\asus\\appdata\\local\\programs\\python\\python311\\lib\\site-packages (from requests->huggingface-hub>=0.20.0->sentence-transformers) (3.10)\n",
      "Requirement already satisfied: urllib3<3,>=1.21.1 in c:\\users\\asus\\appdata\\local\\programs\\python\\python311\\lib\\site-packages (from requests->huggingface-hub>=0.20.0->sentence-transformers) (2.2.3)\n",
      "Requirement already satisfied: certifi>=2017.4.17 in c:\\users\\asus\\appdata\\local\\programs\\python\\python311\\lib\\site-packages (from requests->huggingface-hub>=0.20.0->sentence-transformers) (2024.12.14)\n",
      "SentenceTransformer encoding time: 36.31s\n"
     ]
    }
   ],
   "source": [
    "!pip install sentence-transformers\n",
    "from sentence_transformers import SentenceTransformer\n",
    "\n",
    "model_sbert = SentenceTransformer(\"all-MiniLM-L6-v2\")\n",
    "\n",
    "start = time.time()\n",
    "X_train_sbert = model_sbert.encode(X_train, convert_to_tensor=False)\n",
    "X_test_sbert = model_sbert.encode(X_test, convert_to_tensor=False)\n",
    "print(f\"SentenceTransformer encoding time: {time.time() - start:.2f}s\")\n"
   ]
  },
  {
   "cell_type": "code",
   "execution_count": 29,
   "id": "08a7dd76-4c58-4ce6-9b28-a80d1ed83861",
   "metadata": {},
   "outputs": [
    {
     "name": "stdout",
     "output_type": "stream",
     "text": [
      "Train label distribution: [792 502]\n",
      "Test label distribution: [198 126]\n"
     ]
    }
   ],
   "source": [
    "from sklearn.datasets import fetch_20newsgroups\n",
    "from sklearn.model_selection import train_test_split\n",
    "import numpy as np\n",
    "\n",
    "categories = ['rec.autos', 'talk.religion.misc']\n",
    "data = fetch_20newsgroups(subset='all', categories=categories, remove=('headers', 'footers', 'quotes'))\n",
    "\n",
    "X, y = data.data, data.target\n",
    "\n",
    "# ✅ Stratified split to keep class balance\n",
    "X_train, X_test, y_train, y_test = train_test_split(\n",
    "    X, y, test_size=0.2, random_state=42, stratify=y\n",
    ")\n",
    "\n",
    "import numpy as np\n",
    "print(\"Train label distribution:\", np.bincount(y_train))\n",
    "print(\"Test label distribution:\", np.bincount(y_test))\n",
    "\n"
   ]
  },
  {
   "cell_type": "code",
   "execution_count": 30,
   "id": "b2498216-ff73-446e-8784-31242e60731a",
   "metadata": {},
   "outputs": [
    {
     "name": "stdout",
     "output_type": "stream",
     "text": [
      "Sentence-BERT Accuracy: 0.9444\n"
     ]
    }
   ],
   "source": [
    "from sentence_transformers import SentenceTransformer\n",
    "from sklearn.linear_model import LogisticRegression\n",
    "from sklearn.metrics import accuracy_score\n",
    "\n",
    "model_sbert = SentenceTransformer(\"all-MiniLM-L6-v2\")\n",
    "X_train_sbert = model_sbert.encode(X_train, convert_to_tensor=False)\n",
    "X_test_sbert = model_sbert.encode(X_test, convert_to_tensor=False)\n",
    "\n",
    "clf_sbert = LogisticRegression(max_iter=1000)\n",
    "clf_sbert.fit(X_train_sbert, y_train)\n",
    "acc_sbert = accuracy_score(y_test, clf_sbert.predict(X_test_sbert))\n",
    "print(f\"Sentence-BERT Accuracy: {acc_sbert:.4f}\")\n"
   ]
  },
  {
   "cell_type": "markdown",
   "id": "5e7dfd2e-2a06-4ff1-b752-d2d1d8db9924",
   "metadata": {},
   "source": [
    "## 📊 Summary of Results\n",
    "\n",
    "| Representation          | Accuracy | Training Time | Notes                           |\n",
    "|-------------------------|----------|----------------|----------------------------------|\n",
    "| TF-IDF (Sparse)         | 0.898    | 0.02           | Interpretable, fast              |\n",
    "| GloVe (Mean Embedding)  | 0.922    | 0.04           | Dense, pretrained                |\n",
    "| Word2Vec (Trained)      | 0.8302   | 0.76           | Custom, smaller vocab            |\n",
    "| Sentence-BERT           | 0.9444   | 124.13         | Contextual, best quality         |\n"
   ]
  },
  {
   "cell_type": "code",
   "execution_count": null,
   "id": "ea8b5d8e-011e-458b-921a-5a37b2ae5e38",
   "metadata": {},
   "outputs": [],
   "source": []
  }
 ],
 "metadata": {
  "kernelspec": {
   "display_name": "Python 3 (ipykernel)",
   "language": "python",
   "name": "python3"
  },
  "language_info": {
   "codemirror_mode": {
    "name": "ipython",
    "version": 3
   },
   "file_extension": ".py",
   "mimetype": "text/x-python",
   "name": "python",
   "nbconvert_exporter": "python",
   "pygments_lexer": "ipython3",
   "version": "3.11.3"
  }
 },
 "nbformat": 4,
 "nbformat_minor": 5
}
