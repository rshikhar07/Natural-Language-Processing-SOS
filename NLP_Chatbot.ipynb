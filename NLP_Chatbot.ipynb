{
  "nbformat": 4,
  "nbformat_minor": 0,
  "metadata": {
    "colab": {
      "provenance": []
    },
    "kernelspec": {
      "name": "python3",
      "display_name": "Python 3"
    },
    "language_info": {
      "name": "python"
    }
  },
  "cells": [
    {
      "cell_type": "code",
      "source": [
        "import gradio as gr\n",
        "from transformers import pipeline, AutoTokenizer, AutoModelForSequenceClassification\n",
        "from lime.lime_text import LimeTextExplainer\n",
        "import torch\n",
        "\n",
        "# Load models\n",
        "sentiment_pipeline = pipeline(\"sentiment-analysis\", model=\"distilbert-base-uncased-finetuned-sst-2-english\")\n",
        "ner_pipeline = pipeline(\"ner\", model=\"dslim/bert-base-NER\", aggregation_strategy=\"simple\")\n",
        "tokenizer = AutoTokenizer.from_pretrained(\"distilbert-base-uncased-finetuned-sst-2-english\")\n",
        "model = AutoModelForSequenceClassification.from_pretrained(\"distilbert-base-uncased-finetuned-sst-2-english\")\n",
        "\n",
        "explainer = LimeTextExplainer(class_names=[\"NEGATIVE\", \"POSITIVE\"])\n",
        "\n",
        "def analyze(text, explain):\n",
        "    outputs = {}\n",
        "\n",
        "    # Sentiment\n",
        "    try:\n",
        "        sentiment = sentiment_pipeline(text)[0]\n",
        "        outputs[\"Sentiment\"] = f\"{sentiment['label']} ({sentiment['score']:.2f})\"\n",
        "    except Exception as e:\n",
        "        outputs[\"Sentiment\"] = f\"Error: {str(e)}\"\n",
        "\n",
        "    # NER\n",
        "    try:\n",
        "        ents = ner_pipeline(text)\n",
        "        if ents:\n",
        "            ner_out = \"\\n\".join([f\"{e['word']} → {e['entity_group']} ({e['score']:.2f})\" for e in ents])\n",
        "        else:\n",
        "            ner_out = \"No entities found.\"\n",
        "        outputs[\"NER\"] = ner_out\n",
        "    except Exception as e:\n",
        "        outputs[\"NER\"] = f\"Error: {str(e)}\"\n",
        "\n",
        "    # LIME\n",
        "    if explain:\n",
        "        try:\n",
        "            def predict_proba(texts):\n",
        "                inputs = tokenizer(texts, return_tensors=\"pt\", padding=True, truncation=True)\n",
        "                with torch.no_grad():\n",
        "                    outputs = model(**inputs)\n",
        "                probs = torch.nn.functional.softmax(outputs.logits, dim=1).detach().numpy()\n",
        "                return probs\n",
        "\n",
        "            exp = explainer.explain_instance(text, predict_proba, num_features=4)\n",
        "            lime_result = \"\\n\".join([f\"{word} → {weight:.2f}\" for word, weight in exp.as_list()])\n",
        "            outputs[\"LIME\"] = lime_result\n",
        "        except Exception as e:\n",
        "            outputs[\"LIME\"] = f\"Error: {str(e)}\"\n",
        "    else:\n",
        "        outputs[\"LIME\"] = \"LIME explanation skipped.\"\n",
        "\n",
        "    return outputs[\"Sentiment\"], outputs[\"NER\"], outputs[\"LIME\"]\n",
        "\n",
        "gr.Interface(\n",
        "    fn=analyze,\n",
        "    inputs=[\n",
        "        gr.Textbox(lines=4, label=\"Enter text\"),\n",
        "        gr.Checkbox(label=\"Run LIME Explanation (slower on CPU)\", value=False)\n",
        "    ],\n",
        "    outputs=[\n",
        "        gr.Textbox(label=\"Sentiment\"),\n",
        "        gr.Textbox(label=\"Named Entities\"),\n",
        "        gr.Textbox(label=\"LIME Explanation\")\n",
        "    ],\n",
        "    title=\"🧠 NLP Chatbot: Sentiment, NER, LIME\",\n",
        "    description=\"Fine-tuned Transformers with optional LIME-based explainability.\"\n",
        ").launch()\n"
      ],
      "metadata": {
        "colab": {
          "base_uri": "https://localhost:8080/",
          "height": 837
        },
        "id": "914l4WFAkIwR",
        "outputId": "b0d91bd5-4a00-439b-c3ad-d733b3ca62c7"
      },
      "execution_count": 1,
      "outputs": [
        {
          "output_type": "stream",
          "name": "stderr",
          "text": [
            "/usr/local/lib/python3.11/dist-packages/huggingface_hub/utils/_auth.py:94: UserWarning: \n",
            "The secret `HF_TOKEN` does not exist in your Colab secrets.\n",
            "To authenticate with the Hugging Face Hub, create a token in your settings tab (https://huggingface.co/settings/tokens), set it as secret in your Google Colab and restart your session.\n",
            "You will be able to reuse this secret in all of your notebooks.\n",
            "Please note that authentication is recommended but still optional to access public models or datasets.\n",
            "  warnings.warn(\n",
            "Device set to use cpu\n",
            "Some weights of the model checkpoint at dslim/bert-base-NER were not used when initializing BertForTokenClassification: ['bert.pooler.dense.bias', 'bert.pooler.dense.weight']\n",
            "- This IS expected if you are initializing BertForTokenClassification from the checkpoint of a model trained on another task or with another architecture (e.g. initializing a BertForSequenceClassification model from a BertForPreTraining model).\n",
            "- This IS NOT expected if you are initializing BertForTokenClassification from the checkpoint of a model that you expect to be exactly identical (initializing a BertForSequenceClassification model from a BertForSequenceClassification model).\n",
            "Device set to use cpu\n"
          ]
        },
        {
          "output_type": "stream",
          "name": "stdout",
          "text": [
            "It looks like you are running Gradio on a hosted a Jupyter notebook. For the Gradio app to work, sharing must be enabled. Automatically setting `share=True` (you can turn this off by setting `share=False` in `launch()` explicitly).\n",
            "\n",
            "Colab notebook detected. To show errors in colab notebook, set debug=True in launch()\n",
            "* Running on public URL: https://968980d193fae7012d.gradio.live\n",
            "\n",
            "This share link expires in 1 week. For free permanent hosting and GPU upgrades, run `gradio deploy` from the terminal in the working directory to deploy to Hugging Face Spaces (https://huggingface.co/spaces)\n"
          ]
        },
        {
          "output_type": "display_data",
          "data": {
            "text/plain": [
              "<IPython.core.display.HTML object>"
            ],
            "text/html": [
              "<div><iframe src=\"https://968980d193fae7012d.gradio.live\" width=\"100%\" height=\"500\" allow=\"autoplay; camera; microphone; clipboard-read; clipboard-write;\" frameborder=\"0\" allowfullscreen></iframe></div>"
            ]
          },
          "metadata": {}
        },
        {
          "output_type": "execute_result",
          "data": {
            "text/plain": []
          },
          "metadata": {},
          "execution_count": 1
        }
      ]
    },
    {
      "cell_type": "code",
      "source": [
        "import traceback\n",
        "\n",
        "def chatbot(user_input, history):\n",
        "    history = history or []\n",
        "    bot_response = \"\"\n",
        "\n",
        "    try:\n",
        "        # Sentiment\n",
        "        sentiment = sentiment_pipeline(user_input)[0]\n",
        "        bot_response += f\"🟡 **Sentiment:** `{sentiment['label']}` ({sentiment['score']:.2f})\\n\\n\"\n",
        "\n",
        "        # NER\n",
        "        ents = ner_pipeline(user_input)\n",
        "        if ents:\n",
        "            bot_response += \"**🧠 Named Entities:**\\n\"\n",
        "            for e in ents:\n",
        "                bot_response += f\"- `{e['word']}` → **{e['entity_group']}** ({e['score']:.2f})\\n\"\n",
        "        else:\n",
        "            bot_response += \"No named entities found.\\n\\n\"\n",
        "\n",
        "        # LIME\n",
        "        def predict_proba(texts):\n",
        "            inputs = tokenizer(texts, return_tensors=\"pt\", padding=True, truncation=True)\n",
        "            with torch.no_grad():\n",
        "                outputs = model(**inputs)\n",
        "            probs = torch.nn.functional.softmax(outputs.logits, dim=1).detach().numpy()\n",
        "            return probs\n",
        "\n",
        "        exp = explainer.explain_instance(user_input, predict_proba, num_features=4)\n",
        "        bot_response += \"\\n🧪 **LIME Explanation:**\\n\"\n",
        "        for word, weight in exp.as_list():\n",
        "            bot_response += f\"- `{word}` → weight = `{weight:.2f}`\\n\"\n",
        "\n",
        "    except Exception:\n",
        "        err = traceback.format_exc()\n",
        "        bot_response = f\"⚠️ **Error occurred:**\\n```\\n{err}\\n```\"\n",
        "\n",
        "    history.append((user_input, bot_response))\n",
        "    return history, history\n"
      ],
      "metadata": {
        "id": "cIAndNC7pRNV"
      },
      "execution_count": 2,
      "outputs": []
    },
    {
      "cell_type": "code",
      "source": [
        "import gradio as gr\n",
        "from transformers import pipeline\n",
        "\n",
        "# Load sentiment and NER models\n",
        "sentiment_pipeline = pipeline(\"sentiment-analysis\", model=\"distilbert-base-uncased-finetuned-sst-2-english\")\n",
        "ner_pipeline = pipeline(\"ner\", model=\"dslim/bert-base-NER\", aggregation_strategy=\"simple\")\n",
        "\n",
        "# Simplified chatbot function — no LIME, no state\n",
        "def debug_bot(text):\n",
        "    try:\n",
        "        sentiment = sentiment_pipeline(text)[0]\n",
        "        ents = ner_pipeline(text)\n",
        "\n",
        "        output = f\"🟡 Sentiment: **{sentiment['label']}** ({sentiment['score']:.2f})\\n\\n\"\n",
        "        if ents:\n",
        "            output += \"**🧠 Named Entities:**\\n\"\n",
        "            for e in ents:\n",
        "                output += f\"- `{e['word']}` → **{e['entity_group']}** ({e['score']:.2f})\\n\"\n",
        "        else:\n",
        "            output += \"No named entities found.\"\n",
        "\n",
        "        return output\n",
        "\n",
        "    except Exception as e:\n",
        "        return f\"❌ Error: {str(e)}\"\n",
        "\n",
        "# Interface\n",
        "gr.Interface(fn=debug_bot, inputs=\"text\", outputs=\"markdown\", title=\"Test: BERT Sentiment + NER\").launch()\n"
      ],
      "metadata": {
        "colab": {
          "base_uri": "https://localhost:8080/",
          "height": 732
        },
        "id": "Kp4FaDxEpgqd",
        "outputId": "796e86df-4a29-49fd-c256-f6cb9e837a03"
      },
      "execution_count": 3,
      "outputs": [
        {
          "output_type": "stream",
          "name": "stderr",
          "text": [
            "Device set to use cpu\n",
            "Some weights of the model checkpoint at dslim/bert-base-NER were not used when initializing BertForTokenClassification: ['bert.pooler.dense.bias', 'bert.pooler.dense.weight']\n",
            "- This IS expected if you are initializing BertForTokenClassification from the checkpoint of a model trained on another task or with another architecture (e.g. initializing a BertForSequenceClassification model from a BertForPreTraining model).\n",
            "- This IS NOT expected if you are initializing BertForTokenClassification from the checkpoint of a model that you expect to be exactly identical (initializing a BertForSequenceClassification model from a BertForSequenceClassification model).\n",
            "Device set to use cpu\n"
          ]
        },
        {
          "output_type": "stream",
          "name": "stdout",
          "text": [
            "It looks like you are running Gradio on a hosted a Jupyter notebook. For the Gradio app to work, sharing must be enabled. Automatically setting `share=True` (you can turn this off by setting `share=False` in `launch()` explicitly).\n",
            "\n",
            "Colab notebook detected. To show errors in colab notebook, set debug=True in launch()\n",
            "* Running on public URL: https://f124a1bd5b964f409c.gradio.live\n",
            "\n",
            "This share link expires in 1 week. For free permanent hosting and GPU upgrades, run `gradio deploy` from the terminal in the working directory to deploy to Hugging Face Spaces (https://huggingface.co/spaces)\n"
          ]
        },
        {
          "output_type": "display_data",
          "data": {
            "text/plain": [
              "<IPython.core.display.HTML object>"
            ],
            "text/html": [
              "<div><iframe src=\"https://f124a1bd5b964f409c.gradio.live\" width=\"100%\" height=\"500\" allow=\"autoplay; camera; microphone; clipboard-read; clipboard-write;\" frameborder=\"0\" allowfullscreen></iframe></div>"
            ]
          },
          "metadata": {}
        },
        {
          "output_type": "execute_result",
          "data": {
            "text/plain": []
          },
          "metadata": {},
          "execution_count": 3
        }
      ]
    },
    {
      "cell_type": "code",
      "source": [
        "import nltk\n",
        "nltk.download('movie_reviews')\n",
        "from nltk.corpus import movie_reviews\n",
        "\n",
        "# Load reviews and labels\n",
        "docs = [\" \".join(movie_reviews.words(fileid)) for fileid in movie_reviews.fileids()]\n",
        "labels = [fileid.split('/')[0] for fileid in movie_reviews.fileids()]  # pos/neg\n",
        "\n",
        "print(f\"Loaded {len(docs)} reviews. Example:\\n\\n{docs[0][:500]}\")\n"
      ],
      "metadata": {
        "colab": {
          "base_uri": "https://localhost:8080/"
        },
        "id": "DcShWwzWrcE2",
        "outputId": "ed07624c-0d70-4ed7-c8a7-af5fb781b776"
      },
      "execution_count": 4,
      "outputs": [
        {
          "output_type": "stream",
          "name": "stderr",
          "text": [
            "[nltk_data] Downloading package movie_reviews to /root/nltk_data...\n",
            "[nltk_data]   Package movie_reviews is already up-to-date!\n"
          ]
        },
        {
          "output_type": "stream",
          "name": "stdout",
          "text": [
            "Loaded 2000 reviews. Example:\n",
            "\n",
            "plot : two teen couples go to a church party , drink and then drive . they get into an accident . one of the guys dies , but his girlfriend continues to see him in her life , and has nightmares . what ' s the deal ? watch the movie and \" sorta \" find out . . . critique : a mind - fuck movie for the teen generation that touches on a very cool idea , but presents it in a very bad package . which is what makes this review an even harder one to write , since i generally applaud films which attempt t\n"
          ]
        }
      ]
    },
    {
      "cell_type": "code",
      "source": [
        "%matplotlib inline\n",
        "\n",
        "from sklearn.feature_extraction.text import TfidfVectorizer\n",
        "import pandas as pd\n",
        "import matplotlib.pyplot as plt\n",
        "\n",
        "# Vectorize reviews\n",
        "vectorizer = TfidfVectorizer(stop_words='english', max_features=1000)\n",
        "tfidf_matrix = vectorizer.fit_transform(docs)\n",
        "feature_names = vectorizer.get_feature_names_out()\n",
        "\n",
        "# Average TF-IDF scores across all documents\n",
        "avg_scores = tfidf_matrix.mean(axis=0).A1\n",
        "tfidf_df = pd.DataFrame({'term': feature_names, 'score': avg_scores})\n",
        "top_n = 20\n",
        "top_keywords = tfidf_df.sort_values(by='score', ascending=False).head(top_n)\n",
        "\n",
        "# Plot\n",
        "plt.figure(figsize=(10, 5))\n",
        "plt.barh(top_keywords['term'][::-1], top_keywords['score'][::-1], color='skyblue')\n",
        "plt.title(\"Top TF-IDF Keywords in Movie Reviews\")\n",
        "plt.xlabel(\"Average TF-IDF Score\")\n",
        "plt.tight_layout()\n",
        "plt.show()\n"
      ],
      "metadata": {
        "colab": {
          "base_uri": "https://localhost:8080/",
          "height": 507
        },
        "id": "D85C_Ww-sQfD",
        "outputId": "f249e866-a153-414e-af67-4e0dce4ad96e"
      },
      "execution_count": 5,
      "outputs": [
        {
          "output_type": "display_data",
          "data": {
            "text/plain": [
              "<Figure size 1000x500 with 1 Axes>"
            ],
            "image/png": "[encoded data removed]"
          },
          "metadata": {}
        }
      ]
    },
    {
      "cell_type": "code",
      "source": [
        "!pip install gensim\n",
        "from gensim.models import Word2Vec\n",
        "from nltk.tokenize import word_tokenize\n",
        "import nltk\n",
        "nltk.download('punkt')\n",
        "nltk.download('punkt_tab') # Add this line to download the required resource\n",
        "\n",
        "# Tokenize all reviews\n",
        "tokenized_reviews = [word_tokenize(doc.lower()) for doc in docs]\n",
        "\n",
        "# Train Word2Vec model\n",
        "w2v_model = Word2Vec(sentences=tokenized_reviews, vector_size=100, window=5, min_count=2, workers=4)\n",
        "print(\"✅ Word2Vec model trained.\")"
      ],
      "metadata": {
        "colab": {
          "base_uri": "https://localhost:8080/"
        },
        "id": "qOEqLtOqsXMb",
        "outputId": "f3913c10-e88e-42f7-c21d-fe3ec2970b42"
      },
      "execution_count": 7,
      "outputs": [
        {
          "output_type": "stream",
          "name": "stdout",
          "text": [
            "Requirement already satisfied: gensim in /usr/local/lib/python3.11/dist-packages (4.3.3)\n",
            "Requirement already satisfied: numpy<2.0,>=1.18.5 in /usr/local/lib/python3.11/dist-packages (from gensim) (1.26.4)\n",
            "Requirement already satisfied: scipy<1.14.0,>=1.7.0 in /usr/local/lib/python3.11/dist-packages (from gensim) (1.13.1)\n",
            "Requirement already satisfied: smart-open>=1.8.1 in /usr/local/lib/python3.11/dist-packages (from gensim) (7.3.0.post1)\n",
            "Requirement already satisfied: wrapt in /usr/local/lib/python3.11/dist-packages (from smart-open>=1.8.1->gensim) (1.17.2)\n"
          ]
        },
        {
          "output_type": "stream",
          "name": "stderr",
          "text": [
            "[nltk_data] Downloading package punkt to /root/nltk_data...\n",
            "[nltk_data]   Package punkt is already up-to-date!\n",
            "[nltk_data] Downloading package punkt_tab to /root/nltk_data...\n",
            "[nltk_data]   Unzipping tokenizers/punkt_tab.zip.\n"
          ]
        },
        {
          "output_type": "stream",
          "name": "stdout",
          "text": [
            "✅ Word2Vec model trained.\n"
          ]
        }
      ]
    },
    {
      "cell_type": "code",
      "source": [
        "# Input any word to find top 10 similar words\n",
        "query = \"love\"\n",
        "if query in w2v_model.wv:\n",
        "    similar_words = w2v_model.wv.most_similar(query, topn=10)\n",
        "    print(f\"\\n🔁 Words similar to '{query}':\\n\")\n",
        "    for word, score in similar_words:\n",
        "        print(f\"{word:15} → {score:.2f}\")\n",
        "else:\n",
        "    print(f\"'{query}' not in vocabulary.\")\n"
      ],
      "metadata": {
        "colab": {
          "base_uri": "https://localhost:8080/"
        },
        "id": "lyLCW009st3y",
        "outputId": "d7d9cf00-7a26-46da-f332-ff78f98a6ae4"
      },
      "execution_count": 8,
      "outputs": [
        {
          "output_type": "stream",
          "name": "stdout",
          "text": [
            "\n",
            "🔁 Words similar to 'love':\n",
            "\n",
            "hope            → 0.60\n",
            "lost            → 0.59\n",
            "living          → 0.57\n",
            "kiss            → 0.57\n",
            "god             → 0.56\n",
            "family          → 0.55\n",
            "kinfolk         → 0.55\n",
            "hate            → 0.55\n",
            "dead            → 0.55\n",
            "replacements    → 0.55\n"
          ]
        }
      ]
    },
    {
      "cell_type": "code",
      "source": [
        "import gradio as gr\n",
        "\n",
        "# Define prediction function\n",
        "def find_similar(word):\n",
        "    word = word.strip().lower()\n",
        "    if word in w2v_model.wv:\n",
        "        similar = w2v_model.wv.most_similar(word, topn=10)\n",
        "        output = f\"🔁 **Words similar to** `{word}`:\\n\\n\"\n",
        "        for w, score in similar:\n",
        "            output += f\"- `{w}` → {score:.2f}\\n\"\n",
        "        return output\n",
        "    else:\n",
        "        return f\"⚠️ `{word}` not in vocabulary. Try another word.\"\n",
        "\n",
        "# Gradio app\n",
        "gr.Interface(\n",
        "    fn=find_similar,\n",
        "    inputs=gr.Textbox(label=\"Enter a word (e.g. love, horror, great)\"),\n",
        "    outputs=gr.Markdown(),\n",
        "    title=\"🔍 Word2Vec Explorer\",\n",
        "    description=\"Enter any word from the movie reviews dataset to see similar words using Gensim Word2Vec.\"\n",
        ").launch()\n"
      ],
      "metadata": {
        "colab": {
          "base_uri": "https://localhost:8080/",
          "height": 646
        },
        "id": "FWZwTuujsyAj",
        "outputId": "1a77da3e-37f5-447a-add2-f77964a94870"
      },
      "execution_count": 9,
      "outputs": [
        {
          "output_type": "stream",
          "name": "stdout",
          "text": [
            "It looks like you are running Gradio on a hosted a Jupyter notebook. For the Gradio app to work, sharing must be enabled. Automatically setting `share=True` (you can turn this off by setting `share=False` in `launch()` explicitly).\n",
            "\n",
            "Colab notebook detected. To show errors in colab notebook, set debug=True in launch()\n",
            "* Running on public URL: https://253b56df6739b076bb.gradio.live\n",
            "\n",
            "This share link expires in 1 week. For free permanent hosting and GPU upgrades, run `gradio deploy` from the terminal in the working directory to deploy to Hugging Face Spaces (https://huggingface.co/spaces)\n"
          ]
        },
        {
          "output_type": "display_data",
          "data": {
            "text/plain": [
              "<IPython.core.display.HTML object>"
            ],
            "text/html": [
              "<div><iframe src=\"https://253b56df6739b076bb.gradio.live\" width=\"100%\" height=\"500\" allow=\"autoplay; camera; microphone; clipboard-read; clipboard-write;\" frameborder=\"0\" allowfullscreen></iframe></div>"
            ]
          },
          "metadata": {}
        },
        {
          "output_type": "execute_result",
          "data": {
            "text/plain": []
          },
          "metadata": {},
          "execution_count": 9
        }
      ]
    },
    {
      "cell_type": "code",
      "source": [],
      "metadata": {
        "id": "-iR4hz1Kt1wu"
      },
      "execution_count": null,
      "outputs": []
    }
  ]
}